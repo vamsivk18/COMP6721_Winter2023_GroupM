{
 "cells": [
  {
   "cell_type": "code",
   "execution_count": 3,
   "id": "108197af",
   "metadata": {},
   "outputs": [
    {
     "name": "stdout",
     "output_type": "stream",
     "text": [
      "Collecting package metadata (current_repodata.json): ...working... done\n",
      "Note: you may need to restart the kernel to use updated packages.\n",
      "\n",
      "Solving environment: ...working... done\n",
      "\n",
      "# All requested packages already installed.\n",
      "\n"
     ]
    }
   ],
   "source": [
    "#conda install pytorch torchvision torchaudio pytorch-cuda=11.7 -c pytorch -c nvidia"
   ]
  },
  {
   "cell_type": "code",
   "execution_count": 6,
   "id": "dc1abf3c",
   "metadata": {},
   "outputs": [],
   "source": [
    "import torch\n",
    "import os\n",
    "import torchvision\n",
    "import torchvision.transforms as transforms"
   ]
  },
  {
   "cell_type": "code",
   "execution_count": 17,
   "id": "86b53d3e",
   "metadata": {},
   "outputs": [
    {
     "data": {
      "text/plain": [
       "['Apple_healthy',\n",
       " 'Apple_unhealthy',\n",
       " 'Corn_healthy',\n",
       " 'Corn_unhealthy',\n",
       " 'Grape_healthy',\n",
       " 'Grape_unhealthy',\n",
       " 'Potato_healthy',\n",
       " 'Potato_unhealthy',\n",
       " 'Tomato_healthy',\n",
       " 'Tomato_unhealthy']"
      ]
     },
     "execution_count": 17,
     "metadata": {},
     "output_type": "execute_result"
    }
   ],
   "source": [
    "os.listdir('./dataset_10_classes/dataset_10_classes/')"
   ]
  },
  {
   "cell_type": "code",
   "execution_count": null,
   "id": "caa607fe",
   "metadata": {},
   "outputs": [],
   "source": [
    "dataset_path = './dataset_10_classes/dataset_10_classes/'"
   ]
  },
  {
   "cell_type": "code",
   "execution_count": 10,
   "id": "e1ec0c1b",
   "metadata": {},
   "outputs": [],
   "source": [
    "data_transforms = transforms.Compose([transforms.Resize((224,224)),transforms.ToTensor()])"
   ]
  },
  {
   "cell_type": "code",
   "execution_count": 13,
   "id": "ce0444bf",
   "metadata": {},
   "outputs": [],
   "source": [
    "dataset = torchvision.datasets.ImageFolder(root = dataset_path,transform = data_transforms)"
   ]
  },
  {
   "cell_type": "code",
   "execution_count": 14,
   "id": "d29a85f7",
   "metadata": {},
   "outputs": [],
   "source": [
    "data_loader = torch.utils.data.DataLoader(dataset = dataset,batch_size=32,shuffle=False)"
   ]
  },
  {
   "cell_type": "code",
   "execution_count": 15,
   "id": "dddbaba5",
   "metadata": {},
   "outputs": [],
   "source": [
    "def get_mean_and_std(loader):\n",
    "    mean = 0.\n",
    "    std = 0.\n",
    "    total_images_count = 0\n",
    "    for images, _ in loader:\n",
    "        image_count_in_a_batch = images.size(0)\n",
    "        images = images.view(image_count_in_a_batch,images.size(1),-1)\n",
    "        mean += images.mean(2).sum(0)\n",
    "        std += images.std(2).sum(0)\n",
    "        total_images_count += image_count_in_a_batch\n",
    "    mean /= total_images_count\n",
    "    std /= total_images_count\n",
    "    return mean,std"
   ]
  },
  {
   "cell_type": "code",
   "execution_count": 16,
   "id": "bdffdd3a",
   "metadata": {},
   "outputs": [
    {
     "data": {
      "text/plain": [
       "(tensor([0.4569, 0.4829, 0.4088]), tensor([0.1677, 0.1450, 0.1850]))"
      ]
     },
     "execution_count": 16,
     "metadata": {},
     "output_type": "execute_result"
    }
   ],
   "source": [
    "get_mean_and_std(data_loader)"
   ]
  },
  {
   "cell_type": "code",
   "execution_count": null,
   "id": "79fd0ccf",
   "metadata": {},
   "outputs": [],
   "source": []
  }
 ],
 "metadata": {
  "kernelspec": {
   "display_name": "Python 3 (ipykernel)",
   "language": "python",
   "name": "python3"
  },
  "language_info": {
   "codemirror_mode": {
    "name": "ipython",
    "version": 3
   },
   "file_extension": ".py",
   "mimetype": "text/x-python",
   "name": "python",
   "nbconvert_exporter": "python",
   "pygments_lexer": "ipython3",
   "version": "3.10.9"
  }
 },
 "nbformat": 4,
 "nbformat_minor": 5
}
