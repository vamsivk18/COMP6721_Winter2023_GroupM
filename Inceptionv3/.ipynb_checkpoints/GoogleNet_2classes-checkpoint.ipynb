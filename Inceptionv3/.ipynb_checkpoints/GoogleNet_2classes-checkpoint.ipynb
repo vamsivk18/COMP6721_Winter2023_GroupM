{
 "cells": [
  {
   "cell_type": "code",
   "execution_count": 2,
   "metadata": {
    "id": "qxfGGL4cxa8j"
   },
   "outputs": [],
   "source": [
    "import torch.nn as nn\n",
    "import torch\n",
    "import torchvision.transforms as transforms\n",
    "from torchsummary import summary\n",
    "import torchvision\n",
    "import time\n",
    "import matplotlib.pyplot as plt\n",
    "import numpy as np\n",
    "from sklearn.metrics import confusion_matrix\n",
    "import pandas as pd\n",
    "import seaborn as sns\n",
    "import os\n",
    "from google.colab import files\n",
    "from google.colab import drive\n",
    "import torchvision.models as models"
   ]
  },
  {
   "cell_type": "code",
   "execution_count": 3,
   "metadata": {
    "colab": {
     "base_uri": "https://localhost:8080/"
    },
    "id": "-p0JmmwwyLKA",
    "outputId": "98d81d6c-7e2c-4197-cc7c-fffb1fb8042a"
   },
   "outputs": [
    {
     "name": "stdout",
     "output_type": "stream",
     "text": [
      "Mounted at /content/drive\n"
     ]
    }
   ],
   "source": [
    "from google.colab import drive\n",
    "drive.mount('/content/drive')"
   ]
  },
  {
   "cell_type": "code",
   "execution_count": 4,
   "metadata": {
    "colab": {
     "base_uri": "https://localhost:8080/"
    },
    "id": "IACwTcnzyR6K",
    "outputId": "b07d4cb9-60d3-484b-feef-44e808cd359c"
   },
   "outputs": [
    {
     "name": "stdout",
     "output_type": "stream",
     "text": [
      "Done\n"
     ]
    }
   ],
   "source": [
    "from zipfile import *\n",
    "file_name = \"/content/drive/MyDrive//dataset_2_classes.zip\" \n",
    "with ZipFile(file_name, 'r') as zip:\n",
    "  zip.extractall()\n",
    "  print('Done')"
   ]
  },
  {
   "cell_type": "code",
   "execution_count": 5,
   "metadata": {
    "id": "nVzIkFWryT45"
   },
   "outputs": [],
   "source": [
    "def get_mean_std(loader):\n",
    "    mean = 0.\n",
    "    std = 0.\n",
    "    total_images_count = 0\n",
    "    for images,_ in loader:\n",
    "        images_count_in_batch = images.size(0)\n",
    "#         print(images.shape)\n",
    "        images =images.view(images_count_in_batch,images.size(1),-1)\n",
    "        mean+=images.mean(2).sum(0)\n",
    "        std+=images.std(2).sum(0)\n",
    "        total_images_count+=images_count_in_batch\n",
    "    mean /= total_images_count\n",
    "    std /= total_images_count\n",
    "    return mean,std"
   ]
  },
  {
   "cell_type": "code",
   "execution_count": 6,
   "metadata": {
    "id": "Ixqdv9t6yXUu"
   },
   "outputs": [],
   "source": [
    "def transform(dataset):\n",
    "    data_transform = transforms.Compose([transforms.Resize((224,224)),transforms.ToTensor()])\n",
    "    data_set=torchvision.datasets.ImageFolder(root=dataset,transform=data_transform)\n",
    "    data_loader=torch.utils.data.DataLoader(dataset=data_set,batch_size=32,shuffle=True)\n",
    "    mean,std=get_mean_std(data_loader)\n",
    "    data_transform = transforms.Compose([\n",
    "        transforms.Resize((299,299)),\n",
    "        transforms.RandomHorizontalFlip(),\n",
    "        transforms.RandomRotation(10),\n",
    "        transforms.ToTensor(),\n",
    "        transforms.Normalize(torch.Tensor(mean),torch.Tensor(std))\n",
    "    ])\n",
    "    data_set=torchvision.datasets.ImageFolder(root=dataset,transform=data_transform)\n",
    "    data_loader=torch.utils.data.DataLoader(dataset=data_set,batch_size=32,shuffle=True,drop_last=False,num_workers=0)\n",
    "    return data_loader,data_set"
   ]
  },
  {
   "cell_type": "code",
   "execution_count": 7,
   "metadata": {
    "id": "VadSlUgvyaGm"
   },
   "outputs": [],
   "source": [
    "train_dataset='dataset_2_classes/test/'\n",
    "train_loader,training_dataset=transform(train_dataset)"
   ]
  },
  {
   "cell_type": "code",
   "execution_count": 8,
   "metadata": {
    "id": "ZeYK682eyeXU"
   },
   "outputs": [],
   "source": [
    "validate_dataset='dataset_2_classes/validate/'\n",
    "validate_loader,validating_dataset=transform(validate_dataset)"
   ]
  },
  {
   "cell_type": "code",
   "execution_count": 9,
   "metadata": {
    "id": "LfhTOznAyhtQ"
   },
   "outputs": [],
   "source": [
    "test_dataset='dataset_2_classes/test/'\n",
    "test_loader,testing_dataset=transform(test_dataset)"
   ]
  },
  {
   "cell_type": "code",
   "execution_count": 10,
   "metadata": {
    "id": "Xi_Eggkqymr0"
   },
   "outputs": [],
   "source": [
    "def set_device():\n",
    "    device= torch.device(\"cuda:0\" if torch.cuda.is_available() else \"cpu\")\n",
    "    return device"
   ]
  },
  {
   "cell_type": "code",
   "execution_count": 11,
   "metadata": {
    "id": "gN58P1AIyoB8"
   },
   "outputs": [],
   "source": [
    "device=set_device()"
   ]
  },
  {
   "cell_type": "code",
   "execution_count": 12,
   "metadata": {
    "colab": {
     "base_uri": "https://localhost:8080/"
    },
    "id": "Ujzqx0hcy71K",
    "outputId": "815925d4-4f92-4108-b802-e823b39d0e71"
   },
   "outputs": [
    {
     "name": "stderr",
     "output_type": "stream",
     "text": [
      "/usr/local/lib/python3.9/dist-packages/torchvision/models/_utils.py:208: UserWarning: The parameter 'pretrained' is deprecated since 0.13 and may be removed in the future, please use 'weights' instead.\n",
      "  warnings.warn(\n",
      "/usr/local/lib/python3.9/dist-packages/torchvision/models/_utils.py:223: UserWarning: Arguments other than a weight enum or `None` for 'weights' are deprecated since 0.13 and may be removed in the future. The current behavior is equivalent to passing `weights=None`.\n",
      "  warnings.warn(msg)\n",
      "/usr/local/lib/python3.9/dist-packages/torchvision/models/googlenet.py:47: FutureWarning: The default weight initialization of GoogleNet will be changed in future releases of torchvision. If you wish to keep the old behavior (which leads to long initialization times due to scipy/scipy#11299), please set init_weights=True.\n",
      "  warnings.warn(\n"
     ]
    }
   ],
   "source": [
    "model= models.googlenet(pretrained=False)\n"
   ]
  },
  {
   "cell_type": "code",
   "execution_count": 13,
   "metadata": {
    "id": "ejgESEKMzUiH"
   },
   "outputs": [],
   "source": [
    "def get_model():\n",
    "    model = models.inception_v3(pretrained=True)\n",
    "    for param in model.parameters():\n",
    "        param.requires_grad = False #Freezing all the layers and changing only the below layers\n",
    "    model.avgpool = nn.AdaptiveAvgPool2d(output_size=(1,1))\n",
    "    model.fc = nn.Sequential(nn.Flatten(),\n",
    "                            nn.Linear(2048,128),\n",
    "                            nn.ReLU(),\n",
    "                            nn.Dropout(0.2),\n",
    "                            nn.Linear(128,6))\n",
    "    model.aux_logits = False\n",
    "    loss_fn = nn.CrossEntropyLoss()\n",
    "    optimizer = torch.optim.Adam(model.parameters(), lr= 1e-3)\n",
    "    return model.to(device), loss_fn, optimizer"
   ]
  },
  {
   "cell_type": "code",
   "execution_count": 14,
   "metadata": {
    "colab": {
     "base_uri": "https://localhost:8080/"
    },
    "id": "M5BapYDMz7s3",
    "outputId": "e78b12e4-33e2-43fd-fecc-896ef4f1d9d5"
   },
   "outputs": [
    {
     "name": "stdout",
     "output_type": "stream",
     "text": [
      "Looking in indexes: https://pypi.org/simple, https://us-python.pkg.dev/colab-wheels/public/simple/\n",
      "Requirement already satisfied: torchsummary in /usr/local/lib/python3.9/dist-packages (1.5.1)\n"
     ]
    }
   ],
   "source": [
    "!pip install torchsummary"
   ]
  },
  {
   "cell_type": "code",
   "execution_count": 15,
   "metadata": {
    "colab": {
     "base_uri": "https://localhost:8080/"
    },
    "id": "EdXCIug4z_oP",
    "outputId": "a395ae2f-27fa-41ea-bb51-fffa3b74c51f"
   },
   "outputs": [
    {
     "name": "stdout",
     "output_type": "stream",
     "text": [
      "----------------------------------------------------------------\n",
      "        Layer (type)               Output Shape         Param #\n",
      "================================================================\n",
      "            Conv2d-1         [-1, 64, 150, 150]           9,408\n",
      "       BatchNorm2d-2         [-1, 64, 150, 150]             128\n",
      "       BasicConv2d-3         [-1, 64, 150, 150]               0\n",
      "         MaxPool2d-4           [-1, 64, 75, 75]               0\n",
      "            Conv2d-5           [-1, 64, 75, 75]           4,096\n",
      "       BatchNorm2d-6           [-1, 64, 75, 75]             128\n",
      "       BasicConv2d-7           [-1, 64, 75, 75]               0\n",
      "            Conv2d-8          [-1, 192, 75, 75]         110,592\n",
      "       BatchNorm2d-9          [-1, 192, 75, 75]             384\n",
      "      BasicConv2d-10          [-1, 192, 75, 75]               0\n",
      "        MaxPool2d-11          [-1, 192, 37, 37]               0\n",
      "           Conv2d-12           [-1, 64, 37, 37]          12,288\n",
      "      BatchNorm2d-13           [-1, 64, 37, 37]             128\n",
      "      BasicConv2d-14           [-1, 64, 37, 37]               0\n",
      "           Conv2d-15           [-1, 96, 37, 37]          18,432\n",
      "      BatchNorm2d-16           [-1, 96, 37, 37]             192\n",
      "      BasicConv2d-17           [-1, 96, 37, 37]               0\n",
      "           Conv2d-18          [-1, 128, 37, 37]         110,592\n",
      "      BatchNorm2d-19          [-1, 128, 37, 37]             256\n",
      "      BasicConv2d-20          [-1, 128, 37, 37]               0\n",
      "           Conv2d-21           [-1, 16, 37, 37]           3,072\n",
      "      BatchNorm2d-22           [-1, 16, 37, 37]              32\n",
      "      BasicConv2d-23           [-1, 16, 37, 37]               0\n",
      "           Conv2d-24           [-1, 32, 37, 37]           4,608\n",
      "      BatchNorm2d-25           [-1, 32, 37, 37]              64\n",
      "      BasicConv2d-26           [-1, 32, 37, 37]               0\n",
      "        MaxPool2d-27          [-1, 192, 37, 37]               0\n",
      "           Conv2d-28           [-1, 32, 37, 37]           6,144\n",
      "      BatchNorm2d-29           [-1, 32, 37, 37]              64\n",
      "      BasicConv2d-30           [-1, 32, 37, 37]               0\n",
      "        Inception-31          [-1, 256, 37, 37]               0\n",
      "           Conv2d-32          [-1, 128, 37, 37]          32,768\n",
      "      BatchNorm2d-33          [-1, 128, 37, 37]             256\n",
      "      BasicConv2d-34          [-1, 128, 37, 37]               0\n",
      "           Conv2d-35          [-1, 128, 37, 37]          32,768\n",
      "      BatchNorm2d-36          [-1, 128, 37, 37]             256\n",
      "      BasicConv2d-37          [-1, 128, 37, 37]               0\n",
      "           Conv2d-38          [-1, 192, 37, 37]         221,184\n",
      "      BatchNorm2d-39          [-1, 192, 37, 37]             384\n",
      "      BasicConv2d-40          [-1, 192, 37, 37]               0\n",
      "           Conv2d-41           [-1, 32, 37, 37]           8,192\n",
      "      BatchNorm2d-42           [-1, 32, 37, 37]              64\n",
      "      BasicConv2d-43           [-1, 32, 37, 37]               0\n",
      "           Conv2d-44           [-1, 96, 37, 37]          27,648\n",
      "      BatchNorm2d-45           [-1, 96, 37, 37]             192\n",
      "      BasicConv2d-46           [-1, 96, 37, 37]               0\n",
      "        MaxPool2d-47          [-1, 256, 37, 37]               0\n",
      "           Conv2d-48           [-1, 64, 37, 37]          16,384\n",
      "      BatchNorm2d-49           [-1, 64, 37, 37]             128\n",
      "      BasicConv2d-50           [-1, 64, 37, 37]               0\n",
      "        Inception-51          [-1, 480, 37, 37]               0\n",
      "        MaxPool2d-52          [-1, 480, 18, 18]               0\n",
      "           Conv2d-53          [-1, 192, 18, 18]          92,160\n",
      "      BatchNorm2d-54          [-1, 192, 18, 18]             384\n",
      "      BasicConv2d-55          [-1, 192, 18, 18]               0\n",
      "           Conv2d-56           [-1, 96, 18, 18]          46,080\n",
      "      BatchNorm2d-57           [-1, 96, 18, 18]             192\n",
      "      BasicConv2d-58           [-1, 96, 18, 18]               0\n",
      "           Conv2d-59          [-1, 208, 18, 18]         179,712\n",
      "      BatchNorm2d-60          [-1, 208, 18, 18]             416\n",
      "      BasicConv2d-61          [-1, 208, 18, 18]               0\n",
      "           Conv2d-62           [-1, 16, 18, 18]           7,680\n",
      "      BatchNorm2d-63           [-1, 16, 18, 18]              32\n",
      "      BasicConv2d-64           [-1, 16, 18, 18]               0\n",
      "           Conv2d-65           [-1, 48, 18, 18]           6,912\n",
      "      BatchNorm2d-66           [-1, 48, 18, 18]              96\n",
      "      BasicConv2d-67           [-1, 48, 18, 18]               0\n",
      "        MaxPool2d-68          [-1, 480, 18, 18]               0\n",
      "           Conv2d-69           [-1, 64, 18, 18]          30,720\n",
      "      BatchNorm2d-70           [-1, 64, 18, 18]             128\n",
      "      BasicConv2d-71           [-1, 64, 18, 18]               0\n",
      "        Inception-72          [-1, 512, 18, 18]               0\n",
      "           Conv2d-73            [-1, 128, 4, 4]          65,536\n",
      "      BatchNorm2d-74            [-1, 128, 4, 4]             256\n",
      "      BasicConv2d-75            [-1, 128, 4, 4]               0\n",
      "           Linear-76                 [-1, 1024]       2,098,176\n",
      "          Dropout-77                 [-1, 1024]               0\n",
      "           Linear-78                 [-1, 1000]       1,025,000\n",
      "     InceptionAux-79                 [-1, 1000]               0\n",
      "           Conv2d-80          [-1, 160, 18, 18]          81,920\n",
      "      BatchNorm2d-81          [-1, 160, 18, 18]             320\n",
      "      BasicConv2d-82          [-1, 160, 18, 18]               0\n",
      "           Conv2d-83          [-1, 112, 18, 18]          57,344\n",
      "      BatchNorm2d-84          [-1, 112, 18, 18]             224\n",
      "      BasicConv2d-85          [-1, 112, 18, 18]               0\n",
      "           Conv2d-86          [-1, 224, 18, 18]         225,792\n",
      "      BatchNorm2d-87          [-1, 224, 18, 18]             448\n",
      "      BasicConv2d-88          [-1, 224, 18, 18]               0\n",
      "           Conv2d-89           [-1, 24, 18, 18]          12,288\n",
      "      BatchNorm2d-90           [-1, 24, 18, 18]              48\n",
      "      BasicConv2d-91           [-1, 24, 18, 18]               0\n",
      "           Conv2d-92           [-1, 64, 18, 18]          13,824\n",
      "      BatchNorm2d-93           [-1, 64, 18, 18]             128\n",
      "      BasicConv2d-94           [-1, 64, 18, 18]               0\n",
      "        MaxPool2d-95          [-1, 512, 18, 18]               0\n",
      "           Conv2d-96           [-1, 64, 18, 18]          32,768\n",
      "      BatchNorm2d-97           [-1, 64, 18, 18]             128\n",
      "      BasicConv2d-98           [-1, 64, 18, 18]               0\n",
      "        Inception-99          [-1, 512, 18, 18]               0\n",
      "          Conv2d-100          [-1, 128, 18, 18]          65,536\n",
      "     BatchNorm2d-101          [-1, 128, 18, 18]             256\n",
      "     BasicConv2d-102          [-1, 128, 18, 18]               0\n",
      "          Conv2d-103          [-1, 128, 18, 18]          65,536\n",
      "     BatchNorm2d-104          [-1, 128, 18, 18]             256\n",
      "     BasicConv2d-105          [-1, 128, 18, 18]               0\n",
      "          Conv2d-106          [-1, 256, 18, 18]         294,912\n",
      "     BatchNorm2d-107          [-1, 256, 18, 18]             512\n",
      "     BasicConv2d-108          [-1, 256, 18, 18]               0\n",
      "          Conv2d-109           [-1, 24, 18, 18]          12,288\n",
      "     BatchNorm2d-110           [-1, 24, 18, 18]              48\n",
      "     BasicConv2d-111           [-1, 24, 18, 18]               0\n",
      "          Conv2d-112           [-1, 64, 18, 18]          13,824\n",
      "     BatchNorm2d-113           [-1, 64, 18, 18]             128\n",
      "     BasicConv2d-114           [-1, 64, 18, 18]               0\n",
      "       MaxPool2d-115          [-1, 512, 18, 18]               0\n",
      "          Conv2d-116           [-1, 64, 18, 18]          32,768\n",
      "     BatchNorm2d-117           [-1, 64, 18, 18]             128\n",
      "     BasicConv2d-118           [-1, 64, 18, 18]               0\n",
      "       Inception-119          [-1, 512, 18, 18]               0\n",
      "          Conv2d-120          [-1, 112, 18, 18]          57,344\n",
      "     BatchNorm2d-121          [-1, 112, 18, 18]             224\n",
      "     BasicConv2d-122          [-1, 112, 18, 18]               0\n",
      "          Conv2d-123          [-1, 144, 18, 18]          73,728\n",
      "     BatchNorm2d-124          [-1, 144, 18, 18]             288\n",
      "     BasicConv2d-125          [-1, 144, 18, 18]               0\n",
      "          Conv2d-126          [-1, 288, 18, 18]         373,248\n",
      "     BatchNorm2d-127          [-1, 288, 18, 18]             576\n",
      "     BasicConv2d-128          [-1, 288, 18, 18]               0\n",
      "          Conv2d-129           [-1, 32, 18, 18]          16,384\n",
      "     BatchNorm2d-130           [-1, 32, 18, 18]              64\n",
      "     BasicConv2d-131           [-1, 32, 18, 18]               0\n",
      "          Conv2d-132           [-1, 64, 18, 18]          18,432\n",
      "     BatchNorm2d-133           [-1, 64, 18, 18]             128\n",
      "     BasicConv2d-134           [-1, 64, 18, 18]               0\n",
      "       MaxPool2d-135          [-1, 512, 18, 18]               0\n",
      "          Conv2d-136           [-1, 64, 18, 18]          32,768\n",
      "     BatchNorm2d-137           [-1, 64, 18, 18]             128\n",
      "     BasicConv2d-138           [-1, 64, 18, 18]               0\n",
      "       Inception-139          [-1, 528, 18, 18]               0\n",
      "          Conv2d-140            [-1, 128, 4, 4]          67,584\n",
      "     BatchNorm2d-141            [-1, 128, 4, 4]             256\n",
      "     BasicConv2d-142            [-1, 128, 4, 4]               0\n",
      "          Linear-143                 [-1, 1024]       2,098,176\n",
      "         Dropout-144                 [-1, 1024]               0\n",
      "          Linear-145                 [-1, 1000]       1,025,000\n",
      "    InceptionAux-146                 [-1, 1000]               0\n",
      "          Conv2d-147          [-1, 256, 18, 18]         135,168\n",
      "     BatchNorm2d-148          [-1, 256, 18, 18]             512\n",
      "     BasicConv2d-149          [-1, 256, 18, 18]               0\n",
      "          Conv2d-150          [-1, 160, 18, 18]          84,480\n",
      "     BatchNorm2d-151          [-1, 160, 18, 18]             320\n",
      "     BasicConv2d-152          [-1, 160, 18, 18]               0\n",
      "          Conv2d-153          [-1, 320, 18, 18]         460,800\n",
      "     BatchNorm2d-154          [-1, 320, 18, 18]             640\n",
      "     BasicConv2d-155          [-1, 320, 18, 18]               0\n",
      "          Conv2d-156           [-1, 32, 18, 18]          16,896\n",
      "     BatchNorm2d-157           [-1, 32, 18, 18]              64\n",
      "     BasicConv2d-158           [-1, 32, 18, 18]               0\n",
      "          Conv2d-159          [-1, 128, 18, 18]          36,864\n",
      "     BatchNorm2d-160          [-1, 128, 18, 18]             256\n",
      "     BasicConv2d-161          [-1, 128, 18, 18]               0\n",
      "       MaxPool2d-162          [-1, 528, 18, 18]               0\n",
      "          Conv2d-163          [-1, 128, 18, 18]          67,584\n",
      "     BatchNorm2d-164          [-1, 128, 18, 18]             256\n",
      "     BasicConv2d-165          [-1, 128, 18, 18]               0\n",
      "       Inception-166          [-1, 832, 18, 18]               0\n",
      "       MaxPool2d-167            [-1, 832, 9, 9]               0\n",
      "          Conv2d-168            [-1, 256, 9, 9]         212,992\n",
      "     BatchNorm2d-169            [-1, 256, 9, 9]             512\n",
      "     BasicConv2d-170            [-1, 256, 9, 9]               0\n",
      "          Conv2d-171            [-1, 160, 9, 9]         133,120\n",
      "     BatchNorm2d-172            [-1, 160, 9, 9]             320\n",
      "     BasicConv2d-173            [-1, 160, 9, 9]               0\n",
      "          Conv2d-174            [-1, 320, 9, 9]         460,800\n",
      "     BatchNorm2d-175            [-1, 320, 9, 9]             640\n",
      "     BasicConv2d-176            [-1, 320, 9, 9]               0\n",
      "          Conv2d-177             [-1, 32, 9, 9]          26,624\n",
      "     BatchNorm2d-178             [-1, 32, 9, 9]              64\n",
      "     BasicConv2d-179             [-1, 32, 9, 9]               0\n",
      "          Conv2d-180            [-1, 128, 9, 9]          36,864\n",
      "     BatchNorm2d-181            [-1, 128, 9, 9]             256\n",
      "     BasicConv2d-182            [-1, 128, 9, 9]               0\n",
      "       MaxPool2d-183            [-1, 832, 9, 9]               0\n",
      "          Conv2d-184            [-1, 128, 9, 9]         106,496\n",
      "     BatchNorm2d-185            [-1, 128, 9, 9]             256\n",
      "     BasicConv2d-186            [-1, 128, 9, 9]               0\n",
      "       Inception-187            [-1, 832, 9, 9]               0\n",
      "          Conv2d-188            [-1, 384, 9, 9]         319,488\n",
      "     BatchNorm2d-189            [-1, 384, 9, 9]             768\n",
      "     BasicConv2d-190            [-1, 384, 9, 9]               0\n",
      "          Conv2d-191            [-1, 192, 9, 9]         159,744\n",
      "     BatchNorm2d-192            [-1, 192, 9, 9]             384\n",
      "     BasicConv2d-193            [-1, 192, 9, 9]               0\n",
      "          Conv2d-194            [-1, 384, 9, 9]         663,552\n",
      "     BatchNorm2d-195            [-1, 384, 9, 9]             768\n",
      "     BasicConv2d-196            [-1, 384, 9, 9]               0\n",
      "          Conv2d-197             [-1, 48, 9, 9]          39,936\n",
      "     BatchNorm2d-198             [-1, 48, 9, 9]              96\n",
      "     BasicConv2d-199             [-1, 48, 9, 9]               0\n",
      "          Conv2d-200            [-1, 128, 9, 9]          55,296\n",
      "     BatchNorm2d-201            [-1, 128, 9, 9]             256\n",
      "     BasicConv2d-202            [-1, 128, 9, 9]               0\n",
      "       MaxPool2d-203            [-1, 832, 9, 9]               0\n",
      "          Conv2d-204            [-1, 128, 9, 9]         106,496\n",
      "     BatchNorm2d-205            [-1, 128, 9, 9]             256\n",
      "     BasicConv2d-206            [-1, 128, 9, 9]               0\n",
      "       Inception-207           [-1, 1024, 9, 9]               0\n",
      "AdaptiveAvgPool2d-208           [-1, 1024, 1, 1]               0\n",
      "         Dropout-209                 [-1, 1024]               0\n",
      "          Linear-210                 [-1, 1000]       1,025,000\n",
      "================================================================\n",
      "Total params: 13,004,888\n",
      "Trainable params: 13,004,888\n",
      "Non-trainable params: 0\n",
      "----------------------------------------------------------------\n",
      "Input size (MB): 1.03\n",
      "Forward/backward pass size (MB): 163.54\n",
      "Params size (MB): 49.61\n",
      "Estimated Total Size (MB): 214.18\n",
      "----------------------------------------------------------------\n"
     ]
    }
   ],
   "source": [
    "from torchsummary import summary\n",
    "\n",
    "input_shape = (3,300,300)\n",
    "summary(model.to(device), input_shape)"
   ]
  },
  {
   "cell_type": "code",
   "execution_count": 16,
   "metadata": {
    "id": "2GaXf7mw0EcU"
   },
   "outputs": [],
   "source": [
    "def train_batch(images, labels, model, opt, loss_fn):\n",
    "    output = model(images)\n",
    "#     print(f\"type of output - {type(output)}\")\n",
    "    batch_loss = loss_fn(output, labels)\n",
    "    batch_loss.backward()\n",
    "    optimizer.step()\n",
    "    optimizer.zero_grad()\n",
    "    return batch_loss.item()"
   ]
  },
  {
   "cell_type": "code",
   "execution_count": 17,
   "metadata": {
    "id": "eRYFns9h0Kbz"
   },
   "outputs": [],
   "source": [
    "@torch.no_grad()\n",
    "def accuracy(images, labels, model):\n",
    "    model.eval()\n",
    "    prediction = model(images)\n",
    "    max_values, argmaxes = prediction.max(-1)\n",
    "    is_correct = argmaxes == labels\n",
    "    return is_correct.cpu().numpy().tolist()"
   ]
  },
  {
   "cell_type": "code",
   "execution_count": 18,
   "metadata": {
    "id": "Mrx6WoFq0Uzg"
   },
   "outputs": [],
   "source": [
    "@torch.no_grad()\n",
    "def val_loss(x, y, model):\n",
    "    model.eval()\n",
    "    prediction = model(x)\n",
    "    val_loss = loss_fn(prediction, y)\n",
    "    return val_loss.item()"
   ]
  },
  {
   "cell_type": "code",
   "execution_count": 19,
   "metadata": {
    "colab": {
     "base_uri": "https://localhost:8080/",
     "height": 123,
     "referenced_widgets": [
      "d1f55c574e414423b8a767936fdf0a80",
      "8137b5be78a64538bb28d39a187225c2",
      "a33faa60e14d41d990967f6b0bdb392f",
      "c161849ab30e4f3d9928f346e8be3d1f",
      "cc922f034c4648a99a2d2869ad57c40d",
      "c4af5777b27642529e7966185d0bc909",
      "4199112d20b84659ad64c7ff970e81f1",
      "72779a6cc2e4402ea459ef57c5d11d5a",
      "554dcb3f93e44b27ad23b15b5e4970c5",
      "f3f52184a68b466f9da09c525af7167f",
      "1ef3f0fb22f3462cafbfe38bb7b5472e"
     ]
    },
    "id": "2GVElEam0Xwl",
    "outputId": "fa995e54-0b61-4cbf-fde6-4c4942b669cf"
   },
   "outputs": [
    {
     "name": "stderr",
     "output_type": "stream",
     "text": [
      "/usr/local/lib/python3.9/dist-packages/torchvision/models/_utils.py:223: UserWarning: Arguments other than a weight enum or `None` for 'weights' are deprecated since 0.13 and may be removed in the future. The current behavior is equivalent to passing `weights=Inception_V3_Weights.IMAGENET1K_V1`. You can also use `weights=Inception_V3_Weights.DEFAULT` to get the most up-to-date weights.\n",
      "  warnings.warn(msg)\n",
      "Downloading: \"https://download.pytorch.org/models/inception_v3_google-0cc3c7bd.pth\" to /root/.cache/torch/hub/checkpoints/inception_v3_google-0cc3c7bd.pth\n"
     ]
    },
    {
     "data": {
      "application/vnd.jupyter.widget-view+json": {
       "model_id": "d1f55c574e414423b8a767936fdf0a80",
       "version_major": 2,
       "version_minor": 0
      },
      "text/plain": [
       "  0%|          | 0.00/104M [00:00<?, ?B/s]"
      ]
     },
     "metadata": {},
     "output_type": "display_data"
    }
   ],
   "source": [
    "model, loss_fn, optimizer = get_model()"
   ]
  },
  {
   "cell_type": "code",
   "execution_count": 20,
   "metadata": {
    "colab": {
     "base_uri": "https://localhost:8080/"
    },
    "id": "82_UwJU10fdp",
    "outputId": "10ffd012-eeef-4196-fd44-fac655ef6385"
   },
   "outputs": [
    {
     "name": "stdout",
     "output_type": "stream",
     "text": [
      "Epoch: 1 \n",
      "Epoch: 1 Train Loss: 0.3209344642236829 Train Accuracy: 89.94140625\n",
      "Epoch: 1 Validation Loss: 0.33677366375923157 Validation Accuracy: 83.33333333333334\n",
      "Epoch: 2 \n",
      "Epoch: 2 Train Loss: 0.09583944900077768 Train Accuracy: 97.36328125\n",
      "Epoch: 2 Validation Loss: 0.0890490934252739 Validation Accuracy: 94.44444444444444\n",
      "Epoch: 3 \n",
      "Epoch: 3 Train Loss: 0.0644731790816877 Train Accuracy: 98.2421875\n",
      "Epoch: 3 Validation Loss: 0.3403787314891815 Validation Accuracy: 77.77777777777779\n",
      "Epoch: 4 \n",
      "Epoch: 4 Train Loss: 0.08388516095874365 Train Accuracy: 97.4609375\n",
      "Epoch: 4 Validation Loss: 0.049418672919273376 Validation Accuracy: 94.44444444444444\n",
      "Epoch: 5 \n",
      "Epoch: 5 Train Loss: 0.062336027855053544 Train Accuracy: 98.2421875\n",
      "Epoch: 5 Validation Loss: 0.34594154357910156 Validation Accuracy: 88.88888888888889\n",
      "Epoch: 6 \n",
      "Epoch: 6 Train Loss: 0.047096341106225736 Train Accuracy: 98.53515625\n",
      "Epoch: 6 Validation Loss: 0.07614655792713165 Validation Accuracy: 100.0\n",
      "Epoch: 7 \n",
      "Epoch: 7 Train Loss: 0.03878583337063901 Train Accuracy: 99.0234375\n",
      "Epoch: 7 Validation Loss: 0.332747220993042 Validation Accuracy: 83.33333333333334\n",
      "Epoch: 8 \n",
      "Epoch: 8 Train Loss: 0.0427786277141422 Train Accuracy: 99.0234375\n",
      "Epoch: 8 Validation Loss: 0.00244459742680192 Validation Accuracy: 100.0\n",
      "Epoch: 9 \n",
      "Epoch: 9 Train Loss: 0.044976865414355416 Train Accuracy: 99.12109375\n",
      "Epoch: 9 Validation Loss: 0.0013811792014166713 Validation Accuracy: 100.0\n",
      "Epoch: 10 \n",
      "Epoch: 10 Train Loss: 0.04096428331831703 Train Accuracy: 98.33984375\n",
      "Epoch: 10 Validation Loss: 0.031104005873203278 Validation Accuracy: 100.0\n",
      "Epoch: 11 \n",
      "Epoch: 11 Train Loss: 0.022862218942464096 Train Accuracy: 99.51171875\n",
      "Epoch: 11 Validation Loss: 0.1907171756029129 Validation Accuracy: 88.88888888888889\n",
      "Epoch: 12 \n",
      "Epoch: 12 Train Loss: 0.03655595154850744 Train Accuracy: 98.92578125\n",
      "Epoch: 12 Validation Loss: 0.019251389428973198 Validation Accuracy: 100.0\n",
      "Epoch: 13 \n",
      "Epoch: 13 Train Loss: 0.017562645221914863 Train Accuracy: 99.70703125\n",
      "Epoch: 13 Validation Loss: 0.03671051561832428 Validation Accuracy: 100.0\n",
      "Epoch: 14 \n",
      "Epoch: 14 Train Loss: 0.018865818939957535 Train Accuracy: 99.4140625\n",
      "Epoch: 14 Validation Loss: 0.20091243088245392 Validation Accuracy: 94.44444444444444\n",
      "Epoch: 15 \n",
      "Epoch: 15 Train Loss: 0.025561885107890703 Train Accuracy: 99.12109375\n",
      "Epoch: 15 Validation Loss: 0.6052321791648865 Validation Accuracy: 88.88888888888889\n",
      "Epoch: 16 \n",
      "Epoch: 16 Train Loss: 0.031089980095202918 Train Accuracy: 99.0234375\n",
      "Epoch: 16 Validation Loss: 0.10204807668924332 Validation Accuracy: 94.44444444444444\n",
      "Epoch: 17 \n",
      "Epoch: 17 Train Loss: 0.0360100111902284 Train Accuracy: 99.12109375\n",
      "Epoch: 17 Validation Loss: 0.3291236460208893 Validation Accuracy: 88.88888888888889\n",
      "Epoch: 18 \n",
      "Epoch: 18 Train Loss: 0.03733999528049026 Train Accuracy: 98.828125\n",
      "Epoch: 18 Validation Loss: 0.4006469249725342 Validation Accuracy: 88.88888888888889\n",
      "Epoch: 19 \n",
      "Epoch: 19 Train Loss: 0.02243334935792518 Train Accuracy: 99.31640625\n",
      "Epoch: 19 Validation Loss: 0.46888309717178345 Validation Accuracy: 88.88888888888889\n",
      "Epoch: 20 \n",
      "Epoch: 20 Train Loss: 0.019603951956923993 Train Accuracy: 99.4140625\n",
      "Epoch: 20 Validation Loss: 0.05410107597708702 Validation Accuracy: 94.44444444444444\n",
      "Epoch: 21 \n",
      "Epoch: 21 Train Loss: 0.014475509764452 Train Accuracy: 99.51171875\n",
      "Epoch: 21 Validation Loss: 0.48730453848838806 Validation Accuracy: 83.33333333333334\n",
      "Epoch: 22 \n",
      "Epoch: 22 Train Loss: 0.011092020755540943 Train Accuracy: 99.70703125\n",
      "Epoch: 22 Validation Loss: 0.0032694684341549873 Validation Accuracy: 100.0\n",
      "Epoch: 23 \n",
      "Epoch: 23 Train Loss: 0.013163663978502882 Train Accuracy: 99.51171875\n",
      "Epoch: 23 Validation Loss: 0.0003138348984066397 Validation Accuracy: 100.0\n",
      "Epoch: 24 \n",
      "Epoch: 24 Train Loss: 0.03409190794718597 Train Accuracy: 99.21875\n",
      "Epoch: 24 Validation Loss: 0.19652481377124786 Validation Accuracy: 94.44444444444444\n",
      "Epoch: 25 \n",
      "Epoch: 25 Train Loss: 0.011200927478057565 Train Accuracy: 99.609375\n",
      "Epoch: 25 Validation Loss: 0.09621690213680267 Validation Accuracy: 88.88888888888889\n",
      "Epoch: 26 \n",
      "Epoch: 26 Train Loss: 0.01233483387841261 Train Accuracy: 99.70703125\n",
      "Epoch: 26 Validation Loss: 0.3730899691581726 Validation Accuracy: 88.88888888888889\n",
      "Epoch: 27 \n",
      "Epoch: 27 Train Loss: 0.01091041211202537 Train Accuracy: 99.8046875\n",
      "Epoch: 27 Validation Loss: 0.20547367632389069 Validation Accuracy: 94.44444444444444\n",
      "Epoch: 28 \n",
      "Epoch: 28 Train Loss: 0.016388353341881157 Train Accuracy: 99.70703125\n",
      "Epoch: 28 Validation Loss: 0.009470229037106037 Validation Accuracy: 100.0\n",
      "Epoch: 29 \n",
      "Epoch: 29 Train Loss: 0.01286554158468789 Train Accuracy: 99.8046875\n",
      "Epoch: 29 Validation Loss: 0.06912222504615784 Validation Accuracy: 100.0\n",
      "Epoch: 30 \n",
      "Epoch: 30 Train Loss: 0.007843701982437778 Train Accuracy: 99.90234375\n",
      "Epoch: 30 Validation Loss: 0.0732601061463356 Validation Accuracy: 94.44444444444444\n",
      "Epoch: 31 \n",
      "Epoch: 31 Train Loss: 0.007686947066304128 Train Accuracy: 99.90234375\n",
      "Epoch: 31 Validation Loss: 0.023804226890206337 Validation Accuracy: 100.0\n",
      "Epoch: 32 \n",
      "Epoch: 32 Train Loss: 0.006412849706066481 Train Accuracy: 100.0\n",
      "Epoch: 32 Validation Loss: 0.005163913127034903 Validation Accuracy: 100.0\n",
      "Epoch: 33 \n",
      "Epoch: 33 Train Loss: 0.007727145338321861 Train Accuracy: 100.0\n",
      "Epoch: 33 Validation Loss: 0.0015283427201211452 Validation Accuracy: 100.0\n",
      "Epoch: 34 \n",
      "Epoch: 34 Train Loss: 0.017447077276187883 Train Accuracy: 99.609375\n",
      "Epoch: 34 Validation Loss: 0.6258659362792969 Validation Accuracy: 77.77777777777779\n",
      "Epoch: 35 \n",
      "Epoch: 35 Train Loss: 0.011895075751453987 Train Accuracy: 99.70703125\n",
      "Epoch: 35 Validation Loss: 0.0002521771239116788 Validation Accuracy: 100.0\n",
      "Epoch: 36 \n",
      "Epoch: 36 Train Loss: 0.05329136733053019 Train Accuracy: 98.2421875\n",
      "Epoch: 36 Validation Loss: 0.5554548501968384 Validation Accuracy: 83.33333333333334\n",
      "Epoch: 37 \n",
      "Epoch: 37 Train Loss: 0.011557264828979896 Train Accuracy: 99.70703125\n",
      "Epoch: 37 Validation Loss: 0.6827561855316162 Validation Accuracy: 88.88888888888889\n",
      "Epoch: 38 \n",
      "Epoch: 38 Train Loss: 0.007125142548829899 Train Accuracy: 100.0\n",
      "Epoch: 38 Validation Loss: 0.019590748474001884 Validation Accuracy: 100.0\n",
      "Epoch: 39 \n",
      "Epoch: 39 Train Loss: 0.010037744968940387 Train Accuracy: 99.8046875\n",
      "Epoch: 39 Validation Loss: 0.008951675146818161 Validation Accuracy: 100.0\n",
      "Epoch: 40 \n",
      "Epoch: 40 Train Loss: 0.007164418884258339 Train Accuracy: 99.90234375\n",
      "Epoch: 40 Validation Loss: 0.08103786408901215 Validation Accuracy: 94.44444444444444\n",
      "Epoch: 41 \n",
      "Epoch: 41 Train Loss: 0.005632458948639396 Train Accuracy: 99.90234375\n",
      "Epoch: 41 Validation Loss: 0.25599467754364014 Validation Accuracy: 94.44444444444444\n",
      "Epoch: 42 \n",
      "Epoch: 42 Train Loss: 0.004942470830201273 Train Accuracy: 99.90234375\n",
      "Epoch: 42 Validation Loss: 0.3491239547729492 Validation Accuracy: 94.44444444444444\n",
      "Epoch: 43 \n",
      "Epoch: 43 Train Loss: 0.0067406060946950674 Train Accuracy: 99.8046875\n",
      "Epoch: 43 Validation Loss: 0.7099478244781494 Validation Accuracy: 83.33333333333334\n",
      "Epoch: 44 \n",
      "Epoch: 44 Train Loss: 0.012619145539019883 Train Accuracy: 99.8046875\n",
      "Epoch: 44 Validation Loss: 0.15135544538497925 Validation Accuracy: 94.44444444444444\n",
      "Epoch: 45 \n",
      "Epoch: 45 Train Loss: 0.004794973238176681 Train Accuracy: 100.0\n",
      "Epoch: 45 Validation Loss: 0.0986190140247345 Validation Accuracy: 94.44444444444444\n",
      "Epoch: 46 \n",
      "Epoch: 46 Train Loss: 0.01541677881709802 Train Accuracy: 99.609375\n",
      "Epoch: 46 Validation Loss: 0.0002335602039238438 Validation Accuracy: 100.0\n",
      "Epoch: 47 \n",
      "Epoch: 47 Train Loss: 0.02125786116312156 Train Accuracy: 99.12109375\n",
      "Epoch: 47 Validation Loss: 0.03524370864033699 Validation Accuracy: 100.0\n",
      "Epoch: 48 \n",
      "Epoch: 48 Train Loss: 0.0028071915626242117 Train Accuracy: 100.0\n",
      "Epoch: 48 Validation Loss: 0.16409577429294586 Validation Accuracy: 94.44444444444444\n",
      "Epoch: 49 \n",
      "Epoch: 49 Train Loss: 0.002317951494887893 Train Accuracy: 100.0\n",
      "Epoch: 49 Validation Loss: 0.6109293699264526 Validation Accuracy: 83.33333333333334\n",
      "Epoch: 50 \n",
      "Epoch: 50 Train Loss: 0.0058849635152569135 Train Accuracy: 100.0\n",
      "Epoch: 50 Validation Loss: 0.06883607059717178 Validation Accuracy: 94.44444444444444\n",
      "Epoch: 51 \n",
      "Epoch: 51 Train Loss: 0.008260486049607607 Train Accuracy: 99.70703125\n",
      "Epoch: 51 Validation Loss: 0.019738169386982918 Validation Accuracy: 100.0\n",
      "Epoch: 52 \n",
      "Epoch: 52 Train Loss: 0.005736146590834323 Train Accuracy: 99.90234375\n",
      "Epoch: 52 Validation Loss: 0.0060455771163105965 Validation Accuracy: 100.0\n",
      "Epoch: 53 \n",
      "Epoch: 53 Train Loss: 0.0047016254845857475 Train Accuracy: 99.90234375\n",
      "Epoch: 53 Validation Loss: 0.06398370862007141 Validation Accuracy: 94.44444444444444\n",
      "Epoch: 54 \n",
      "Epoch: 54 Train Loss: 0.008374621799589477 Train Accuracy: 99.8046875\n",
      "Epoch: 54 Validation Loss: 0.0003291916800662875 Validation Accuracy: 100.0\n",
      "Epoch: 55 \n",
      "Epoch: 55 Train Loss: 0.00824477051003214 Train Accuracy: 99.90234375\n",
      "Epoch: 55 Validation Loss: 0.0018819835968315601 Validation Accuracy: 100.0\n",
      "Epoch: 56 \n",
      "Epoch: 56 Train Loss: 0.009795919420980681 Train Accuracy: 99.8046875\n",
      "Epoch: 56 Validation Loss: 1.1281852722167969 Validation Accuracy: 88.88888888888889\n",
      "Epoch: 57 \n",
      "Epoch: 57 Train Loss: 0.0104856572894505 Train Accuracy: 99.90234375\n",
      "Epoch: 57 Validation Loss: 0.14111465215682983 Validation Accuracy: 94.44444444444444\n",
      "Epoch: 58 \n",
      "Epoch: 58 Train Loss: 0.009069792881803096 Train Accuracy: 99.8046875\n",
      "Epoch: 58 Validation Loss: 0.5263779163360596 Validation Accuracy: 88.88888888888889\n",
      "Epoch: 59 \n",
      "Epoch: 59 Train Loss: 0.0280669433195726 Train Accuracy: 99.31640625\n",
      "Epoch: 59 Validation Loss: 0.3948691189289093 Validation Accuracy: 94.44444444444444\n",
      "Epoch: 60 \n",
      "Epoch: 60 Train Loss: 0.014246091228869773 Train Accuracy: 99.609375\n",
      "Epoch: 60 Validation Loss: 0.00012137237354181707 Validation Accuracy: 100.0\n",
      "Epoch: 61 \n",
      "Epoch: 61 Train Loss: 0.002936462070124435 Train Accuracy: 100.0\n",
      "Epoch: 61 Validation Loss: 0.0006881501758471131 Validation Accuracy: 100.0\n",
      "Epoch: 62 \n",
      "Epoch: 62 Train Loss: 0.004063796433612765 Train Accuracy: 100.0\n",
      "Epoch: 62 Validation Loss: 0.0012073921971023083 Validation Accuracy: 100.0\n",
      "Epoch: 63 \n",
      "Epoch: 63 Train Loss: 0.003578400605022125 Train Accuracy: 100.0\n",
      "Epoch: 63 Validation Loss: 0.3722904622554779 Validation Accuracy: 94.44444444444444\n",
      "Epoch: 64 \n",
      "Epoch: 64 Train Loss: 0.013598385474438146 Train Accuracy: 99.8046875\n",
      "Epoch: 64 Validation Loss: 0.07389965653419495 Validation Accuracy: 94.44444444444444\n",
      "Epoch: 65 \n",
      "Epoch: 65 Train Loss: 0.0026290188834252604 Train Accuracy: 100.0\n",
      "Epoch: 65 Validation Loss: 0.009032152593135834 Validation Accuracy: 100.0\n",
      "Epoch: 66 \n",
      "Epoch: 66 Train Loss: 0.006483534936137403 Train Accuracy: 99.90234375\n",
      "Epoch: 66 Validation Loss: 1.2178705930709839 Validation Accuracy: 88.88888888888889\n",
      "Epoch: 67 \n",
      "Epoch: 67 Train Loss: 0.0061128136752586215 Train Accuracy: 99.8046875\n",
      "Epoch: 67 Validation Loss: 0.6221441030502319 Validation Accuracy: 83.33333333333334\n",
      "Epoch: 68 \n",
      "Epoch: 68 Train Loss: 0.004325111355456102 Train Accuracy: 100.0\n",
      "Epoch: 68 Validation Loss: 0.2999136447906494 Validation Accuracy: 94.44444444444444\n",
      "Epoch: 69 \n",
      "Epoch: 69 Train Loss: 0.005828003942269788 Train Accuracy: 100.0\n",
      "Epoch: 69 Validation Loss: 0.18458491563796997 Validation Accuracy: 88.88888888888889\n",
      "Epoch: 70 \n",
      "Epoch: 70 Train Loss: 0.007828638365424467 Train Accuracy: 99.90234375\n",
      "Epoch: 70 Validation Loss: 0.1902669221162796 Validation Accuracy: 94.44444444444444\n",
      "Epoch: 71 \n",
      "Epoch: 71 Train Loss: 0.06015282082540807 Train Accuracy: 98.828125\n",
      "Epoch: 71 Validation Loss: 0.5140937566757202 Validation Accuracy: 88.88888888888889\n",
      "Epoch: 72 \n",
      "Epoch: 72 Train Loss: 0.03339901383515098 Train Accuracy: 99.31640625\n",
      "Epoch: 72 Validation Loss: 0.06963203102350235 Validation Accuracy: 94.44444444444444\n",
      "Epoch: 73 \n",
      "Epoch: 73 Train Loss: 0.025770845943725362 Train Accuracy: 99.609375\n",
      "Epoch: 73 Validation Loss: 0.0954386442899704 Validation Accuracy: 94.44444444444444\n",
      "Epoch: 74 \n",
      "Epoch: 74 Train Loss: 0.013321511808953801 Train Accuracy: 99.70703125\n",
      "Epoch: 74 Validation Loss: 0.1678452342748642 Validation Accuracy: 94.44444444444444\n",
      "Epoch: 75 \n",
      "Epoch: 75 Train Loss: 0.017117367261107574 Train Accuracy: 99.609375\n",
      "Epoch: 75 Validation Loss: 0.015797672793269157 Validation Accuracy: 100.0\n",
      "Epoch: 76 \n",
      "Epoch: 76 Train Loss: 0.018929851136817888 Train Accuracy: 99.4140625\n",
      "Epoch: 76 Validation Loss: 7.813030970282853e-05 Validation Accuracy: 100.0\n",
      "Epoch: 77 \n",
      "Epoch: 77 Train Loss: 0.03347502659556767 Train Accuracy: 99.51171875\n",
      "Epoch: 77 Validation Loss: 0.2687975764274597 Validation Accuracy: 94.44444444444444\n",
      "Epoch: 78 \n",
      "Epoch: 78 Train Loss: 0.029812937782025983 Train Accuracy: 99.12109375\n",
      "Epoch: 78 Validation Loss: 0.08648335188627243 Validation Accuracy: 94.44444444444444\n",
      "Epoch: 79 \n",
      "Epoch: 79 Train Loss: 0.010523722165999061 Train Accuracy: 99.8046875\n",
      "Epoch: 79 Validation Loss: 0.356860488653183 Validation Accuracy: 88.88888888888889\n",
      "Epoch: 80 \n",
      "Epoch: 80 Train Loss: 0.009735769998087562 Train Accuracy: 99.70703125\n",
      "Epoch: 80 Validation Loss: 0.0007610086468048394 Validation Accuracy: 100.0\n",
      "Epoch: 81 \n",
      "Epoch: 81 Train Loss: 0.004932007742240785 Train Accuracy: 99.8046875\n",
      "Epoch: 81 Validation Loss: 0.0073630958795547485 Validation Accuracy: 100.0\n",
      "Epoch: 82 \n",
      "Epoch: 82 Train Loss: 0.009427136470435471 Train Accuracy: 99.8046875\n",
      "Epoch: 82 Validation Loss: 1.006487488746643 Validation Accuracy: 88.88888888888889\n",
      "Epoch: 83 \n",
      "Epoch: 83 Train Loss: 0.017317885919055698 Train Accuracy: 99.70703125\n",
      "Epoch: 83 Validation Loss: 7.656258821953088e-05 Validation Accuracy: 100.0\n",
      "Epoch: 84 \n",
      "Epoch: 84 Train Loss: 0.0028711285190183844 Train Accuracy: 100.0\n",
      "Epoch: 84 Validation Loss: 0.00044266445911489427 Validation Accuracy: 100.0\n",
      "Epoch: 85 \n",
      "Epoch: 85 Train Loss: 0.0028247282621123304 Train Accuracy: 100.0\n",
      "Epoch: 85 Validation Loss: 0.6913555860519409 Validation Accuracy: 88.88888888888889\n",
      "Epoch: 86 \n",
      "Epoch: 86 Train Loss: 0.0022580833447136683 Train Accuracy: 100.0\n",
      "Epoch: 86 Validation Loss: 0.044723667204380035 Validation Accuracy: 94.44444444444444\n",
      "Epoch: 87 \n",
      "Epoch: 87 Train Loss: 0.003848083170055361 Train Accuracy: 99.90234375\n",
      "Epoch: 87 Validation Loss: 0.3701064884662628 Validation Accuracy: 88.88888888888889\n",
      "Epoch: 88 \n",
      "Epoch: 88 Train Loss: 0.002809877407003114 Train Accuracy: 100.0\n",
      "Epoch: 88 Validation Loss: 2.006702423095703 Validation Accuracy: 77.77777777777779\n",
      "Epoch: 89 \n",
      "Epoch: 89 Train Loss: 0.0025100336099512788 Train Accuracy: 100.0\n",
      "Epoch: 89 Validation Loss: 0.03866608813405037 Validation Accuracy: 100.0\n",
      "Epoch: 90 \n",
      "Epoch: 90 Train Loss: 0.0030962530021838575 Train Accuracy: 100.0\n",
      "Epoch: 90 Validation Loss: 0.35794344544410706 Validation Accuracy: 94.44444444444444\n",
      "Epoch: 91 \n",
      "Epoch: 91 Train Loss: 0.0032433692875883935 Train Accuracy: 99.90234375\n",
      "Epoch: 91 Validation Loss: 0.3379167914390564 Validation Accuracy: 83.33333333333334\n",
      "Epoch: 92 \n",
      "Epoch: 92 Train Loss: 0.008072815193372662 Train Accuracy: 99.90234375\n",
      "Epoch: 92 Validation Loss: 0.0628238394856453 Validation Accuracy: 94.44444444444444\n",
      "Epoch: 93 \n",
      "Epoch: 93 Train Loss: 0.013788499378449615 Train Accuracy: 99.70703125\n",
      "Epoch: 93 Validation Loss: 0.036139629781246185 Validation Accuracy: 100.0\n",
      "Epoch: 94 \n",
      "Epoch: 94 Train Loss: 0.004446312545894671 Train Accuracy: 99.90234375\n",
      "Epoch: 94 Validation Loss: 0.30611440539360046 Validation Accuracy: 94.44444444444444\n",
      "Epoch: 95 \n",
      "Epoch: 95 Train Loss: 0.0017188776415650864 Train Accuracy: 100.0\n",
      "Epoch: 95 Validation Loss: 0.01614989899098873 Validation Accuracy: 100.0\n",
      "Epoch: 96 \n",
      "Epoch: 96 Train Loss: 0.012659692056502081 Train Accuracy: 99.8046875\n",
      "Epoch: 96 Validation Loss: 0.7629960179328918 Validation Accuracy: 83.33333333333334\n",
      "Epoch: 97 \n",
      "Epoch: 97 Train Loss: 0.0020712623780809736 Train Accuracy: 100.0\n",
      "Epoch: 97 Validation Loss: 0.00011689103121170774 Validation Accuracy: 100.0\n",
      "Epoch: 98 \n",
      "Epoch: 98 Train Loss: 0.0007945728141862674 Train Accuracy: 100.0\n",
      "Epoch: 98 Validation Loss: 0.14242425560951233 Validation Accuracy: 94.44444444444444\n",
      "Epoch: 99 \n",
      "Epoch: 99 Train Loss: 0.002030716420790668 Train Accuracy: 100.0\n",
      "Epoch: 99 Validation Loss: 0.0002321740030311048 Validation Accuracy: 100.0\n",
      "Epoch: 100 \n",
      "Epoch: 100 Train Loss: 0.00874233535178881 Train Accuracy: 100.0\n",
      "Epoch: 100 Validation Loss: 0.07940705865621567 Validation Accuracy: 94.44444444444444\n"
     ]
    }
   ],
   "source": [
    "n_epochs = 100\n",
    "train_losses, train_accuracies = [], []\n",
    "val_losses, val_accuracies = [], []\n",
    "for epoch in range(n_epochs):\n",
    "    print(\"Epoch: %d \"%(epoch+1))\n",
    "    train_epoch_losses, train_epoch_accuracies = [], []\n",
    "    for i,data in enumerate(iter(train_loader)):\n",
    "        images,labels=data\n",
    "        images=images.to(device)\n",
    "        labels=labels.to(device)\n",
    "        batch_loss = train_batch(images, labels, model, optimizer, loss_fn)\n",
    "        is_correct = accuracy(images, labels, model)\n",
    "        train_epoch_accuracies.extend(is_correct)\n",
    "        train_epoch_losses.append(batch_loss)        \n",
    "    train_epoch_loss = np.array(train_epoch_losses).mean()\n",
    "    train_epoch_accuracy = np.mean(train_epoch_accuracies)*100      \n",
    "    print('Epoch:',epoch+1,'Train Loss:',train_epoch_loss,'Train Accuracy:',train_epoch_accuracy)\n",
    "\n",
    "    for i,data in enumerate(iter(validate_loader)):\n",
    "        images,labels=data\n",
    "        images=images.to(device)\n",
    "        labels=labels.to(device)\n",
    "        val_is_correct = accuracy(images, labels, model)\n",
    "        validation_loss = val_loss(images, labels, model)    \n",
    "        val_epoch_accuracy = np.mean(val_is_correct)*100\n",
    "\n",
    "    print('Epoch:',epoch+1,'Validation Loss:',validation_loss,'Validation Accuracy:',val_epoch_accuracy)\n",
    "\n",
    "    train_losses.append(train_epoch_loss)\n",
    "    train_accuracies.append(train_epoch_accuracy)\n",
    "    val_losses.append(validation_loss)\n",
    "    val_accuracies.append(val_epoch_accuracy)\n"
   ]
  },
  {
   "cell_type": "code",
   "execution_count": 21,
   "metadata": {
    "colab": {
     "base_uri": "https://localhost:8080/"
    },
    "id": "cIFaR0fe-pWO",
    "outputId": "3d8ac702-0f1b-45a0-da31-3eecdec2dca3"
   },
   "outputs": [
    {
     "name": "stdout",
     "output_type": "stream",
     "text": [
      "Looking in indexes: https://pypi.org/simple, https://us-python.pkg.dev/colab-wheels/public/simple/\n",
      "Collecting torchmetrics\n",
      "  Downloading torchmetrics-0.11.4-py3-none-any.whl (519 kB)\n",
      "\u001b[2K     \u001b[90m━━━━━━━━━━━━━━━━━━━━━━━━━━━━━━━━━━━━━━\u001b[0m \u001b[32m519.2/519.2 KB\u001b[0m \u001b[31m35.2 MB/s\u001b[0m eta \u001b[36m0:00:00\u001b[0m\n",
      "\u001b[?25hRequirement already satisfied: torch>=1.8.1 in /usr/local/lib/python3.9/dist-packages (from torchmetrics) (1.13.1+cu116)\n",
      "Requirement already satisfied: numpy>=1.17.2 in /usr/local/lib/python3.9/dist-packages (from torchmetrics) (1.22.4)\n",
      "Requirement already satisfied: packaging in /usr/local/lib/python3.9/dist-packages (from torchmetrics) (23.0)\n",
      "Requirement already satisfied: typing-extensions in /usr/local/lib/python3.9/dist-packages (from torch>=1.8.1->torchmetrics) (4.5.0)\n",
      "Installing collected packages: torchmetrics\n",
      "Successfully installed torchmetrics-0.11.4\n"
     ]
    }
   ],
   "source": [
    "!pip install torchmetrics"
   ]
  },
  {
   "cell_type": "code",
   "execution_count": 22,
   "metadata": {
    "id": "U_f96rNg-14b"
   },
   "outputs": [],
   "source": [
    "from torchmetrics import F1Score,ConfusionMatrix"
   ]
  },
  {
   "cell_type": "code",
   "execution_count": 23,
   "metadata": {
    "id": "jAjGRrOm-40p"
   },
   "outputs": [],
   "source": [
    "def evaluate_model(model,test_loader):\n",
    "    model.eval()\n",
    "    predicted_correct =0\n",
    "    total = 0\n",
    "    with torch.no_grad():\n",
    "        for data in test_loader:\n",
    "            images,labels = data\n",
    "            images = images.to(device)\n",
    "            labels = labels.to(device)\n",
    "            predicted_correct= accuracy(images, labels, model)\n",
    "    epoch_accuracy = np.mean(val_is_correct)*100\n",
    "    print(\"Testing Data: Epoch Accuracy: %.3f\"%(epoch_accuracy))\n",
    "    return epoch_accuracy"
   ]
  },
  {
   "cell_type": "code",
   "execution_count": 24,
   "metadata": {
    "colab": {
     "base_uri": "https://localhost:8080/"
    },
    "id": "YGFI-9wd_DRf",
    "outputId": "f157e0ce-1a84-4a34-d689-8decf9b2bf46"
   },
   "outputs": [
    {
     "name": "stdout",
     "output_type": "stream",
     "text": [
      "Testing Data: Epoch Accuracy: 94.444\n"
     ]
    }
   ],
   "source": [
    "   test_acc = evaluate_model(model,test_loader)"
   ]
  },
  {
   "cell_type": "code",
   "execution_count": 25,
   "metadata": {
    "id": "hx_hefyCAPbX"
   },
   "outputs": [],
   "source": [
    "dict = {'Training': train_accuracies, 'Validation': val_accuracies} \n",
    "dictLoss = {'Training': train_losses,'Validation': val_losses}\n",
    "df = pd.DataFrame(dict)\n",
    "df2 = pd.DataFrame(dictLoss)"
   ]
  },
  {
   "cell_type": "code",
   "execution_count": 26,
   "metadata": {
    "colab": {
     "base_uri": "https://localhost:8080/",
     "height": 295
    },
    "id": "vWfrCeVwAw0G",
    "outputId": "4c731c3c-fe19-4ed8-c728-597366a34080"
   },
   "outputs": [
    {
     "data": {
      "image/png": "[encoded data removed]",
      "text/plain": [
       "<Figure size 432x288 with 1 Axes>"
      ]
     },
     "metadata": {
      "needs_background": "light"
     },
     "output_type": "display_data"
    }
   ],
   "source": [
    "plt.plot(range(n_epochs),train_accuracies)\n",
    "plt.xlabel(\"Epochs\")\n",
    "plt.ylabel(\"Training Accuracies\")\n",
    "plt.title(\"Training Accuracy Vs Epochs\")\n",
    "plt.show()"
   ]
  },
  {
   "cell_type": "code",
   "execution_count": 27,
   "metadata": {
    "colab": {
     "base_uri": "https://localhost:8080/",
     "height": 295
    },
    "id": "UAqzeF6bBQbC",
    "outputId": "0aeca5ee-1b0f-43dc-fdb0-19429316daa6"
   },
   "outputs": [
    {
     "data": {
      "image/png": "[encoded data removed]",
      "text/plain": [
       "<Figure size 432x288 with 1 Axes>"
      ]
     },
     "metadata": {
      "needs_background": "light"
     },
     "output_type": "display_data"
    }
   ],
   "source": [
    "plt.plot(range(n_epochs),train_accuracies, label=\"Training\")\n",
    "plt.plot(range(n_epochs),val_accuracies, label=\"Validation\")\n",
    "plt.xlabel(\"Epochs\")\n",
    "plt.ylabel(\"Accuracies\")\n",
    "plt.title(\"Training vs Validation Accuracies\")\n",
    "plt.legend()\n",
    "plt.show()"
   ]
  },
  {
   "cell_type": "code",
   "execution_count": 29,
   "metadata": {
    "colab": {
     "base_uri": "https://localhost:8080/",
     "height": 295
    },
    "id": "Hrq0pGIfBdrI",
    "outputId": "4a978e65-9f28-41cd-ed78-9a95a954aa5d"
   },
   "outputs": [
    {
     "data": {
      "image/png": "[encoded data removed]",
      "text/plain": [
       "<Figure size 432x288 with 1 Axes>"
      ]
     },
     "metadata": {
      "needs_background": "light"
     },
     "output_type": "display_data"
    }
   ],
   "source": [
    "plt.plot(range(n_epochs),train_losses, label=\"Training\")\n",
    "plt.plot(range(n_epochs),val_losses, label=\"Validation\")\n",
    "plt.xlabel(\"Epochs\")\n",
    "plt.ylabel(\"Loss\")\n",
    "plt.title(\"Training vs Validation Loss\")\n",
    "plt.legend()\n",
    "plt.show()"
   ]
  },
  {
   "cell_type": "code",
   "execution_count": 30,
   "metadata": {
    "id": "_gMLlADgBtrv"
   },
   "outputs": [],
   "source": [
    "from sklearn.metrics import confusion_matrix,accuracy_score,precision_score,recall_score,f1_score,ConfusionMatrixDisplay"
   ]
  },
  {
   "cell_type": "code",
   "execution_count": 31,
   "metadata": {
    "id": "CsimXgsCByGp"
   },
   "outputs": [],
   "source": [
    "y_pred = []\n",
    "y_true = []\n",
    "\n",
    "for data in test_loader:\n",
    "        inputs, labels = data[0].to(device), data[1].to(device)\n",
    "        output = model(inputs) \n",
    "        output = (torch.max(torch.exp(output), 1)[1]).data.cpu().numpy()\n",
    "        y_pred.extend(output) \n",
    "        labels = labels.data.cpu().numpy()\n",
    "        y_true.extend(labels)"
   ]
  },
  {
   "cell_type": "code",
   "execution_count": 32,
   "metadata": {
    "colab": {
     "base_uri": "https://localhost:8080/",
     "height": 744
    },
    "id": "BS1aD472B9AT",
    "outputId": "a6cb799a-07fd-42e0-f329-d5f1a223faa0"
   },
   "outputs": [
    {
     "data": {
      "image/png": "[encoded data removed]",
      "text/plain": [
       "<Figure size 936x936 with 2 Axes>"
      ]
     },
     "metadata": {
      "needs_background": "light"
     },
     "output_type": "display_data"
    }
   ],
   "source": [
    "classes = (0,1)\n",
    "confusion_matrix(y_true, y_pred)\n",
    "disp = ConfusionMatrixDisplay(confusion_matrix(y_true, y_pred),display_labels=classes)\n",
    "fig,ax = plt.subplots()\n",
    "fig.set_size_inches(13,13)\n",
    "plt.title(\"Confusion Matrix GoogleNet (2-Classes)\")\n",
    "disp.plot(ax=ax)\n",
    "plt.show()"
   ]
  },
  {
   "cell_type": "code",
   "execution_count": 33,
   "metadata": {
    "colab": {
     "base_uri": "https://localhost:8080/"
    },
    "id": "UoQvx92yCILQ",
    "outputId": "1405ccda-5b8d-4ae3-8a91-478bb1137bb1"
   },
   "outputs": [
    {
     "name": "stdout",
     "output_type": "stream",
     "text": [
      "Precision Macro:0.99\n",
      "Precision Micro:0.99\n",
      "Recall Macro:0.97\n",
      "Recall Micro:0.99\n",
      "F1-Score Macro:0.98\n",
      "F1-Score Micro:0.99\n"
     ]
    }
   ],
   "source": [
    "print(\"Precision Macro:{:.2f}\".format(precision_score(y_true, y_pred, average='macro')))\n",
    "print(\"Precision Micro:{:.2f}\".format(precision_score(y_true,y_pred,average='micro')))\n",
    "print(\"Recall Macro:{:.2f}\".format(recall_score(y_true,y_pred,average='macro')))\n",
    "print(\"Recall Micro:{:.2f}\".format(recall_score(y_true,y_pred,average='micro')))\n",
    "print(\"F1-Score Macro:{:.2f}\".format(f1_score(y_true,y_pred,average='macro')))\n",
    "print(\"F1-Score Micro:{:.2f}\".format(f1_score(y_true,y_pred,average='micro')))"
   ]
  }
 ],
 "metadata": {
  "accelerator": "GPU",
  "colab": {
   "provenance": []
  },
  "gpuClass": "standard",
  "kernelspec": {
   "display_name": "Python 3 (ipykernel)",
   "language": "python",
   "name": "python3"
  },
  "language_info": {
   "codemirror_mode": {
    "name": "ipython",
    "version": 3
   },
   "file_extension": ".py",
   "mimetype": "text/x-python",
   "name": "python",
   "nbconvert_exporter": "python",
   "pygments_lexer": "ipython3",
   "version": "3.9.13"
  },
  "widgets": {
   "application/vnd.jupyter.widget-state+json": {
    "1ef3f0fb22f3462cafbfe38bb7b5472e": {
     "model_module": "@jupyter-widgets/controls",
     "model_module_version": "1.5.0",
     "model_name": "DescriptionStyleModel",
     "state": {
      "_model_module": "@jupyter-widgets/controls",
      "_model_module_version": "1.5.0",
      "_model_name": "DescriptionStyleModel",
      "_view_count": null,
      "_view_module": "@jupyter-widgets/base",
      "_view_module_version": "1.2.0",
      "_view_name": "StyleView",
      "description_width": ""
     }
    },
    "4199112d20b84659ad64c7ff970e81f1": {
     "model_module": "@jupyter-widgets/controls",
     "model_module_version": "1.5.0",
     "model_name": "DescriptionStyleModel",
     "state": {
      "_model_module": "@jupyter-widgets/controls",
      "_model_module_version": "1.5.0",
      "_model_name": "DescriptionStyleModel",
      "_view_count": null,
      "_view_module": "@jupyter-widgets/base",
      "_view_module_version": "1.2.0",
      "_view_name": "StyleView",
      "description_width": ""
     }
    },
    "554dcb3f93e44b27ad23b15b5e4970c5": {
     "model_module": "@jupyter-widgets/controls",
     "model_module_version": "1.5.0",
     "model_name": "ProgressStyleModel",
     "state": {
      "_model_module": "@jupyter-widgets/controls",
      "_model_module_version": "1.5.0",
      "_model_name": "ProgressStyleModel",
      "_view_count": null,
      "_view_module": "@jupyter-widgets/base",
      "_view_module_version": "1.2.0",
      "_view_name": "StyleView",
      "bar_color": null,
      "description_width": ""
     }
    },
    "72779a6cc2e4402ea459ef57c5d11d5a": {
     "model_module": "@jupyter-widgets/base",
     "model_module_version": "1.2.0",
     "model_name": "LayoutModel",
     "state": {
      "_model_module": "@jupyter-widgets/base",
      "_model_module_version": "1.2.0",
      "_model_name": "LayoutModel",
      "_view_count": null,
      "_view_module": "@jupyter-widgets/base",
      "_view_module_version": "1.2.0",
      "_view_name": "LayoutView",
      "align_content": null,
      "align_items": null,
      "align_self": null,
      "border": null,
      "bottom": null,
      "display": null,
      "flex": null,
      "flex_flow": null,
      "grid_area": null,
      "grid_auto_columns": null,
      "grid_auto_flow": null,
      "grid_auto_rows": null,
      "grid_column": null,
      "grid_gap": null,
      "grid_row": null,
      "grid_template_areas": null,
      "grid_template_columns": null,
      "grid_template_rows": null,
      "height": null,
      "justify_content": null,
      "justify_items": null,
      "left": null,
      "margin": null,
      "max_height": null,
      "max_width": null,
      "min_height": null,
      "min_width": null,
      "object_fit": null,
      "object_position": null,
      "order": null,
      "overflow": null,
      "overflow_x": null,
      "overflow_y": null,
      "padding": null,
      "right": null,
      "top": null,
      "visibility": null,
      "width": null
     }
    },
    "8137b5be78a64538bb28d39a187225c2": {
     "model_module": "@jupyter-widgets/controls",
     "model_module_version": "1.5.0",
     "model_name": "HTMLModel",
     "state": {
      "_dom_classes": [],
      "_model_module": "@jupyter-widgets/controls",
      "_model_module_version": "1.5.0",
      "_model_name": "HTMLModel",
      "_view_count": null,
      "_view_module": "@jupyter-widgets/controls",
      "_view_module_version": "1.5.0",
      "_view_name": "HTMLView",
      "description": "",
      "description_tooltip": null,
      "layout": "IPY_MODEL_c4af5777b27642529e7966185d0bc909",
      "placeholder": "​",
      "style": "IPY_MODEL_4199112d20b84659ad64c7ff970e81f1",
      "value": "100%"
     }
    },
    "a33faa60e14d41d990967f6b0bdb392f": {
     "model_module": "@jupyter-widgets/controls",
     "model_module_version": "1.5.0",
     "model_name": "FloatProgressModel",
     "state": {
      "_dom_classes": [],
      "_model_module": "@jupyter-widgets/controls",
      "_model_module_version": "1.5.0",
      "_model_name": "FloatProgressModel",
      "_view_count": null,
      "_view_module": "@jupyter-widgets/controls",
      "_view_module_version": "1.5.0",
      "_view_name": "ProgressView",
      "bar_style": "success",
      "description": "",
      "description_tooltip": null,
      "layout": "IPY_MODEL_72779a6cc2e4402ea459ef57c5d11d5a",
      "max": 108949747,
      "min": 0,
      "orientation": "horizontal",
      "style": "IPY_MODEL_554dcb3f93e44b27ad23b15b5e4970c5",
      "value": 108949747
     }
    },
    "c161849ab30e4f3d9928f346e8be3d1f": {
     "model_module": "@jupyter-widgets/controls",
     "model_module_version": "1.5.0",
     "model_name": "HTMLModel",
     "state": {
      "_dom_classes": [],
      "_model_module": "@jupyter-widgets/controls",
      "_model_module_version": "1.5.0",
      "_model_name": "HTMLModel",
      "_view_count": null,
      "_view_module": "@jupyter-widgets/controls",
      "_view_module_version": "1.5.0",
      "_view_name": "HTMLView",
      "description": "",
      "description_tooltip": null,
      "layout": "IPY_MODEL_f3f52184a68b466f9da09c525af7167f",
      "placeholder": "​",
      "style": "IPY_MODEL_1ef3f0fb22f3462cafbfe38bb7b5472e",
      "value": " 104M/104M [00:00&lt;00:00, 176MB/s]"
     }
    },
    "c4af5777b27642529e7966185d0bc909": {
     "model_module": "@jupyter-widgets/base",
     "model_module_version": "1.2.0",
     "model_name": "LayoutModel",
     "state": {
      "_model_module": "@jupyter-widgets/base",
      "_model_module_version": "1.2.0",
      "_model_name": "LayoutModel",
      "_view_count": null,
      "_view_module": "@jupyter-widgets/base",
      "_view_module_version": "1.2.0",
      "_view_name": "LayoutView",
      "align_content": null,
      "align_items": null,
      "align_self": null,
      "border": null,
      "bottom": null,
      "display": null,
      "flex": null,
      "flex_flow": null,
      "grid_area": null,
      "grid_auto_columns": null,
      "grid_auto_flow": null,
      "grid_auto_rows": null,
      "grid_column": null,
      "grid_gap": null,
      "grid_row": null,
      "grid_template_areas": null,
      "grid_template_columns": null,
      "grid_template_rows": null,
      "height": null,
      "justify_content": null,
      "justify_items": null,
      "left": null,
      "margin": null,
      "max_height": null,
      "max_width": null,
      "min_height": null,
      "min_width": null,
      "object_fit": null,
      "object_position": null,
      "order": null,
      "overflow": null,
      "overflow_x": null,
      "overflow_y": null,
      "padding": null,
      "right": null,
      "top": null,
      "visibility": null,
      "width": null
     }
    },
    "cc922f034c4648a99a2d2869ad57c40d": {
     "model_module": "@jupyter-widgets/base",
     "model_module_version": "1.2.0",
     "model_name": "LayoutModel",
     "state": {
      "_model_module": "@jupyter-widgets/base",
      "_model_module_version": "1.2.0",
      "_model_name": "LayoutModel",
      "_view_count": null,
      "_view_module": "@jupyter-widgets/base",
      "_view_module_version": "1.2.0",
      "_view_name": "LayoutView",
      "align_content": null,
      "align_items": null,
      "align_self": null,
      "border": null,
      "bottom": null,
      "display": null,
      "flex": null,
      "flex_flow": null,
      "grid_area": null,
      "grid_auto_columns": null,
      "grid_auto_flow": null,
      "grid_auto_rows": null,
      "grid_column": null,
      "grid_gap": null,
      "grid_row": null,
      "grid_template_areas": null,
      "grid_template_columns": null,
      "grid_template_rows": null,
      "height": null,
      "justify_content": null,
      "justify_items": null,
      "left": null,
      "margin": null,
      "max_height": null,
      "max_width": null,
      "min_height": null,
      "min_width": null,
      "object_fit": null,
      "object_position": null,
      "order": null,
      "overflow": null,
      "overflow_x": null,
      "overflow_y": null,
      "padding": null,
      "right": null,
      "top": null,
      "visibility": null,
      "width": null
     }
    },
    "d1f55c574e414423b8a767936fdf0a80": {
     "model_module": "@jupyter-widgets/controls",
     "model_module_version": "1.5.0",
     "model_name": "HBoxModel",
     "state": {
      "_dom_classes": [],
      "_model_module": "@jupyter-widgets/controls",
      "_model_module_version": "1.5.0",
      "_model_name": "HBoxModel",
      "_view_count": null,
      "_view_module": "@jupyter-widgets/controls",
      "_view_module_version": "1.5.0",
      "_view_name": "HBoxView",
      "box_style": "",
      "children": [
       "IPY_MODEL_8137b5be78a64538bb28d39a187225c2",
       "IPY_MODEL_a33faa60e14d41d990967f6b0bdb392f",
       "IPY_MODEL_c161849ab30e4f3d9928f346e8be3d1f"
      ],
      "layout": "IPY_MODEL_cc922f034c4648a99a2d2869ad57c40d"
     }
    },
    "f3f52184a68b466f9da09c525af7167f": {
     "model_module": "@jupyter-widgets/base",
     "model_module_version": "1.2.0",
     "model_name": "LayoutModel",
     "state": {
      "_model_module": "@jupyter-widgets/base",
      "_model_module_version": "1.2.0",
      "_model_name": "LayoutModel",
      "_view_count": null,
      "_view_module": "@jupyter-widgets/base",
      "_view_module_version": "1.2.0",
      "_view_name": "LayoutView",
      "align_content": null,
      "align_items": null,
      "align_self": null,
      "border": null,
      "bottom": null,
      "display": null,
      "flex": null,
      "flex_flow": null,
      "grid_area": null,
      "grid_auto_columns": null,
      "grid_auto_flow": null,
      "grid_auto_rows": null,
      "grid_column": null,
      "grid_gap": null,
      "grid_row": null,
      "grid_template_areas": null,
      "grid_template_columns": null,
      "grid_template_rows": null,
      "height": null,
      "justify_content": null,
      "justify_items": null,
      "left": null,
      "margin": null,
      "max_height": null,
      "max_width": null,
      "min_height": null,
      "min_width": null,
      "object_fit": null,
      "object_position": null,
      "order": null,
      "overflow": null,
      "overflow_x": null,
      "overflow_y": null,
      "padding": null,
      "right": null,
      "top": null,
      "visibility": null,
      "width": null
     }
    }
   }
  }
 },
 "nbformat": 4,
 "nbformat_minor": 1
}
