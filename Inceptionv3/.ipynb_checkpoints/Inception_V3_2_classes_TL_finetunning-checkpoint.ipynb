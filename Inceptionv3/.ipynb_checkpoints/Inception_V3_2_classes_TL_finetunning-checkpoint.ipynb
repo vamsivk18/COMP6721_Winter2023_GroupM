{
 "cells": [
  {
   "cell_type": "code",
   "execution_count": 1,
   "metadata": {
    "executionInfo": {
     "elapsed": 7230,
     "status": "ok",
     "timestamp": 1680998238782,
     "user": {
      "displayName": "madhav karnati",
      "userId": "09667562301774768185"
     },
     "user_tz": 240
    },
    "id": "tC9CRDf0TL1K"
   },
   "outputs": [],
   "source": [
    "import torch.nn as nn\n",
    "import torch\n",
    "import torchvision.transforms as transforms\n",
    "import torchvision\n",
    "import time\n",
    "import matplotlib.pyplot as plt\n",
    "import numpy as np\n",
    "import torchvision.models as models\n",
    "from sklearn.metrics import confusion_matrix\n",
    "import pandas as pd\n",
    "import os"
   ]
  },
  {
   "cell_type": "code",
   "execution_count": 2,
   "metadata": {
    "executionInfo": {
     "elapsed": 4,
     "status": "ok",
     "timestamp": 1680998681121,
     "user": {
      "displayName": "madhav karnati",
      "userId": "09667562301774768185"
     },
     "user_tz": 240
    },
    "id": "Ox1GBk8QTXh5"
   },
   "outputs": [],
   "source": [
    "def get_mean_std(loader):\n",
    "    mean = 0.\n",
    "    std = 0.\n",
    "    total_images_count = 0\n",
    "    for images,_ in loader:\n",
    "        images_count_in_batch = images.size(0)\n",
    "#         print(images.shape)\n",
    "        images =images.view(images_count_in_batch,images.size(1),-1)\n",
    "        mean+=images.mean(2).sum(0)\n",
    "        std+=images.std(2).sum(0)\n",
    "        total_images_count+=images_count_in_batch\n",
    "    mean /= total_images_count\n",
    "    std /= total_images_count\n",
    "    return mean,std"
   ]
  },
  {
   "cell_type": "code",
   "execution_count": 3,
   "metadata": {
    "executionInfo": {
     "elapsed": 4,
     "status": "ok",
     "timestamp": 1680998692529,
     "user": {
      "displayName": "madhav karnati",
      "userId": "09667562301774768185"
     },
     "user_tz": 240
    },
    "id": "o7uwJJrJVEWA"
   },
   "outputs": [],
   "source": [
    "def transform(dataset):\n",
    "    data_transform = transforms.Compose([transforms.Resize((299,299)),transforms.ToTensor()])\n",
    "    data_set=torchvision.datasets.ImageFolder(root=dataset,transform=data_transform)\n",
    "    data_loader=torch.utils.data.DataLoader(dataset=data_set,batch_size=32,shuffle=True)\n",
    "    mean,std=get_mean_std(data_loader)\n",
    "    data_transform = transforms.Compose([\n",
    "        transforms.Resize((299,299)),\n",
    "        transforms.RandomHorizontalFlip(),\n",
    "        transforms.RandomRotation(10),\n",
    "        transforms.ToTensor(),\n",
    "        transforms.Normalize(torch.Tensor(mean),torch.Tensor(std))\n",
    "    ])\n",
    "    data_set=torchvision.datasets.ImageFolder(root=dataset,transform=data_transform)\n",
    "    data_loader=torch.utils.data.DataLoader(dataset=data_set,batch_size=64,shuffle=True,drop_last=False,num_workers=0)\n",
    "    return data_loader,data_set"
   ]
  },
  {
   "cell_type": "code",
   "execution_count": 4,
   "metadata": {
    "colab": {
     "base_uri": "https://localhost:8080/"
    },
    "executionInfo": {
     "elapsed": 23422,
     "status": "ok",
     "timestamp": 1680998732340,
     "user": {
      "displayName": "madhav karnati",
      "userId": "09667562301774768185"
     },
     "user_tz": 240
    },
    "id": "A2A4HbtyVHKw",
    "outputId": "074fdf2d-e44c-4a49-9090-abd9246e705a"
   },
   "outputs": [
    {
     "name": "stdout",
     "output_type": "stream",
     "text": [
      "Mounted at /content/drive\n"
     ]
    }
   ],
   "source": [
    "from google.colab import drive\n",
    "drive.mount('/content/drive')"
   ]
  },
  {
   "cell_type": "code",
   "execution_count": 5,
   "metadata": {
    "colab": {
     "base_uri": "https://localhost:8080/"
    },
    "executionInfo": {
     "elapsed": 4067,
     "status": "ok",
     "timestamp": 1680998764567,
     "user": {
      "displayName": "madhav karnati",
      "userId": "09667562301774768185"
     },
     "user_tz": 240
    },
    "id": "Mpx5J3vDVLIM",
    "outputId": "1c23331d-f5d3-4797-cb18-90ae7da0062e"
   },
   "outputs": [
    {
     "name": "stdout",
     "output_type": "stream",
     "text": [
      "Done\n"
     ]
    }
   ],
   "source": [
    "from zipfile import *\n",
    "file_name = \"/content/drive/MyDrive/dataset_2_classes.zip\" \n",
    "with ZipFile(file_name, 'r') as zip:\n",
    "  zip.extractall()\n",
    "  print('Done')"
   ]
  },
  {
   "cell_type": "code",
   "execution_count": 4,
   "metadata": {
    "executionInfo": {
     "elapsed": 4089,
     "status": "ok",
     "timestamp": 1680998807648,
     "user": {
      "displayName": "madhav karnati",
      "userId": "09667562301774768185"
     },
     "user_tz": 240
    },
    "id": "lwcLKaDeVZaF"
   },
   "outputs": [],
   "source": [
    "train_dataset='../Datasets/dataset_2_classes/train/'\n",
    "train_loader,training_dataset=transform(train_dataset)"
   ]
  },
  {
   "cell_type": "code",
   "execution_count": 5,
   "metadata": {
    "executionInfo": {
     "elapsed": 4653,
     "status": "ok",
     "timestamp": 1680998851144,
     "user": {
      "displayName": "madhav karnati",
      "userId": "09667562301774768185"
     },
     "user_tz": 240
    },
    "id": "-pAdRKeTVjkB"
   },
   "outputs": [],
   "source": [
    "validate_dataset='../Datasets/dataset_2_classes/validate/'\n",
    "validate_loader,validating_dataset=transform(validate_dataset)"
   ]
  },
  {
   "cell_type": "code",
   "execution_count": 6,
   "metadata": {
    "executionInfo": {
     "elapsed": 6437,
     "status": "ok",
     "timestamp": 1680998879404,
     "user": {
      "displayName": "madhav karnati",
      "userId": "09667562301774768185"
     },
     "user_tz": 240
    },
    "id": "EkF5oJBoVt82"
   },
   "outputs": [],
   "source": [
    "test_dataset='../Datasets/dataset_2_classes/test/'\n",
    "test_loader,testing_dataset=transform(test_dataset)"
   ]
  },
  {
   "cell_type": "code",
   "execution_count": 9,
   "metadata": {
    "colab": {
     "base_uri": "https://localhost:8080/",
     "height": 36
    },
    "executionInfo": {
     "elapsed": 9107,
     "status": "ok",
     "timestamp": 1680998923265,
     "user": {
      "displayName": "madhav karnati",
      "userId": "09667562301774768185"
     },
     "user_tz": 240
    },
    "id": "X_yyCdLYV8vK",
    "outputId": "2daad520-03c3-42ca-c150-18a1dd45b402"
   },
   "outputs": [
    {
     "data": {
      "application/vnd.google.colaboratory.intrinsic+json": {
       "type": "string"
      },
      "text/plain": [
       "'/device:GPU:0'"
      ]
     },
     "execution_count": 9,
     "metadata": {},
     "output_type": "execute_result"
    }
   ],
   "source": [
    "import tensorflow as tf\n",
    "tf.test.gpu_device_name()"
   ]
  },
  {
   "cell_type": "code",
   "execution_count": 10,
   "metadata": {
    "executionInfo": {
     "elapsed": 5,
     "status": "ok",
     "timestamp": 1680998928540,
     "user": {
      "displayName": "madhav karnati",
      "userId": "09667562301774768185"
     },
     "user_tz": 240
    },
    "id": "MKyulVUpV9Ve"
   },
   "outputs": [],
   "source": [
    "def set_device():\n",
    "    device= torch.device(\"cuda:0\" if torch.cuda.is_available() else \"cpu\")\n",
    "    return device"
   ]
  },
  {
   "cell_type": "code",
   "execution_count": 11,
   "metadata": {
    "executionInfo": {
     "elapsed": 345,
     "status": "ok",
     "timestamp": 1680998940632,
     "user": {
      "displayName": "madhav karnati",
      "userId": "09667562301774768185"
     },
     "user_tz": 240
    },
    "id": "H8aLvpYXWAxL"
   },
   "outputs": [],
   "source": [
    "device=set_device()"
   ]
  },
  {
   "cell_type": "code",
   "execution_count": 12,
   "metadata": {
    "executionInfo": {
     "elapsed": 336,
     "status": "ok",
     "timestamp": 1680998963282,
     "user": {
      "displayName": "madhav karnati",
      "userId": "09667562301774768185"
     },
     "user_tz": 240
    },
    "id": "JackVIwnWDuv"
   },
   "outputs": [],
   "source": [
    "def get_model():\n",
    "    model = models.inception_v3(pretrained=True)\n",
    "    for param in model.parameters():\n",
    "        param.requires_grad = False #Freezing all the layers and changing only the below layers\n",
    "    model.avgpool = nn.AdaptiveAvgPool2d(output_size=(1,1))\n",
    "    model.fc = nn.Sequential(nn.Flatten(),\n",
    "                            nn.Linear(2048,128),\n",
    "                            nn.ReLU(),\n",
    "                            nn.Linear(128,2))\n",
    "    model.aux_logits = False\n",
    "    criterion = nn.CrossEntropyLoss()\n",
    "    optimizer = torch.optim.SGD(model.parameters(), lr=1e-3,momentum=0.9)\n",
    "    return model.to(device), criterion, optimizer"
   ]
  },
  {
   "cell_type": "code",
   "execution_count": 13,
   "metadata": {
    "colab": {
     "base_uri": "https://localhost:8080/"
    },
    "executionInfo": {
     "elapsed": 5459,
     "status": "ok",
     "timestamp": 1680998977176,
     "user": {
      "displayName": "madhav karnati",
      "userId": "09667562301774768185"
     },
     "user_tz": 240
    },
    "id": "eim4bN4bWJQz",
    "outputId": "a2515ab2-3ea7-4cd8-9ca7-5209730cf2ff"
   },
   "outputs": [
    {
     "name": "stderr",
     "output_type": "stream",
     "text": [
      "/usr/local/lib/python3.9/dist-packages/torchvision/models/_utils.py:208: UserWarning: The parameter 'pretrained' is deprecated since 0.13 and may be removed in the future, please use 'weights' instead.\n",
      "  warnings.warn(\n",
      "/usr/local/lib/python3.9/dist-packages/torchvision/models/_utils.py:223: UserWarning: Arguments other than a weight enum or `None` for 'weights' are deprecated since 0.13 and may be removed in the future. The current behavior is equivalent to passing `weights=Inception_V3_Weights.IMAGENET1K_V1`. You can also use `weights=Inception_V3_Weights.DEFAULT` to get the most up-to-date weights.\n",
      "  warnings.warn(msg)\n",
      "Downloading: \"https://download.pytorch.org/models/inception_v3_google-0cc3c7bd.pth\" to /root/.cache/torch/hub/checkpoints/inception_v3_google-0cc3c7bd.pth\n",
      "100%|██████████| 104M/104M [00:03<00:00, 28.1MB/s]\n"
     ]
    }
   ],
   "source": [
    "model, criterion, optimizer = get_model()"
   ]
  },
  {
   "cell_type": "code",
   "execution_count": 14,
   "metadata": {
    "executionInfo": {
     "elapsed": 361,
     "status": "ok",
     "timestamp": 1680998990031,
     "user": {
      "displayName": "madhav karnati",
      "userId": "09667562301774768185"
     },
     "user_tz": 240
    },
    "id": "a_eiTTbCWLZz"
   },
   "outputs": [],
   "source": [
    "scheduler = torch.optim.lr_scheduler.CosineAnnealingLR(optimizer, T_max=20, eta_min=0.0001)"
   ]
  },
  {
   "cell_type": "code",
   "execution_count": 15,
   "metadata": {
    "executionInfo": {
     "elapsed": 4,
     "status": "ok",
     "timestamp": 1680998999723,
     "user": {
      "displayName": "madhav karnati",
      "userId": "09667562301774768185"
     },
     "user_tz": 240
    },
    "id": "xSz2VyADWPyl"
   },
   "outputs": [],
   "source": [
    "n_epochs = 50\n",
    "epoch_count = 0\n",
    "Accuracies = [] \n",
    "valAccuracies = []\n",
    "valLoss = []\n",
    "trainLoss = []\n",
    "validation_accuracy = 0"
   ]
  },
  {
   "cell_type": "code",
   "execution_count": 16,
   "metadata": {
    "colab": {
     "base_uri": "https://localhost:8080/"
    },
    "executionInfo": {
     "elapsed": 595429,
     "status": "ok",
     "timestamp": 1680999630372,
     "user": {
      "displayName": "madhav karnati",
      "userId": "09667562301774768185"
     },
     "user_tz": 240
    },
    "id": "YleCoSGDWSJo",
    "outputId": "556de09f-fdff-4d68-aa33-93af59c82d6a"
   },
   "outputs": [
    {
     "name": "stdout",
     "output_type": "stream",
     "text": [
      "Epoch: 1 \n",
      "######## epoch Finished in 17.795655727386475 seconds ###########\n",
      "Training Data: Epoch Loss: 0.733, Epoch Accuracy: 35.167, Validation Loss: 0.625,Validation Accuracy: 72.948\n",
      "Epoch: 2 \n",
      "######## epoch Finished in 12.289997339248657 seconds ###########\n",
      "Training Data: Epoch Loss: 0.546, Epoch Accuracy: 80.000, Validation Loss: 0.581,Validation Accuracy: 72.948\n",
      "Epoch: 3 \n",
      "######## epoch Finished in 12.36417007446289 seconds ###########\n",
      "Training Data: Epoch Loss: 0.495, Epoch Accuracy: 80.000, Validation Loss: 0.592,Validation Accuracy: 72.948\n",
      "Epoch: 4 \n",
      "######## epoch Finished in 12.391328573226929 seconds ###########\n",
      "Training Data: Epoch Loss: 0.467, Epoch Accuracy: 80.000, Validation Loss: 0.595,Validation Accuracy: 72.948\n",
      "Epoch: 5 \n",
      "######## epoch Finished in 18.38381290435791 seconds ###########\n",
      "Training Data: Epoch Loss: 0.458, Epoch Accuracy: 80.000, Validation Loss: 0.593,Validation Accuracy: 72.948\n",
      "Epoch: 6 \n",
      "######## epoch Finished in 12.883464336395264 seconds ###########\n",
      "Training Data: Epoch Loss: 0.462, Epoch Accuracy: 80.000, Validation Loss: 0.573,Validation Accuracy: 72.948\n",
      "Epoch: 7 \n",
      "######## epoch Finished in 12.070746898651123 seconds ###########\n",
      "Training Data: Epoch Loss: 0.451, Epoch Accuracy: 80.000, Validation Loss: 0.565,Validation Accuracy: 72.948\n",
      "Epoch: 8 \n",
      "######## epoch Finished in 13.089126348495483 seconds ###########\n",
      "Training Data: Epoch Loss: 0.432, Epoch Accuracy: 80.000, Validation Loss: 0.558,Validation Accuracy: 72.948\n",
      "Epoch: 9 \n",
      "######## epoch Finished in 10.788539171218872 seconds ###########\n",
      "Training Data: Epoch Loss: 0.431, Epoch Accuracy: 80.000, Validation Loss: 0.568,Validation Accuracy: 72.948\n",
      "Epoch: 10 \n",
      "######## epoch Finished in 12.468182563781738 seconds ###########\n",
      "Training Data: Epoch Loss: 0.428, Epoch Accuracy: 80.000, Validation Loss: 0.549,Validation Accuracy: 72.948\n",
      "Epoch: 11 \n",
      "######## epoch Finished in 12.9461350440979 seconds ###########\n",
      "Training Data: Epoch Loss: 0.419, Epoch Accuracy: 80.000, Validation Loss: 0.579,Validation Accuracy: 72.948\n",
      "Epoch: 12 \n",
      "######## epoch Finished in 11.458943605422974 seconds ###########\n",
      "Training Data: Epoch Loss: 0.419, Epoch Accuracy: 80.000, Validation Loss: 0.556,Validation Accuracy: 72.948\n",
      "Epoch: 13 \n",
      "######## epoch Finished in 11.518555164337158 seconds ###########\n",
      "Training Data: Epoch Loss: 0.405, Epoch Accuracy: 80.000, Validation Loss: 0.561,Validation Accuracy: 72.948\n",
      "Epoch: 14 \n",
      "######## epoch Finished in 11.56933045387268 seconds ###########\n",
      "Training Data: Epoch Loss: 0.400, Epoch Accuracy: 80.000, Validation Loss: 0.537,Validation Accuracy: 72.948\n",
      "Epoch: 15 \n",
      "######## epoch Finished in 11.580902814865112 seconds ###########\n",
      "Training Data: Epoch Loss: 0.402, Epoch Accuracy: 80.000, Validation Loss: 0.539,Validation Accuracy: 72.948\n",
      "Epoch: 16 \n",
      "######## epoch Finished in 10.983935832977295 seconds ###########\n",
      "Training Data: Epoch Loss: 0.397, Epoch Accuracy: 80.000, Validation Loss: 0.541,Validation Accuracy: 72.948\n",
      "Epoch: 17 \n",
      "######## epoch Finished in 12.303530216217041 seconds ###########\n",
      "Training Data: Epoch Loss: 0.398, Epoch Accuracy: 80.000, Validation Loss: 0.532,Validation Accuracy: 72.948\n",
      "Epoch: 18 \n",
      "######## epoch Finished in 12.100867986679077 seconds ###########\n",
      "Training Data: Epoch Loss: 0.389, Epoch Accuracy: 80.000, Validation Loss: 0.560,Validation Accuracy: 72.948\n",
      "Epoch: 19 \n",
      "######## epoch Finished in 11.51668381690979 seconds ###########\n",
      "Training Data: Epoch Loss: 0.385, Epoch Accuracy: 80.000, Validation Loss: 0.549,Validation Accuracy: 72.948\n",
      "Epoch: 20 \n",
      "######## epoch Finished in 11.550289392471313 seconds ###########\n",
      "Training Data: Epoch Loss: 0.383, Epoch Accuracy: 80.000, Validation Loss: 0.539,Validation Accuracy: 72.948\n",
      "Epoch: 21 \n",
      "######## epoch Finished in 11.533180236816406 seconds ###########\n",
      "Training Data: Epoch Loss: 0.379, Epoch Accuracy: 80.000, Validation Loss: 0.539,Validation Accuracy: 72.948\n",
      "Epoch: 22 \n",
      "######## epoch Finished in 11.51602053642273 seconds ###########\n",
      "Training Data: Epoch Loss: 0.391, Epoch Accuracy: 80.000, Validation Loss: 0.530,Validation Accuracy: 72.948\n",
      "Epoch: 23 \n",
      "######## epoch Finished in 10.945029973983765 seconds ###########\n",
      "Training Data: Epoch Loss: 0.383, Epoch Accuracy: 80.000, Validation Loss: 0.531,Validation Accuracy: 72.948\n",
      "Epoch: 24 \n",
      "######## epoch Finished in 11.511837482452393 seconds ###########\n",
      "Training Data: Epoch Loss: 0.376, Epoch Accuracy: 80.000, Validation Loss: 0.529,Validation Accuracy: 72.948\n",
      "Epoch: 25 \n",
      "######## epoch Finished in 11.570412158966064 seconds ###########\n",
      "Training Data: Epoch Loss: 0.378, Epoch Accuracy: 80.000, Validation Loss: 0.538,Validation Accuracy: 72.948\n",
      "Epoch: 26 \n",
      "######## epoch Finished in 11.559773921966553 seconds ###########\n",
      "Training Data: Epoch Loss: 0.381, Epoch Accuracy: 80.167, Validation Loss: 0.538,Validation Accuracy: 72.948\n",
      "Epoch: 27 \n",
      "######## epoch Finished in 11.622879266738892 seconds ###########\n",
      "Training Data: Epoch Loss: 0.369, Epoch Accuracy: 80.000, Validation Loss: 0.529,Validation Accuracy: 72.948\n",
      "Epoch: 28 \n",
      "######## epoch Finished in 11.545161008834839 seconds ###########\n",
      "Training Data: Epoch Loss: 0.366, Epoch Accuracy: 80.000, Validation Loss: 0.521,Validation Accuracy: 72.948\n",
      "Epoch: 29 \n",
      "######## epoch Finished in 10.925409317016602 seconds ###########\n",
      "Training Data: Epoch Loss: 0.365, Epoch Accuracy: 80.000, Validation Loss: 0.535,Validation Accuracy: 72.948\n",
      "Epoch: 30 \n",
      "######## epoch Finished in 11.440948247909546 seconds ###########\n",
      "Training Data: Epoch Loss: 0.367, Epoch Accuracy: 80.167, Validation Loss: 0.521,Validation Accuracy: 72.948\n",
      "Epoch: 31 \n",
      "######## epoch Finished in 11.562509775161743 seconds ###########\n",
      "Training Data: Epoch Loss: 0.346, Epoch Accuracy: 80.167, Validation Loss: 0.516,Validation Accuracy: 72.948\n",
      "Epoch: 32 \n",
      "######## epoch Finished in 11.558057069778442 seconds ###########\n",
      "Training Data: Epoch Loss: 0.345, Epoch Accuracy: 80.667, Validation Loss: 0.505,Validation Accuracy: 73.100\n",
      "Epoch: 33 \n",
      "######## epoch Finished in 11.604167222976685 seconds ###########\n",
      "Training Data: Epoch Loss: 0.332, Epoch Accuracy: 80.833, Validation Loss: 0.516,Validation Accuracy: 73.404\n",
      "Epoch: 34 \n",
      "######## epoch Finished in 11.596414566040039 seconds ###########\n",
      "Training Data: Epoch Loss: 0.324, Epoch Accuracy: 82.000, Validation Loss: 0.517,Validation Accuracy: 74.012\n",
      "Epoch: 35 \n",
      "######## epoch Finished in 11.12399673461914 seconds ###########\n",
      "Training Data: Epoch Loss: 0.309, Epoch Accuracy: 82.167, Validation Loss: 0.475,Validation Accuracy: 74.772\n",
      "Epoch: 36 \n",
      "######## epoch Finished in 11.166553020477295 seconds ###########\n",
      "Training Data: Epoch Loss: 0.296, Epoch Accuracy: 84.667, Validation Loss: 0.484,Validation Accuracy: 75.076\n",
      "Epoch: 37 \n",
      "######## epoch Finished in 11.571120977401733 seconds ###########\n",
      "Training Data: Epoch Loss: 0.283, Epoch Accuracy: 85.500, Validation Loss: 0.500,Validation Accuracy: 77.660\n",
      "Epoch: 38 \n",
      "######## epoch Finished in 11.565046310424805 seconds ###########\n",
      "Training Data: Epoch Loss: 0.285, Epoch Accuracy: 86.167, Validation Loss: 0.483,Validation Accuracy: 77.964\n",
      "Epoch: 39 \n",
      "######## epoch Finished in 11.533189058303833 seconds ###########\n",
      "Training Data: Epoch Loss: 0.266, Epoch Accuracy: 89.333, Validation Loss: 0.462,Validation Accuracy: 79.179\n",
      "Epoch: 40 \n",
      "######## epoch Finished in 11.55998706817627 seconds ###########\n",
      "Training Data: Epoch Loss: 0.245, Epoch Accuracy: 90.667, Validation Loss: 0.490,Validation Accuracy: 78.723\n",
      "Epoch: 41 \n",
      "######## epoch Finished in 11.289418697357178 seconds ###########\n",
      "Training Data: Epoch Loss: 0.232, Epoch Accuracy: 90.500, Validation Loss: 0.460,Validation Accuracy: 79.939\n",
      "Epoch: 42 \n",
      "######## epoch Finished in 10.972556114196777 seconds ###########\n",
      "Training Data: Epoch Loss: 0.237, Epoch Accuracy: 91.500, Validation Loss: 0.468,Validation Accuracy: 79.939\n",
      "Epoch: 43 \n",
      "######## epoch Finished in 11.500180006027222 seconds ###########\n",
      "Training Data: Epoch Loss: 0.219, Epoch Accuracy: 92.333, Validation Loss: 0.457,Validation Accuracy: 80.699\n",
      "Epoch: 44 \n",
      "######## epoch Finished in 11.492899179458618 seconds ###########\n",
      "Training Data: Epoch Loss: 0.209, Epoch Accuracy: 93.000, Validation Loss: 0.442,Validation Accuracy: 80.091\n",
      "Epoch: 45 \n",
      "######## epoch Finished in 11.62345838546753 seconds ###########\n",
      "Training Data: Epoch Loss: 0.205, Epoch Accuracy: 92.833, Validation Loss: 0.493,Validation Accuracy: 79.331\n",
      "Epoch: 46 \n",
      "######## epoch Finished in 11.709089517593384 seconds ###########\n",
      "Training Data: Epoch Loss: 0.185, Epoch Accuracy: 93.667, Validation Loss: 0.444,Validation Accuracy: 79.635\n",
      "Epoch: 47 \n",
      "######## epoch Finished in 11.25329041481018 seconds ###########\n",
      "Training Data: Epoch Loss: 0.171, Epoch Accuracy: 95.333, Validation Loss: 0.446,Validation Accuracy: 80.091\n",
      "Epoch: 48 \n",
      "######## epoch Finished in 11.017465591430664 seconds ###########\n",
      "Training Data: Epoch Loss: 0.177, Epoch Accuracy: 95.167, Validation Loss: 0.451,Validation Accuracy: 80.091\n",
      "Epoch: 49 \n",
      "######## epoch Finished in 11.47756290435791 seconds ###########\n",
      "Training Data: Epoch Loss: 0.178, Epoch Accuracy: 94.667, Validation Loss: 0.462,Validation Accuracy: 80.699\n",
      "Epoch: 50 \n",
      "######## epoch Finished in 11.489149808883667 seconds ###########\n",
      "Training Data: Epoch Loss: 0.160, Epoch Accuracy: 96.500, Validation Loss: 0.466,Validation Accuracy: 81.003\n"
     ]
    }
   ],
   "source": [
    "for epoch in range(n_epochs):\n",
    "    print(\"Epoch: %d \"%(epoch+1))\n",
    "    model.train()\n",
    "    running_loss=0.0\n",
    "    running_correct=0.0\n",
    "    val_loss=0.0\n",
    "    total=0\n",
    "    t1 = time.time()\n",
    "    for i,data in enumerate(train_loader):\n",
    "        images,labels=data\n",
    "        images=images.to(device)\n",
    "        labels=labels.to(device)\n",
    "        total+=labels.size(0)\n",
    "        optimizer.zero_grad()\n",
    "        outputs=model(images)\n",
    "        _,predicted=torch.max(outputs.data,1)\n",
    "        loss=criterion(outputs,labels)\n",
    "        loss.backward()\n",
    "        optimizer.step()\n",
    "        running_loss+=loss.item()\n",
    "        running_correct+=(labels==predicted).sum().item()\n",
    "        traning_accuracy=(running_correct/total)*100\n",
    "    \n",
    "    validation_accuracy=0\n",
    "    model.eval()\n",
    "    with torch.no_grad():\n",
    "        val_correct=0\n",
    "        val_total=0\n",
    "        val_loss=0\n",
    "        for data in validate_loader:\n",
    "            images,val_labels=data[0].to(device), data[1].to(device)\n",
    "            images = images.to(device)\n",
    "            val_labels = val_labels.to(device)\n",
    "            outputs=model(images)\n",
    "            loss_val=criterion(outputs,val_labels)\n",
    "            val_loss+= loss_val.item()\n",
    "            _,predicted=torch.max(outputs.data,1)\n",
    "            val_correct+=(predicted == val_labels).sum().item()\n",
    "            val_total+=val_labels.size(0)\n",
    "        validation_accuracy = (val_correct / val_total) *100\n",
    "    \n",
    "    scheduler.step()\n",
    "    epoch_loss=running_loss/len(train_loader)\n",
    "    val_loss=val_loss/len(validate_loader)\n",
    "    epoch_accuracy=100.00* running_correct/total\n",
    "    Accuracies.append(epoch_accuracy)\n",
    "    valAccuracies.append(validation_accuracy)\n",
    "    trainLoss.append(epoch_loss)\n",
    "    valLoss.append(val_loss)\n",
    "    print(\"######## epoch Finished in {} seconds ###########\".format(time.time()\\\n",
    "                                                                    -t1))\n",
    "    print(\"Training Data: Epoch Loss: %.3f, Epoch Accuracy: %.3f, Validation Loss: %.3f,Validation Accuracy: %.3f\"%(epoch_loss,epoch_accuracy,val_loss,validation_accuracy))\n",
    "    "
   ]
  },
  {
   "cell_type": "code",
   "execution_count": 17,
   "metadata": {
    "colab": {
     "base_uri": "https://localhost:8080/"
    },
    "executionInfo": {
     "elapsed": 39,
     "status": "ok",
     "timestamp": 1680999630373,
     "user": {
      "displayName": "madhav karnati",
      "userId": "09667562301774768185"
     },
     "user_tz": 240
    },
    "id": "w_XHW_ieWa1K",
    "outputId": "26a87717-87d7-415e-ffcd-1ea9f8f5c70e"
   },
   "outputs": [
    {
     "name": "stdout",
     "output_type": "stream",
     "text": [
      "---Training finished in 11.508073091506958 seconds---\n"
     ]
    }
   ],
   "source": [
    "print(\"---Training finished in {} seconds---\".format(time.time()-t1))\n",
    "epoch_count+=n_epochs\n",
    "torch.save(model.state_dict(), \"2-Class-InceptionV3-\"+str(epoch_count)+\"-epoch.pt\")"
   ]
  },
  {
   "cell_type": "code",
   "execution_count": 18,
   "metadata": {
    "executionInfo": {
     "elapsed": 6,
     "status": "ok",
     "timestamp": 1680999630373,
     "user": {
      "displayName": "madhav karnati",
      "userId": "09667562301774768185"
     },
     "user_tz": 240
    },
    "id": "F4vfI4r7WeNW"
   },
   "outputs": [],
   "source": [
    "def evaluate_model(model,test_loader):\n",
    "    model.eval()\n",
    "    predicted_correct =0\n",
    "    total = 0\n",
    "    with torch.no_grad():\n",
    "        for data in test_loader:\n",
    "            images,labels = data\n",
    "            images = images.to(device)\n",
    "            labels = labels.to(device)\n",
    "            total+=labels.size(0)\n",
    "            outputs = model(images)\n",
    "            _,predicted = torch.max(outputs,1)\n",
    "            predicted_correct += (predicted == labels).sum().item()\n",
    "    epoch_accuracy = 100.0* predicted_correct/total\n",
    "    print(\"Testing Data: Epoch Accuracy: %.3f\"%(epoch_accuracy))\n",
    "    return epoch_accuracy"
   ]
  },
  {
   "cell_type": "code",
   "execution_count": 19,
   "metadata": {
    "colab": {
     "base_uri": "https://localhost:8080/"
    },
    "executionInfo": {
     "elapsed": 9596,
     "status": "ok",
     "timestamp": 1680999639964,
     "user": {
      "displayName": "madhav karnati",
      "userId": "09667562301774768185"
     },
     "user_tz": 240
    },
    "id": "o4iZwGT-WhVq",
    "outputId": "a614020c-a9ea-4a98-e15f-d26b5766518e"
   },
   "outputs": [
    {
     "name": "stdout",
     "output_type": "stream",
     "text": [
      "Testing Data: Epoch Accuracy: 82.031\n"
     ]
    },
    {
     "data": {
      "text/plain": [
       "82.03125"
      ]
     },
     "execution_count": 19,
     "metadata": {},
     "output_type": "execute_result"
    }
   ],
   "source": [
    "evaluate_model(model,test_loader)"
   ]
  },
  {
   "cell_type": "code",
   "execution_count": 20,
   "metadata": {
    "executionInfo": {
     "elapsed": 12,
     "status": "ok",
     "timestamp": 1680999639966,
     "user": {
      "displayName": "madhav karnati",
      "userId": "09667562301774768185"
     },
     "user_tz": 240
    },
    "id": "JYNSCTmbWkDv"
   },
   "outputs": [],
   "source": [
    "dict = {'Training': Accuracies, 'Validation': valAccuracies} \n",
    "dictLoss = {'Training': trainLoss,'Validation': valLoss}\n",
    "df = pd.DataFrame(dict)\n",
    "df2 = pd.DataFrame(dictLoss)\n",
    "df.to_csv(\"Accuracies_InceptionV3_2classes\"+str(epoch_count)+\".csv\")\n",
    "df2.to_csv(\"Loss_InceptionV3_2classes\"+str(epoch_count)+\".csv\")"
   ]
  },
  {
   "cell_type": "code",
   "execution_count": 21,
   "metadata": {
    "colab": {
     "base_uri": "https://localhost:8080/",
     "height": 472
    },
    "executionInfo": {
     "elapsed": 433,
     "status": "ok",
     "timestamp": 1680999640390,
     "user": {
      "displayName": "madhav karnati",
      "userId": "09667562301774768185"
     },
     "user_tz": 240
    },
    "id": "YAo3BO6VWmco",
    "outputId": "8ce4ba4a-f83a-44dd-8636-8598d6eb15be"
   },
   "outputs": [
    {
     "data": {
      "image/png": "[encoded data removed]",
      "text/plain": [
       "<Figure size 640x480 with 1 Axes>"
      ]
     },
     "metadata": {},
     "output_type": "display_data"
    }
   ],
   "source": [
    "plt.plot(range(n_epochs),Accuracies, label=\"Training\")\n",
    "plt.plot(range(n_epochs),valAccuracies, label=\"Validation\")\n",
    "plt.xlabel(\"Epochs\")\n",
    "plt.ylabel(\"Accuracies\")\n",
    "plt.title(\"Training vs Validation Accuracies\")\n",
    "plt.legend()\n",
    "plt.show()"
   ]
  },
  {
   "cell_type": "code",
   "execution_count": 22,
   "metadata": {
    "colab": {
     "base_uri": "https://localhost:8080/",
     "height": 472
    },
    "executionInfo": {
     "elapsed": 433,
     "status": "ok",
     "timestamp": 1680999640815,
     "user": {
      "displayName": "madhav karnati",
      "userId": "09667562301774768185"
     },
     "user_tz": 240
    },
    "id": "USQmJBzRWod7",
    "outputId": "bc9333a6-2733-4403-8308-4f8035292d5a"
   },
   "outputs": [
    {
     "data": {
      "image/png": "[encoded data removed]",
      "text/plain": [
       "<Figure size 640x480 with 1 Axes>"
      ]
     },
     "metadata": {},
     "output_type": "display_data"
    }
   ],
   "source": [
    "plt.plot(range(n_epochs),trainLoss, label=\"Training\")\n",
    "plt.plot(range(n_epochs),valLoss, label=\"Validation\")\n",
    "plt.xlabel(\"Epochs\")\n",
    "plt.ylabel(\"Loss\")\n",
    "plt.title(\"Training vs Validation Loss\")\n",
    "plt.legend()\n",
    "plt.show()"
   ]
  },
  {
   "cell_type": "code",
   "execution_count": 23,
   "metadata": {
    "executionInfo": {
     "elapsed": 12,
     "status": "ok",
     "timestamp": 1680999640816,
     "user": {
      "displayName": "madhav karnati",
      "userId": "09667562301774768185"
     },
     "user_tz": 240
    },
    "id": "qZuYtk3dWrBB"
   },
   "outputs": [],
   "source": [
    "from sklearn.metrics import confusion_matrix,accuracy_score,precision_score,recall_score,f1_score,ConfusionMatrixDisplay"
   ]
  },
  {
   "cell_type": "code",
   "execution_count": 24,
   "metadata": {
    "executionInfo": {
     "elapsed": 8499,
     "status": "ok",
     "timestamp": 1680999649304,
     "user": {
      "displayName": "madhav karnati",
      "userId": "09667562301774768185"
     },
     "user_tz": 240
    },
    "id": "T6x84ZuiWuzX"
   },
   "outputs": [],
   "source": [
    "y_pred = []\n",
    "y_true = []\n",
    "\n",
    "for data in test_loader:\n",
    "        inputs, labels = data[0].to(device), data[1].to(device)\n",
    "        output = model(inputs) \n",
    "        output = (torch.max(torch.exp(output), 1)[1]).data.cpu().numpy()\n",
    "        y_pred.extend(output) \n",
    "        labels = labels.data.cpu().numpy()\n",
    "        y_true.extend(labels)"
   ]
  },
  {
   "cell_type": "code",
   "execution_count": 25,
   "metadata": {
    "colab": {
     "base_uri": "https://localhost:8080/",
     "height": 700
    },
    "executionInfo": {
     "elapsed": 464,
     "status": "ok",
     "timestamp": 1680999649743,
     "user": {
      "displayName": "madhav karnati",
      "userId": "09667562301774768185"
     },
     "user_tz": 240
    },
    "id": "37oGYpb-WxKV",
    "outputId": "de5f03d9-c225-416c-a8eb-7e2962b8938a"
   },
   "outputs": [
    {
     "data": {
      "image/png": "[encoded data removed]",
      "text/plain": [
       "<Figure size 1300x1300 with 2 Axes>"
      ]
     },
     "metadata": {},
     "output_type": "display_data"
    }
   ],
   "source": [
    "classes = (0,1)\n",
    "confusion_matrix(y_true, y_pred)\n",
    "disp = ConfusionMatrixDisplay(confusion_matrix(y_true, y_pred),display_labels=classes)\n",
    "fig,ax = plt.subplots()\n",
    "fig.set_size_inches(13,13)\n",
    "plt.title(\"Confusion Matrix InceptionV3 (2-Classes)\")\n",
    "disp.plot(ax=ax)\n",
    "plt.show()"
   ]
  },
  {
   "cell_type": "code",
   "execution_count": 26,
   "metadata": {
    "colab": {
     "base_uri": "https://localhost:8080/"
    },
    "executionInfo": {
     "elapsed": 6,
     "status": "ok",
     "timestamp": 1680999650149,
     "user": {
      "displayName": "madhav karnati",
      "userId": "09667562301774768185"
     },
     "user_tz": 240
    },
    "id": "M-asllEiW0NL",
    "outputId": "7e66cab2-88f5-4d23-8289-536347704e83"
   },
   "outputs": [
    {
     "name": "stdout",
     "output_type": "stream",
     "text": [
      "Precision Macro:0.71\n",
      "Precision Micro:0.82\n",
      "Recall Macro:0.55\n",
      "Recall Micro:0.82\n",
      "F1-Score Macro:0.55\n",
      "F1-Score Micro:0.82\n"
     ]
    }
   ],
   "source": [
    "print(\"Precision Macro:{:.2f}\".format(precision_score(y_true, y_pred, average='macro')))\n",
    "print(\"Precision Micro:{:.2f}\".format(precision_score(y_true,y_pred,average='micro')))\n",
    "print(\"Recall Macro:{:.2f}\".format(recall_score(y_true,y_pred,average='macro')))\n",
    "print(\"Recall Micro:{:.2f}\".format(recall_score(y_true,y_pred,average='micro')))\n",
    "print(\"F1-Score Macro:{:.2f}\".format(f1_score(y_true,y_pred,average='macro')))\n",
    "print(\"F1-Score Micro:{:.2f}\".format(f1_score(y_true,y_pred,average='micro')))"
   ]
  },
  {
   "cell_type": "code",
   "execution_count": null,
   "metadata": {
    "id": "pnz_Ch6nW63w"
   },
   "outputs": [],
   "source": []
  }
 ],
 "metadata": {
  "accelerator": "GPU",
  "colab": {
   "authorship_tag": "ABX9TyMVsjQa+sB8g4KeB9uePUcf",
   "provenance": []
  },
  "gpuClass": "standard",
  "kernelspec": {
   "display_name": "Python 3 (ipykernel)",
   "language": "python",
   "name": "python3"
  },
  "language_info": {
   "codemirror_mode": {
    "name": "ipython",
    "version": 3
   },
   "file_extension": ".py",
   "mimetype": "text/x-python",
   "name": "python",
   "nbconvert_exporter": "python",
   "pygments_lexer": "ipython3",
   "version": "3.10.10"
  }
 },
 "nbformat": 4,
 "nbformat_minor": 1
}
