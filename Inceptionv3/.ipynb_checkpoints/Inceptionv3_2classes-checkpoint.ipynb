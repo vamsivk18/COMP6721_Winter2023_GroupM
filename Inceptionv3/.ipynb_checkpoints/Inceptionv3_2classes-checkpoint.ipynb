{
 "cells": [
  {
   "cell_type": "code",
   "execution_count": 1,
   "metadata": {
    "id": "qxfGGL4cxa8j"
   },
   "outputs": [],
   "source": [
    "import torch.nn as nn\n",
    "import torch\n",
    "import torchvision.transforms as transforms\n",
    "from torchsummary import summary\n",
    "import torchvision\n",
    "import time\n",
    "import matplotlib.pyplot as plt\n",
    "import numpy as np\n",
    "from sklearn.metrics import confusion_matrix\n",
    "import pandas as pd\n",
    "import seaborn as sns\n",
    "import os\n",
    "from google.colab import files\n",
    "from google.colab import drive\n",
    "import torchvision.models as models"
   ]
  },
  {
   "cell_type": "code",
   "execution_count": 2,
   "metadata": {
    "colab": {
     "base_uri": "https://localhost:8080/"
    },
    "id": "-p0JmmwwyLKA",
    "outputId": "f6a10ec8-47a4-44d2-c75c-7d526303e088"
   },
   "outputs": [
    {
     "name": "stdout",
     "output_type": "stream",
     "text": [
      "Mounted at /content/drive\n"
     ]
    }
   ],
   "source": [
    "from google.colab import drive\n",
    "drive.mount('/content/drive')"
   ]
  },
  {
   "cell_type": "code",
   "execution_count": 3,
   "metadata": {
    "colab": {
     "base_uri": "https://localhost:8080/"
    },
    "id": "IACwTcnzyR6K",
    "outputId": "1346d066-ca00-481f-b660-fa8167fe094c"
   },
   "outputs": [
    {
     "name": "stdout",
     "output_type": "stream",
     "text": [
      "Done\n"
     ]
    }
   ],
   "source": [
    "from zipfile import *\n",
    "file_name = \"/content/drive/MyDrive//dataset_2_classes.zip\" \n",
    "with ZipFile(file_name, 'r') as zip:\n",
    "  zip.extractall()\n",
    "  print('Done')"
   ]
  },
  {
   "cell_type": "code",
   "execution_count": 4,
   "metadata": {
    "id": "nVzIkFWryT45"
   },
   "outputs": [],
   "source": [
    "def get_mean_std(loader):\n",
    "    mean = 0.\n",
    "    std = 0.\n",
    "    total_images_count = 0\n",
    "    for images,_ in loader:\n",
    "        images_count_in_batch = images.size(0)\n",
    "#         print(images.shape)\n",
    "        images =images.view(images_count_in_batch,images.size(1),-1)\n",
    "        mean+=images.mean(2).sum(0)\n",
    "        std+=images.std(2).sum(0)\n",
    "        total_images_count+=images_count_in_batch\n",
    "    mean /= total_images_count\n",
    "    std /= total_images_count\n",
    "    return mean,std"
   ]
  },
  {
   "cell_type": "code",
   "execution_count": 5,
   "metadata": {
    "id": "Ixqdv9t6yXUu"
   },
   "outputs": [],
   "source": [
    "def transform(dataset):\n",
    "    data_transform = transforms.Compose([transforms.Resize((224,224)),transforms.ToTensor()])\n",
    "    data_set=torchvision.datasets.ImageFolder(root=dataset,transform=data_transform)\n",
    "    data_loader=torch.utils.data.DataLoader(dataset=data_set,batch_size=32,shuffle=True)\n",
    "    mean,std=get_mean_std(data_loader)\n",
    "    data_transform = transforms.Compose([\n",
    "        transforms.Resize((299,299)),\n",
    "        transforms.RandomHorizontalFlip(),\n",
    "        transforms.RandomRotation(10),\n",
    "        transforms.ToTensor(),\n",
    "        transforms.Normalize(torch.Tensor(mean),torch.Tensor(std))\n",
    "    ])\n",
    "    data_set=torchvision.datasets.ImageFolder(root=dataset,transform=data_transform)\n",
    "    data_loader=torch.utils.data.DataLoader(dataset=data_set,batch_size=32,shuffle=True,drop_last=False,num_workers=0)\n",
    "    return data_loader,data_set"
   ]
  },
  {
   "cell_type": "code",
   "execution_count": 6,
   "metadata": {
    "id": "VadSlUgvyaGm"
   },
   "outputs": [],
   "source": [
    "train_dataset='dataset_2_classes/test/'\n",
    "train_loader,training_dataset=transform(train_dataset)"
   ]
  },
  {
   "cell_type": "code",
   "execution_count": 7,
   "metadata": {
    "id": "ZeYK682eyeXU"
   },
   "outputs": [],
   "source": [
    "validate_dataset='dataset_2_classes/validate/'\n",
    "validate_loader,validating_dataset=transform(validate_dataset)"
   ]
  },
  {
   "cell_type": "code",
   "execution_count": 8,
   "metadata": {
    "id": "LfhTOznAyhtQ"
   },
   "outputs": [],
   "source": [
    "test_dataset='dataset_2_classes/test/'\n",
    "test_loader,testing_dataset=transform(test_dataset)"
   ]
  },
  {
   "cell_type": "code",
   "execution_count": 9,
   "metadata": {
    "id": "Xi_Eggkqymr0"
   },
   "outputs": [],
   "source": [
    "def set_device():\n",
    "    device= torch.device(\"cuda:0\" if torch.cuda.is_available() else \"cpu\")\n",
    "    return device"
   ]
  },
  {
   "cell_type": "code",
   "execution_count": 10,
   "metadata": {
    "id": "gN58P1AIyoB8"
   },
   "outputs": [],
   "source": [
    "device=set_device()"
   ]
  },
  {
   "cell_type": "code",
   "execution_count": 11,
   "metadata": {
    "colab": {
     "base_uri": "https://localhost:8080/"
    },
    "id": "Ujzqx0hcy71K",
    "outputId": "9e05e914-e71d-49f6-a66c-aae008e1202b"
   },
   "outputs": [
    {
     "name": "stderr",
     "output_type": "stream",
     "text": [
      "/usr/local/lib/python3.9/dist-packages/torchvision/models/_utils.py:208: UserWarning: The parameter 'pretrained' is deprecated since 0.13 and may be removed in the future, please use 'weights' instead.\n",
      "  warnings.warn(\n",
      "/usr/local/lib/python3.9/dist-packages/torchvision/models/_utils.py:223: UserWarning: Arguments other than a weight enum or `None` for 'weights' are deprecated since 0.13 and may be removed in the future. The current behavior is equivalent to passing `weights=None`.\n",
      "  warnings.warn(msg)\n",
      "/usr/local/lib/python3.9/dist-packages/torchvision/models/googlenet.py:47: FutureWarning: The default weight initialization of GoogleNet will be changed in future releases of torchvision. If you wish to keep the old behavior (which leads to long initialization times due to scipy/scipy#11299), please set init_weights=True.\n",
      "  warnings.warn(\n"
     ]
    }
   ],
   "source": [
    "model= models.googlenet(pretrained=False)\n"
   ]
  },
  {
   "cell_type": "code",
   "execution_count": 12,
   "metadata": {
    "id": "ejgESEKMzUiH"
   },
   "outputs": [],
   "source": [
    "def get_model():\n",
    "    model = models.inception_v3(pretrained=False)\n",
    "    for param in model.parameters():\n",
    "        param.requires_grad = False #Freezing all the layers and changing only the below layers\n",
    "    model.avgpool = nn.AdaptiveAvgPool2d(output_size=(1,1))\n",
    "    model.fc = nn.Sequential(nn.Flatten(),\n",
    "                            nn.Linear(2048,128),\n",
    "                            nn.ReLU(),\n",
    "                            nn.Dropout(0.2),\n",
    "                            nn.Linear(128,6))\n",
    "    model.aux_logits = False\n",
    "    loss_fn = nn.CrossEntropyLoss()\n",
    "    optimizer = torch.optim.Adam(model.parameters(), lr= 0.0002)\n",
    "    return model.to(device), loss_fn, optimizer"
   ]
  },
  {
   "cell_type": "code",
   "execution_count": 13,
   "metadata": {
    "colab": {
     "base_uri": "https://localhost:8080/"
    },
    "id": "M5BapYDMz7s3",
    "outputId": "13594499-137d-4135-b024-60ca03c63c3e"
   },
   "outputs": [
    {
     "name": "stdout",
     "output_type": "stream",
     "text": [
      "Looking in indexes: https://pypi.org/simple, https://us-python.pkg.dev/colab-wheels/public/simple/\n",
      "Requirement already satisfied: torchsummary in /usr/local/lib/python3.9/dist-packages (1.5.1)\n"
     ]
    }
   ],
   "source": [
    "!pip install torchsummary"
   ]
  },
  {
   "cell_type": "code",
   "execution_count": 14,
   "metadata": {
    "colab": {
     "base_uri": "https://localhost:8080/"
    },
    "id": "EdXCIug4z_oP",
    "outputId": "5d659731-8918-4829-b009-30cf2361ebfe"
   },
   "outputs": [
    {
     "name": "stdout",
     "output_type": "stream",
     "text": [
      "----------------------------------------------------------------\n",
      "        Layer (type)               Output Shape         Param #\n",
      "================================================================\n",
      "            Conv2d-1         [-1, 64, 150, 150]           9,408\n",
      "       BatchNorm2d-2         [-1, 64, 150, 150]             128\n",
      "       BasicConv2d-3         [-1, 64, 150, 150]               0\n",
      "         MaxPool2d-4           [-1, 64, 75, 75]               0\n",
      "            Conv2d-5           [-1, 64, 75, 75]           4,096\n",
      "       BatchNorm2d-6           [-1, 64, 75, 75]             128\n",
      "       BasicConv2d-7           [-1, 64, 75, 75]               0\n",
      "            Conv2d-8          [-1, 192, 75, 75]         110,592\n",
      "       BatchNorm2d-9          [-1, 192, 75, 75]             384\n",
      "      BasicConv2d-10          [-1, 192, 75, 75]               0\n",
      "        MaxPool2d-11          [-1, 192, 37, 37]               0\n",
      "           Conv2d-12           [-1, 64, 37, 37]          12,288\n",
      "      BatchNorm2d-13           [-1, 64, 37, 37]             128\n",
      "      BasicConv2d-14           [-1, 64, 37, 37]               0\n",
      "           Conv2d-15           [-1, 96, 37, 37]          18,432\n",
      "      BatchNorm2d-16           [-1, 96, 37, 37]             192\n",
      "      BasicConv2d-17           [-1, 96, 37, 37]               0\n",
      "           Conv2d-18          [-1, 128, 37, 37]         110,592\n",
      "      BatchNorm2d-19          [-1, 128, 37, 37]             256\n",
      "      BasicConv2d-20          [-1, 128, 37, 37]               0\n",
      "           Conv2d-21           [-1, 16, 37, 37]           3,072\n",
      "      BatchNorm2d-22           [-1, 16, 37, 37]              32\n",
      "      BasicConv2d-23           [-1, 16, 37, 37]               0\n",
      "           Conv2d-24           [-1, 32, 37, 37]           4,608\n",
      "      BatchNorm2d-25           [-1, 32, 37, 37]              64\n",
      "      BasicConv2d-26           [-1, 32, 37, 37]               0\n",
      "        MaxPool2d-27          [-1, 192, 37, 37]               0\n",
      "           Conv2d-28           [-1, 32, 37, 37]           6,144\n",
      "      BatchNorm2d-29           [-1, 32, 37, 37]              64\n",
      "      BasicConv2d-30           [-1, 32, 37, 37]               0\n",
      "        Inception-31          [-1, 256, 37, 37]               0\n",
      "           Conv2d-32          [-1, 128, 37, 37]          32,768\n",
      "      BatchNorm2d-33          [-1, 128, 37, 37]             256\n",
      "      BasicConv2d-34          [-1, 128, 37, 37]               0\n",
      "           Conv2d-35          [-1, 128, 37, 37]          32,768\n",
      "      BatchNorm2d-36          [-1, 128, 37, 37]             256\n",
      "      BasicConv2d-37          [-1, 128, 37, 37]               0\n",
      "           Conv2d-38          [-1, 192, 37, 37]         221,184\n",
      "      BatchNorm2d-39          [-1, 192, 37, 37]             384\n",
      "      BasicConv2d-40          [-1, 192, 37, 37]               0\n",
      "           Conv2d-41           [-1, 32, 37, 37]           8,192\n",
      "      BatchNorm2d-42           [-1, 32, 37, 37]              64\n",
      "      BasicConv2d-43           [-1, 32, 37, 37]               0\n",
      "           Conv2d-44           [-1, 96, 37, 37]          27,648\n",
      "      BatchNorm2d-45           [-1, 96, 37, 37]             192\n",
      "      BasicConv2d-46           [-1, 96, 37, 37]               0\n",
      "        MaxPool2d-47          [-1, 256, 37, 37]               0\n",
      "           Conv2d-48           [-1, 64, 37, 37]          16,384\n",
      "      BatchNorm2d-49           [-1, 64, 37, 37]             128\n",
      "      BasicConv2d-50           [-1, 64, 37, 37]               0\n",
      "        Inception-51          [-1, 480, 37, 37]               0\n",
      "        MaxPool2d-52          [-1, 480, 18, 18]               0\n",
      "           Conv2d-53          [-1, 192, 18, 18]          92,160\n",
      "      BatchNorm2d-54          [-1, 192, 18, 18]             384\n",
      "      BasicConv2d-55          [-1, 192, 18, 18]               0\n",
      "           Conv2d-56           [-1, 96, 18, 18]          46,080\n",
      "      BatchNorm2d-57           [-1, 96, 18, 18]             192\n",
      "      BasicConv2d-58           [-1, 96, 18, 18]               0\n",
      "           Conv2d-59          [-1, 208, 18, 18]         179,712\n",
      "      BatchNorm2d-60          [-1, 208, 18, 18]             416\n",
      "      BasicConv2d-61          [-1, 208, 18, 18]               0\n",
      "           Conv2d-62           [-1, 16, 18, 18]           7,680\n",
      "      BatchNorm2d-63           [-1, 16, 18, 18]              32\n",
      "      BasicConv2d-64           [-1, 16, 18, 18]               0\n",
      "           Conv2d-65           [-1, 48, 18, 18]           6,912\n",
      "      BatchNorm2d-66           [-1, 48, 18, 18]              96\n",
      "      BasicConv2d-67           [-1, 48, 18, 18]               0\n",
      "        MaxPool2d-68          [-1, 480, 18, 18]               0\n",
      "           Conv2d-69           [-1, 64, 18, 18]          30,720\n",
      "      BatchNorm2d-70           [-1, 64, 18, 18]             128\n",
      "      BasicConv2d-71           [-1, 64, 18, 18]               0\n",
      "        Inception-72          [-1, 512, 18, 18]               0\n",
      "           Conv2d-73            [-1, 128, 4, 4]          65,536\n",
      "      BatchNorm2d-74            [-1, 128, 4, 4]             256\n",
      "      BasicConv2d-75            [-1, 128, 4, 4]               0\n",
      "           Linear-76                 [-1, 1024]       2,098,176\n",
      "          Dropout-77                 [-1, 1024]               0\n",
      "           Linear-78                 [-1, 1000]       1,025,000\n",
      "     InceptionAux-79                 [-1, 1000]               0\n",
      "           Conv2d-80          [-1, 160, 18, 18]          81,920\n",
      "      BatchNorm2d-81          [-1, 160, 18, 18]             320\n",
      "      BasicConv2d-82          [-1, 160, 18, 18]               0\n",
      "           Conv2d-83          [-1, 112, 18, 18]          57,344\n",
      "      BatchNorm2d-84          [-1, 112, 18, 18]             224\n",
      "      BasicConv2d-85          [-1, 112, 18, 18]               0\n",
      "           Conv2d-86          [-1, 224, 18, 18]         225,792\n",
      "      BatchNorm2d-87          [-1, 224, 18, 18]             448\n",
      "      BasicConv2d-88          [-1, 224, 18, 18]               0\n",
      "           Conv2d-89           [-1, 24, 18, 18]          12,288\n",
      "      BatchNorm2d-90           [-1, 24, 18, 18]              48\n",
      "      BasicConv2d-91           [-1, 24, 18, 18]               0\n",
      "           Conv2d-92           [-1, 64, 18, 18]          13,824\n",
      "      BatchNorm2d-93           [-1, 64, 18, 18]             128\n",
      "      BasicConv2d-94           [-1, 64, 18, 18]               0\n",
      "        MaxPool2d-95          [-1, 512, 18, 18]               0\n",
      "           Conv2d-96           [-1, 64, 18, 18]          32,768\n",
      "      BatchNorm2d-97           [-1, 64, 18, 18]             128\n",
      "      BasicConv2d-98           [-1, 64, 18, 18]               0\n",
      "        Inception-99          [-1, 512, 18, 18]               0\n",
      "          Conv2d-100          [-1, 128, 18, 18]          65,536\n",
      "     BatchNorm2d-101          [-1, 128, 18, 18]             256\n",
      "     BasicConv2d-102          [-1, 128, 18, 18]               0\n",
      "          Conv2d-103          [-1, 128, 18, 18]          65,536\n",
      "     BatchNorm2d-104          [-1, 128, 18, 18]             256\n",
      "     BasicConv2d-105          [-1, 128, 18, 18]               0\n",
      "          Conv2d-106          [-1, 256, 18, 18]         294,912\n",
      "     BatchNorm2d-107          [-1, 256, 18, 18]             512\n",
      "     BasicConv2d-108          [-1, 256, 18, 18]               0\n",
      "          Conv2d-109           [-1, 24, 18, 18]          12,288\n",
      "     BatchNorm2d-110           [-1, 24, 18, 18]              48\n",
      "     BasicConv2d-111           [-1, 24, 18, 18]               0\n",
      "          Conv2d-112           [-1, 64, 18, 18]          13,824\n",
      "     BatchNorm2d-113           [-1, 64, 18, 18]             128\n",
      "     BasicConv2d-114           [-1, 64, 18, 18]               0\n",
      "       MaxPool2d-115          [-1, 512, 18, 18]               0\n",
      "          Conv2d-116           [-1, 64, 18, 18]          32,768\n",
      "     BatchNorm2d-117           [-1, 64, 18, 18]             128\n",
      "     BasicConv2d-118           [-1, 64, 18, 18]               0\n",
      "       Inception-119          [-1, 512, 18, 18]               0\n",
      "          Conv2d-120          [-1, 112, 18, 18]          57,344\n",
      "     BatchNorm2d-121          [-1, 112, 18, 18]             224\n",
      "     BasicConv2d-122          [-1, 112, 18, 18]               0\n",
      "          Conv2d-123          [-1, 144, 18, 18]          73,728\n",
      "     BatchNorm2d-124          [-1, 144, 18, 18]             288\n",
      "     BasicConv2d-125          [-1, 144, 18, 18]               0\n",
      "          Conv2d-126          [-1, 288, 18, 18]         373,248\n",
      "     BatchNorm2d-127          [-1, 288, 18, 18]             576\n",
      "     BasicConv2d-128          [-1, 288, 18, 18]               0\n",
      "          Conv2d-129           [-1, 32, 18, 18]          16,384\n",
      "     BatchNorm2d-130           [-1, 32, 18, 18]              64\n",
      "     BasicConv2d-131           [-1, 32, 18, 18]               0\n",
      "          Conv2d-132           [-1, 64, 18, 18]          18,432\n",
      "     BatchNorm2d-133           [-1, 64, 18, 18]             128\n",
      "     BasicConv2d-134           [-1, 64, 18, 18]               0\n",
      "       MaxPool2d-135          [-1, 512, 18, 18]               0\n",
      "          Conv2d-136           [-1, 64, 18, 18]          32,768\n",
      "     BatchNorm2d-137           [-1, 64, 18, 18]             128\n",
      "     BasicConv2d-138           [-1, 64, 18, 18]               0\n",
      "       Inception-139          [-1, 528, 18, 18]               0\n",
      "          Conv2d-140            [-1, 128, 4, 4]          67,584\n",
      "     BatchNorm2d-141            [-1, 128, 4, 4]             256\n",
      "     BasicConv2d-142            [-1, 128, 4, 4]               0\n",
      "          Linear-143                 [-1, 1024]       2,098,176\n",
      "         Dropout-144                 [-1, 1024]               0\n",
      "          Linear-145                 [-1, 1000]       1,025,000\n",
      "    InceptionAux-146                 [-1, 1000]               0\n",
      "          Conv2d-147          [-1, 256, 18, 18]         135,168\n",
      "     BatchNorm2d-148          [-1, 256, 18, 18]             512\n",
      "     BasicConv2d-149          [-1, 256, 18, 18]               0\n",
      "          Conv2d-150          [-1, 160, 18, 18]          84,480\n",
      "     BatchNorm2d-151          [-1, 160, 18, 18]             320\n",
      "     BasicConv2d-152          [-1, 160, 18, 18]               0\n",
      "          Conv2d-153          [-1, 320, 18, 18]         460,800\n",
      "     BatchNorm2d-154          [-1, 320, 18, 18]             640\n",
      "     BasicConv2d-155          [-1, 320, 18, 18]               0\n",
      "          Conv2d-156           [-1, 32, 18, 18]          16,896\n",
      "     BatchNorm2d-157           [-1, 32, 18, 18]              64\n",
      "     BasicConv2d-158           [-1, 32, 18, 18]               0\n",
      "          Conv2d-159          [-1, 128, 18, 18]          36,864\n",
      "     BatchNorm2d-160          [-1, 128, 18, 18]             256\n",
      "     BasicConv2d-161          [-1, 128, 18, 18]               0\n",
      "       MaxPool2d-162          [-1, 528, 18, 18]               0\n",
      "          Conv2d-163          [-1, 128, 18, 18]          67,584\n",
      "     BatchNorm2d-164          [-1, 128, 18, 18]             256\n",
      "     BasicConv2d-165          [-1, 128, 18, 18]               0\n",
      "       Inception-166          [-1, 832, 18, 18]               0\n",
      "       MaxPool2d-167            [-1, 832, 9, 9]               0\n",
      "          Conv2d-168            [-1, 256, 9, 9]         212,992\n",
      "     BatchNorm2d-169            [-1, 256, 9, 9]             512\n",
      "     BasicConv2d-170            [-1, 256, 9, 9]               0\n",
      "          Conv2d-171            [-1, 160, 9, 9]         133,120\n",
      "     BatchNorm2d-172            [-1, 160, 9, 9]             320\n",
      "     BasicConv2d-173            [-1, 160, 9, 9]               0\n",
      "          Conv2d-174            [-1, 320, 9, 9]         460,800\n",
      "     BatchNorm2d-175            [-1, 320, 9, 9]             640\n",
      "     BasicConv2d-176            [-1, 320, 9, 9]               0\n",
      "          Conv2d-177             [-1, 32, 9, 9]          26,624\n",
      "     BatchNorm2d-178             [-1, 32, 9, 9]              64\n",
      "     BasicConv2d-179             [-1, 32, 9, 9]               0\n",
      "          Conv2d-180            [-1, 128, 9, 9]          36,864\n",
      "     BatchNorm2d-181            [-1, 128, 9, 9]             256\n",
      "     BasicConv2d-182            [-1, 128, 9, 9]               0\n",
      "       MaxPool2d-183            [-1, 832, 9, 9]               0\n",
      "          Conv2d-184            [-1, 128, 9, 9]         106,496\n",
      "     BatchNorm2d-185            [-1, 128, 9, 9]             256\n",
      "     BasicConv2d-186            [-1, 128, 9, 9]               0\n",
      "       Inception-187            [-1, 832, 9, 9]               0\n",
      "          Conv2d-188            [-1, 384, 9, 9]         319,488\n",
      "     BatchNorm2d-189            [-1, 384, 9, 9]             768\n",
      "     BasicConv2d-190            [-1, 384, 9, 9]               0\n",
      "          Conv2d-191            [-1, 192, 9, 9]         159,744\n",
      "     BatchNorm2d-192            [-1, 192, 9, 9]             384\n",
      "     BasicConv2d-193            [-1, 192, 9, 9]               0\n",
      "          Conv2d-194            [-1, 384, 9, 9]         663,552\n",
      "     BatchNorm2d-195            [-1, 384, 9, 9]             768\n",
      "     BasicConv2d-196            [-1, 384, 9, 9]               0\n",
      "          Conv2d-197             [-1, 48, 9, 9]          39,936\n",
      "     BatchNorm2d-198             [-1, 48, 9, 9]              96\n",
      "     BasicConv2d-199             [-1, 48, 9, 9]               0\n",
      "          Conv2d-200            [-1, 128, 9, 9]          55,296\n",
      "     BatchNorm2d-201            [-1, 128, 9, 9]             256\n",
      "     BasicConv2d-202            [-1, 128, 9, 9]               0\n",
      "       MaxPool2d-203            [-1, 832, 9, 9]               0\n",
      "          Conv2d-204            [-1, 128, 9, 9]         106,496\n",
      "     BatchNorm2d-205            [-1, 128, 9, 9]             256\n",
      "     BasicConv2d-206            [-1, 128, 9, 9]               0\n",
      "       Inception-207           [-1, 1024, 9, 9]               0\n",
      "AdaptiveAvgPool2d-208           [-1, 1024, 1, 1]               0\n",
      "         Dropout-209                 [-1, 1024]               0\n",
      "          Linear-210                 [-1, 1000]       1,025,000\n",
      "================================================================\n",
      "Total params: 13,004,888\n",
      "Trainable params: 13,004,888\n",
      "Non-trainable params: 0\n",
      "----------------------------------------------------------------\n",
      "Input size (MB): 1.03\n",
      "Forward/backward pass size (MB): 163.54\n",
      "Params size (MB): 49.61\n",
      "Estimated Total Size (MB): 214.18\n",
      "----------------------------------------------------------------\n"
     ]
    }
   ],
   "source": [
    "from torchsummary import summary\n",
    "\n",
    "input_shape = (3,300,300)\n",
    "summary(model.to(device), input_shape)"
   ]
  },
  {
   "cell_type": "code",
   "execution_count": 15,
   "metadata": {
    "id": "2GaXf7mw0EcU"
   },
   "outputs": [],
   "source": [
    "def train_batch(images, labels, model, opt, loss_fn):\n",
    "    output = model(images)\n",
    "#     print(f\"type of output - {type(output)}\")\n",
    "    batch_loss = loss_fn(output, labels)\n",
    "    batch_loss.backward()\n",
    "    optimizer.step()\n",
    "    optimizer.zero_grad()\n",
    "    return batch_loss.item()"
   ]
  },
  {
   "cell_type": "code",
   "execution_count": 16,
   "metadata": {
    "id": "eRYFns9h0Kbz"
   },
   "outputs": [],
   "source": [
    "@torch.no_grad()\n",
    "def accuracy(images, labels, model):\n",
    "    model.eval()\n",
    "    prediction = model(images)\n",
    "    max_values, argmaxes = prediction.max(-1)\n",
    "    is_correct = argmaxes == labels\n",
    "    return is_correct.cpu().numpy().tolist()"
   ]
  },
  {
   "cell_type": "code",
   "execution_count": 17,
   "metadata": {
    "id": "Mrx6WoFq0Uzg"
   },
   "outputs": [],
   "source": [
    "@torch.no_grad()\n",
    "def val_loss(x, y, model):\n",
    "    model.eval()\n",
    "    prediction = model(x)\n",
    "    val_loss = loss_fn(prediction, y)\n",
    "    return val_loss.item()"
   ]
  },
  {
   "cell_type": "code",
   "execution_count": 18,
   "metadata": {
    "colab": {
     "base_uri": "https://localhost:8080/"
    },
    "id": "2GVElEam0Xwl",
    "outputId": "34cb271d-15ae-4cae-dc4b-3f0e5605f54e"
   },
   "outputs": [
    {
     "name": "stderr",
     "output_type": "stream",
     "text": [
      "/usr/local/lib/python3.9/dist-packages/torchvision/models/_utils.py:208: UserWarning: The parameter 'pretrained' is deprecated since 0.13 and may be removed in the future, please use 'weights' instead.\n",
      "  warnings.warn(\n",
      "/usr/local/lib/python3.9/dist-packages/torchvision/models/_utils.py:223: UserWarning: Arguments other than a weight enum or `None` for 'weights' are deprecated since 0.13 and may be removed in the future. The current behavior is equivalent to passing `weights=None`.\n",
      "  warnings.warn(msg)\n",
      "/usr/local/lib/python3.9/dist-packages/torchvision/models/inception.py:43: FutureWarning: The default weight initialization of inception_v3 will be changed in future releases of torchvision. If you wish to keep the old behavior (which leads to long initialization times due to scipy/scipy#11299), please set init_weights=True.\n",
      "  warnings.warn(\n"
     ]
    }
   ],
   "source": [
    "model, loss_fn, optimizer = get_model()"
   ]
  },
  {
   "cell_type": "code",
   "execution_count": 19,
   "metadata": {
    "colab": {
     "base_uri": "https://localhost:8080/"
    },
    "id": "82_UwJU10fdp",
    "outputId": "973d4f00-7c98-43dc-bed4-7d2c1af07bef"
   },
   "outputs": [
    {
     "name": "stdout",
     "output_type": "stream",
     "text": [
      "Epoch: 1 \n",
      "Epoch: 1 Train Loss: 18388350.44872139 Train Accuracy: 72.36328125\n",
      "Epoch: 1 Validation Loss: 8655812.0 Validation Accuracy: 72.22222222222221\n",
      "Epoch: 2 \n",
      "Epoch: 2 Train Loss: 5184407.349609375 Train Accuracy: 68.359375\n",
      "Epoch: 2 Validation Loss: 24804338.0 Validation Accuracy: 55.55555555555556\n",
      "Epoch: 3 \n",
      "Epoch: 3 Train Loss: 6179285.623046875 Train Accuracy: 72.0703125\n",
      "Epoch: 3 Validation Loss: 2302654.75 Validation Accuracy: 66.66666666666666\n",
      "Epoch: 4 \n",
      "Epoch: 4 Train Loss: 2406668.7236328125 Train Accuracy: 72.4609375\n",
      "Epoch: 4 Validation Loss: 9890590.0 Validation Accuracy: 66.66666666666666\n",
      "Epoch: 5 \n",
      "Epoch: 5 Train Loss: 4258259.53515625 Train Accuracy: 70.5078125\n",
      "Epoch: 5 Validation Loss: 5249429.5 Validation Accuracy: 50.0\n",
      "Epoch: 6 \n",
      "Epoch: 6 Train Loss: 4743916.169921875 Train Accuracy: 71.97265625\n",
      "Epoch: 6 Validation Loss: 957700.6875 Validation Accuracy: 83.33333333333334\n",
      "Epoch: 7 \n",
      "Epoch: 7 Train Loss: 1433709.0810546875 Train Accuracy: 71.484375\n",
      "Epoch: 7 Validation Loss: 394773.21875 Validation Accuracy: 50.0\n",
      "Epoch: 8 \n",
      "Epoch: 8 Train Loss: 1062661.2626953125 Train Accuracy: 74.31640625\n",
      "Epoch: 8 Validation Loss: 2106607.75 Validation Accuracy: 72.22222222222221\n",
      "Epoch: 9 \n",
      "Epoch: 9 Train Loss: 1396377.77734375 Train Accuracy: 74.12109375\n",
      "Epoch: 9 Validation Loss: 1260643.5 Validation Accuracy: 83.33333333333334\n",
      "Epoch: 10 \n",
      "Epoch: 10 Train Loss: 2976007.388671875 Train Accuracy: 74.51171875\n",
      "Epoch: 10 Validation Loss: 177242.78125 Validation Accuracy: 83.33333333333334\n",
      "Epoch: 11 \n",
      "Epoch: 11 Train Loss: 1604125.5625 Train Accuracy: 71.875\n",
      "Epoch: 11 Validation Loss: 1366327.375 Validation Accuracy: 77.77777777777779\n",
      "Epoch: 12 \n",
      "Epoch: 12 Train Loss: 1419854.013671875 Train Accuracy: 74.4140625\n",
      "Epoch: 12 Validation Loss: 325023.875 Validation Accuracy: 83.33333333333334\n",
      "Epoch: 13 \n",
      "Epoch: 13 Train Loss: 1224411.2509765625 Train Accuracy: 76.171875\n",
      "Epoch: 13 Validation Loss: 1145784.5 Validation Accuracy: 61.111111111111114\n",
      "Epoch: 14 \n",
      "Epoch: 14 Train Loss: 606596.5126953125 Train Accuracy: 79.1015625\n",
      "Epoch: 14 Validation Loss: 879604.6875 Validation Accuracy: 38.88888888888889\n",
      "Epoch: 15 \n",
      "Epoch: 15 Train Loss: 3261361.9970703125 Train Accuracy: 72.94921875\n",
      "Epoch: 15 Validation Loss: 1177009.75 Validation Accuracy: 88.88888888888889\n",
      "Epoch: 16 \n",
      "Epoch: 16 Train Loss: 2339928.3154296875 Train Accuracy: 73.33984375\n",
      "Epoch: 16 Validation Loss: 3478244.5 Validation Accuracy: 72.22222222222221\n",
      "Epoch: 17 \n",
      "Epoch: 17 Train Loss: 1312413.388671875 Train Accuracy: 75.48828125\n",
      "Epoch: 17 Validation Loss: 2211660.25 Validation Accuracy: 50.0\n",
      "Epoch: 18 \n",
      "Epoch: 18 Train Loss: 1372980.447265625 Train Accuracy: 75.5859375\n",
      "Epoch: 18 Validation Loss: 1876398.625 Validation Accuracy: 66.66666666666666\n",
      "Epoch: 19 \n",
      "Epoch: 19 Train Loss: 539355.2314453125 Train Accuracy: 77.9296875\n",
      "Epoch: 19 Validation Loss: 664842.5625 Validation Accuracy: 83.33333333333334\n",
      "Epoch: 20 \n",
      "Epoch: 20 Train Loss: 908407.7958984375 Train Accuracy: 75.29296875\n",
      "Epoch: 20 Validation Loss: 3120126.25 Validation Accuracy: 44.44444444444444\n",
      "Epoch: 21 \n",
      "Epoch: 21 Train Loss: 953350.1689453125 Train Accuracy: 74.4140625\n",
      "Epoch: 21 Validation Loss: 390211.78125 Validation Accuracy: 83.33333333333334\n",
      "Epoch: 22 \n",
      "Epoch: 22 Train Loss: 1267845.6552734375 Train Accuracy: 78.02734375\n",
      "Epoch: 22 Validation Loss: 852757.75 Validation Accuracy: 72.22222222222221\n",
      "Epoch: 23 \n",
      "Epoch: 23 Train Loss: 683450.66015625 Train Accuracy: 77.63671875\n",
      "Epoch: 23 Validation Loss: 1421867.625 Validation Accuracy: 72.22222222222221\n",
      "Epoch: 24 \n",
      "Epoch: 24 Train Loss: 465676.03125 Train Accuracy: 80.46875\n",
      "Epoch: 24 Validation Loss: 577597.875 Validation Accuracy: 77.77777777777779\n",
      "Epoch: 25 \n",
      "Epoch: 25 Train Loss: 989701.1376953125 Train Accuracy: 74.8046875\n",
      "Epoch: 25 Validation Loss: 2145099.5 Validation Accuracy: 83.33333333333334\n",
      "Epoch: 26 \n",
      "Epoch: 26 Train Loss: 1380564.861328125 Train Accuracy: 75.29296875\n",
      "Epoch: 26 Validation Loss: 2416431.0 Validation Accuracy: 72.22222222222221\n",
      "Epoch: 27 \n",
      "Epoch: 27 Train Loss: 1600033.0107421875 Train Accuracy: 75.1953125\n",
      "Epoch: 27 Validation Loss: 1640247.375 Validation Accuracy: 72.22222222222221\n",
      "Epoch: 28 \n",
      "Epoch: 28 Train Loss: 1156488.30859375 Train Accuracy: 76.07421875\n",
      "Epoch: 28 Validation Loss: 2187998.75 Validation Accuracy: 38.88888888888889\n",
      "Epoch: 29 \n",
      "Epoch: 29 Train Loss: 459059.8994140625 Train Accuracy: 79.58984375\n",
      "Epoch: 29 Validation Loss: 202140.78125 Validation Accuracy: 77.77777777777779\n",
      "Epoch: 30 \n",
      "Epoch: 30 Train Loss: 4178943.421875 Train Accuracy: 73.53515625\n",
      "Epoch: 30 Validation Loss: 4927249.5 Validation Accuracy: 33.33333333333333\n",
      "Epoch: 31 \n",
      "Epoch: 31 Train Loss: 6120010.48828125 Train Accuracy: 70.80078125\n",
      "Epoch: 31 Validation Loss: 8354747.5 Validation Accuracy: 77.77777777777779\n",
      "Epoch: 32 \n",
      "Epoch: 32 Train Loss: 6001839.517578125 Train Accuracy: 72.94921875\n",
      "Epoch: 32 Validation Loss: 2133650.0 Validation Accuracy: 38.88888888888889\n",
      "Epoch: 33 \n",
      "Epoch: 33 Train Loss: 1348804.841796875 Train Accuracy: 76.171875\n",
      "Epoch: 33 Validation Loss: 211420.0 Validation Accuracy: 94.44444444444444\n",
      "Epoch: 34 \n",
      "Epoch: 34 Train Loss: 1045772.0341796875 Train Accuracy: 76.66015625\n",
      "Epoch: 34 Validation Loss: 1282784.125 Validation Accuracy: 66.66666666666666\n",
      "Epoch: 35 \n",
      "Epoch: 35 Train Loss: 607900.890625 Train Accuracy: 79.00390625\n",
      "Epoch: 35 Validation Loss: 126319.890625 Validation Accuracy: 94.44444444444444\n",
      "Epoch: 36 \n",
      "Epoch: 36 Train Loss: 402470.166015625 Train Accuracy: 81.54296875\n",
      "Epoch: 36 Validation Loss: 488753.34375 Validation Accuracy: 77.77777777777779\n",
      "Epoch: 37 \n",
      "Epoch: 37 Train Loss: 559457.470703125 Train Accuracy: 81.93359375\n",
      "Epoch: 37 Validation Loss: 321739.5625 Validation Accuracy: 77.77777777777779\n",
      "Epoch: 38 \n",
      "Epoch: 38 Train Loss: 627449.3505859375 Train Accuracy: 76.07421875\n",
      "Epoch: 38 Validation Loss: 1633260.375 Validation Accuracy: 50.0\n",
      "Epoch: 39 \n",
      "Epoch: 39 Train Loss: 524603.1860351562 Train Accuracy: 83.203125\n",
      "Epoch: 39 Validation Loss: 580599.75 Validation Accuracy: 61.111111111111114\n",
      "Epoch: 40 \n",
      "Epoch: 40 Train Loss: 700426.5576171875 Train Accuracy: 79.19921875\n",
      "Epoch: 40 Validation Loss: 1063063.125 Validation Accuracy: 83.33333333333334\n",
      "Epoch: 41 \n",
      "Epoch: 41 Train Loss: 374778.9521484375 Train Accuracy: 82.91015625\n",
      "Epoch: 41 Validation Loss: 348065.65625 Validation Accuracy: 77.77777777777779\n",
      "Epoch: 42 \n",
      "Epoch: 42 Train Loss: 1828245.919921875 Train Accuracy: 74.609375\n",
      "Epoch: 42 Validation Loss: 2221407.0 Validation Accuracy: 72.22222222222221\n",
      "Epoch: 43 \n",
      "Epoch: 43 Train Loss: 520202.06640625 Train Accuracy: 81.25\n",
      "Epoch: 43 Validation Loss: 426927.4375 Validation Accuracy: 72.22222222222221\n",
      "Epoch: 44 \n",
      "Epoch: 44 Train Loss: 428887.6650390625 Train Accuracy: 80.95703125\n",
      "Epoch: 44 Validation Loss: 1169537.125 Validation Accuracy: 72.22222222222221\n",
      "Epoch: 45 \n",
      "Epoch: 45 Train Loss: 456927.3447265625 Train Accuracy: 82.421875\n",
      "Epoch: 45 Validation Loss: 2125354.75 Validation Accuracy: 77.77777777777779\n",
      "Epoch: 46 \n",
      "Epoch: 46 Train Loss: 801086.1010742188 Train Accuracy: 78.41796875\n",
      "Epoch: 46 Validation Loss: 413480.84375 Validation Accuracy: 72.22222222222221\n",
      "Epoch: 47 \n",
      "Epoch: 47 Train Loss: 685908.869140625 Train Accuracy: 78.125\n",
      "Epoch: 47 Validation Loss: 55211.77734375 Validation Accuracy: 94.44444444444444\n",
      "Epoch: 48 \n",
      "Epoch: 48 Train Loss: 532357.4990234375 Train Accuracy: 78.3203125\n",
      "Epoch: 48 Validation Loss: 1338474.125 Validation Accuracy: 55.55555555555556\n",
      "Epoch: 49 \n",
      "Epoch: 49 Train Loss: 1098339.044921875 Train Accuracy: 76.5625\n",
      "Epoch: 49 Validation Loss: 191618.5625 Validation Accuracy: 77.77777777777779\n",
      "Epoch: 50 \n",
      "Epoch: 50 Train Loss: 541881.38671875 Train Accuracy: 78.7109375\n",
      "Epoch: 50 Validation Loss: 1627630.75 Validation Accuracy: 77.77777777777779\n",
      "Epoch: 51 \n",
      "Epoch: 51 Train Loss: 1208051.0322265625 Train Accuracy: 75.68359375\n",
      "Epoch: 51 Validation Loss: 4065525.0 Validation Accuracy: 22.22222222222222\n",
      "Epoch: 52 \n",
      "Epoch: 52 Train Loss: 960415.1333007812 Train Accuracy: 78.41796875\n",
      "Epoch: 52 Validation Loss: 293791.03125 Validation Accuracy: 72.22222222222221\n",
      "Epoch: 53 \n",
      "Epoch: 53 Train Loss: 605489.654296875 Train Accuracy: 80.37109375\n",
      "Epoch: 53 Validation Loss: 69328.890625 Validation Accuracy: 88.88888888888889\n",
      "Epoch: 54 \n",
      "Epoch: 54 Train Loss: 678860.822265625 Train Accuracy: 79.296875\n",
      "Epoch: 54 Validation Loss: 683638.8125 Validation Accuracy: 66.66666666666666\n",
      "Epoch: 55 \n",
      "Epoch: 55 Train Loss: 311787.244140625 Train Accuracy: 84.27734375\n",
      "Epoch: 55 Validation Loss: 1397738.0 Validation Accuracy: 66.66666666666666\n",
      "Epoch: 56 \n",
      "Epoch: 56 Train Loss: 903585.2143554688 Train Accuracy: 79.4921875\n",
      "Epoch: 56 Validation Loss: 414865.375 Validation Accuracy: 72.22222222222221\n",
      "Epoch: 57 \n",
      "Epoch: 57 Train Loss: 497894.27294921875 Train Accuracy: 78.80859375\n",
      "Epoch: 57 Validation Loss: 42515.77734375 Validation Accuracy: 83.33333333333334\n",
      "Epoch: 58 \n",
      "Epoch: 58 Train Loss: 1544515.787109375 Train Accuracy: 73.92578125\n",
      "Epoch: 58 Validation Loss: 1199462.25 Validation Accuracy: 72.22222222222221\n",
      "Epoch: 59 \n",
      "Epoch: 59 Train Loss: 485650.501953125 Train Accuracy: 82.03125\n",
      "Epoch: 59 Validation Loss: 663487.8125 Validation Accuracy: 61.111111111111114\n",
      "Epoch: 60 \n",
      "Epoch: 60 Train Loss: 321523.3623046875 Train Accuracy: 81.73828125\n",
      "Epoch: 60 Validation Loss: 233239.328125 Validation Accuracy: 83.33333333333334\n",
      "Epoch: 61 \n",
      "Epoch: 61 Train Loss: 834568.5810546875 Train Accuracy: 79.00390625\n",
      "Epoch: 61 Validation Loss: 6183142.5 Validation Accuracy: 72.22222222222221\n",
      "Epoch: 62 \n",
      "Epoch: 62 Train Loss: 2581980.1337890625 Train Accuracy: 74.609375\n",
      "Epoch: 62 Validation Loss: 468030.875 Validation Accuracy: 77.77777777777779\n",
      "Epoch: 63 \n",
      "Epoch: 63 Train Loss: 752626.6459960938 Train Accuracy: 77.44140625\n",
      "Epoch: 63 Validation Loss: 1755023.0 Validation Accuracy: 72.22222222222221\n",
      "Epoch: 64 \n",
      "Epoch: 64 Train Loss: 680923.7763671875 Train Accuracy: 79.296875\n",
      "Epoch: 64 Validation Loss: 883022.5 Validation Accuracy: 77.77777777777779\n",
      "Epoch: 65 \n",
      "Epoch: 65 Train Loss: 455856.96728515625 Train Accuracy: 81.640625\n",
      "Epoch: 65 Validation Loss: 299782.71875 Validation Accuracy: 77.77777777777779\n",
      "Epoch: 66 \n",
      "Epoch: 66 Train Loss: 319142.35546875 Train Accuracy: 83.3984375\n",
      "Epoch: 66 Validation Loss: 1436802.75 Validation Accuracy: 61.111111111111114\n",
      "Epoch: 67 \n",
      "Epoch: 67 Train Loss: 650630.19140625 Train Accuracy: 80.17578125\n",
      "Epoch: 67 Validation Loss: 255977.4375 Validation Accuracy: 77.77777777777779\n",
      "Epoch: 68 \n",
      "Epoch: 68 Train Loss: 345539.91357421875 Train Accuracy: 82.51953125\n",
      "Epoch: 68 Validation Loss: 229964.46875 Validation Accuracy: 72.22222222222221\n",
      "Epoch: 69 \n",
      "Epoch: 69 Train Loss: 282942.51708984375 Train Accuracy: 84.66796875\n",
      "Epoch: 69 Validation Loss: 187294.609375 Validation Accuracy: 77.77777777777779\n",
      "Epoch: 70 \n",
      "Epoch: 70 Train Loss: 430061.70166015625 Train Accuracy: 80.37109375\n",
      "Epoch: 70 Validation Loss: 214085.5 Validation Accuracy: 77.77777777777779\n",
      "Epoch: 71 \n",
      "Epoch: 71 Train Loss: 662803.0869140625 Train Accuracy: 79.19921875\n",
      "Epoch: 71 Validation Loss: 1627506.125 Validation Accuracy: 83.33333333333334\n",
      "Epoch: 72 \n",
      "Epoch: 72 Train Loss: 864029.7749023438 Train Accuracy: 79.296875\n",
      "Epoch: 72 Validation Loss: 709171.3125 Validation Accuracy: 83.33333333333334\n",
      "Epoch: 73 \n",
      "Epoch: 73 Train Loss: 881108.5693359375 Train Accuracy: 79.00390625\n",
      "Epoch: 73 Validation Loss: 75351.78125 Validation Accuracy: 88.88888888888889\n",
      "Epoch: 74 \n",
      "Epoch: 74 Train Loss: 1005785.43359375 Train Accuracy: 75.68359375\n",
      "Epoch: 74 Validation Loss: 3035031.5 Validation Accuracy: 66.66666666666666\n",
      "Epoch: 75 \n",
      "Epoch: 75 Train Loss: 1224925.3359375 Train Accuracy: 75.1953125\n",
      "Epoch: 75 Validation Loss: 633347.5625 Validation Accuracy: 55.55555555555556\n",
      "Epoch: 76 \n",
      "Epoch: 76 Train Loss: 459375.119140625 Train Accuracy: 82.32421875\n",
      "Epoch: 76 Validation Loss: 486346.125 Validation Accuracy: 72.22222222222221\n",
      "Epoch: 77 \n",
      "Epoch: 77 Train Loss: 241037.5751953125 Train Accuracy: 83.10546875\n",
      "Epoch: 77 Validation Loss: 269211.875 Validation Accuracy: 77.77777777777779\n",
      "Epoch: 78 \n",
      "Epoch: 78 Train Loss: 258913.53515625 Train Accuracy: 85.9375\n",
      "Epoch: 78 Validation Loss: 868537.875 Validation Accuracy: 66.66666666666666\n",
      "Epoch: 79 \n",
      "Epoch: 79 Train Loss: 367938.55517578125 Train Accuracy: 84.9609375\n",
      "Epoch: 79 Validation Loss: 366187.5625 Validation Accuracy: 83.33333333333334\n",
      "Epoch: 80 \n",
      "Epoch: 80 Train Loss: 486250.20947265625 Train Accuracy: 81.4453125\n",
      "Epoch: 80 Validation Loss: 463151.5 Validation Accuracy: 77.77777777777779\n",
      "Epoch: 81 \n",
      "Epoch: 81 Train Loss: 1128128.5693359375 Train Accuracy: 74.8046875\n",
      "Epoch: 81 Validation Loss: 4533972.5 Validation Accuracy: 61.111111111111114\n",
      "Epoch: 82 \n",
      "Epoch: 82 Train Loss: 1144948.865234375 Train Accuracy: 76.953125\n",
      "Epoch: 82 Validation Loss: 18916.22265625 Validation Accuracy: 94.44444444444444\n",
      "Epoch: 83 \n",
      "Epoch: 83 Train Loss: 399068.8837890625 Train Accuracy: 81.73828125\n",
      "Epoch: 83 Validation Loss: 272159.21875 Validation Accuracy: 77.77777777777779\n",
      "Epoch: 84 \n",
      "Epoch: 84 Train Loss: 417631.13232421875 Train Accuracy: 82.91015625\n",
      "Epoch: 84 Validation Loss: 1118748.75 Validation Accuracy: 83.33333333333334\n",
      "Epoch: 85 \n",
      "Epoch: 85 Train Loss: 781240.0424804688 Train Accuracy: 78.7109375\n",
      "Epoch: 85 Validation Loss: 954005.3125 Validation Accuracy: 61.111111111111114\n",
      "Epoch: 86 \n",
      "Epoch: 86 Train Loss: 363827.49658203125 Train Accuracy: 83.88671875\n",
      "Epoch: 86 Validation Loss: 3305065.0 Validation Accuracy: 44.44444444444444\n",
      "Epoch: 87 \n",
      "Epoch: 87 Train Loss: 366463.6865234375 Train Accuracy: 82.2265625\n",
      "Epoch: 87 Validation Loss: 1722680.0 Validation Accuracy: 61.111111111111114\n",
      "Epoch: 88 \n",
      "Epoch: 88 Train Loss: 418748.96337890625 Train Accuracy: 81.54296875\n",
      "Epoch: 88 Validation Loss: 1282210.0 Validation Accuracy: 27.77777777777778\n",
      "Epoch: 89 \n",
      "Epoch: 89 Train Loss: 303214.66015625 Train Accuracy: 85.3515625\n",
      "Epoch: 89 Validation Loss: 168574.671875 Validation Accuracy: 83.33333333333334\n",
      "Epoch: 90 \n",
      "Epoch: 90 Train Loss: 198450.34912109375 Train Accuracy: 86.328125\n",
      "Epoch: 90 Validation Loss: 337164.71875 Validation Accuracy: 77.77777777777779\n",
      "Epoch: 91 \n",
      "Epoch: 91 Train Loss: 261602.10693359375 Train Accuracy: 85.7421875\n",
      "Epoch: 91 Validation Loss: 790448.0 Validation Accuracy: 66.66666666666666\n",
      "Epoch: 92 \n",
      "Epoch: 92 Train Loss: 296633.90771484375 Train Accuracy: 83.30078125\n",
      "Epoch: 92 Validation Loss: 260023.328125 Validation Accuracy: 72.22222222222221\n",
      "Epoch: 93 \n",
      "Epoch: 93 Train Loss: 673514.2973632812 Train Accuracy: 78.41796875\n",
      "Epoch: 93 Validation Loss: 248744.5 Validation Accuracy: 72.22222222222221\n",
      "Epoch: 94 \n",
      "Epoch: 94 Train Loss: 649039.3442382812 Train Accuracy: 79.296875\n",
      "Epoch: 94 Validation Loss: 1867400.25 Validation Accuracy: 72.22222222222221\n",
      "Epoch: 95 \n",
      "Epoch: 95 Train Loss: 1293865.4458007812 Train Accuracy: 75.1953125\n",
      "Epoch: 95 Validation Loss: 395018.0 Validation Accuracy: 77.77777777777779\n",
      "Epoch: 96 \n",
      "Epoch: 96 Train Loss: 213019.67431640625 Train Accuracy: 87.109375\n",
      "Epoch: 96 Validation Loss: 395957.0 Validation Accuracy: 83.33333333333334\n",
      "Epoch: 97 \n",
      "Epoch: 97 Train Loss: 204835.796875 Train Accuracy: 86.328125\n",
      "Epoch: 97 Validation Loss: 862008.75 Validation Accuracy: 77.77777777777779\n",
      "Epoch: 98 \n",
      "Epoch: 98 Train Loss: 311020.18505859375 Train Accuracy: 83.49609375\n",
      "Epoch: 98 Validation Loss: 31319.333984375 Validation Accuracy: 94.44444444444444\n",
      "Epoch: 99 \n",
      "Epoch: 99 Train Loss: 198783.806640625 Train Accuracy: 83.984375\n",
      "Epoch: 99 Validation Loss: 834938.5625 Validation Accuracy: 55.55555555555556\n",
      "Epoch: 100 \n",
      "Epoch: 100 Train Loss: 1225289.880859375 Train Accuracy: 76.66015625\n",
      "Epoch: 100 Validation Loss: 2176349.0 Validation Accuracy: 72.22222222222221\n"
     ]
    }
   ],
   "source": [
    "n_epochs = 100\n",
    "train_losses, train_accuracies = [], []\n",
    "val_losses, val_accuracies = [], []\n",
    "for epoch in range(n_epochs):\n",
    "    print(\"Epoch: %d \"%(epoch+1))\n",
    "    train_epoch_losses, train_epoch_accuracies = [], []\n",
    "    for i,data in enumerate(iter(train_loader)):\n",
    "        images,labels=data\n",
    "        images=images.to(device)\n",
    "        labels=labels.to(device)\n",
    "        batch_loss = train_batch(images, labels, model, optimizer, loss_fn)\n",
    "        is_correct = accuracy(images, labels, model)\n",
    "        train_epoch_accuracies.extend(is_correct)\n",
    "        train_epoch_losses.append(batch_loss)        \n",
    "    train_epoch_loss = np.array(train_epoch_losses).mean()\n",
    "    train_epoch_accuracy = np.mean(train_epoch_accuracies)*100      \n",
    "    print('Epoch:',epoch+1,'Train Loss:',train_epoch_loss,'Train Accuracy:',train_epoch_accuracy)\n",
    "\n",
    "    for i,data in enumerate(iter(validate_loader)):\n",
    "        images,labels=data\n",
    "        images=images.to(device)\n",
    "        labels=labels.to(device)\n",
    "        val_is_correct = accuracy(images, labels, model)\n",
    "        validation_loss = val_loss(images, labels, model)    \n",
    "        val_epoch_accuracy = np.mean(val_is_correct)*100\n",
    "\n",
    "    print('Epoch:',epoch+1,'Validation Loss:',validation_loss,'Validation Accuracy:',val_epoch_accuracy)\n",
    "\n",
    "    train_losses.append(train_epoch_loss)\n",
    "    train_accuracies.append(train_epoch_accuracy)\n",
    "    val_losses.append(validation_loss)\n",
    "    val_accuracies.append(val_epoch_accuracy)\n"
   ]
  },
  {
   "cell_type": "code",
   "execution_count": 20,
   "metadata": {
    "colab": {
     "base_uri": "https://localhost:8080/"
    },
    "id": "cIFaR0fe-pWO",
    "outputId": "59699125-c7a5-4adb-ce6e-553023102bef"
   },
   "outputs": [
    {
     "name": "stdout",
     "output_type": "stream",
     "text": [
      "Looking in indexes: https://pypi.org/simple, https://us-python.pkg.dev/colab-wheels/public/simple/\n",
      "Collecting torchmetrics\n",
      "  Downloading torchmetrics-0.11.4-py3-none-any.whl (519 kB)\n",
      "\u001b[2K     \u001b[90m━━━━━━━━━━━━━━━━━━━━━━━━━━━━━━━━━━━━━━\u001b[0m \u001b[32m519.2/519.2 KB\u001b[0m \u001b[31m10.2 MB/s\u001b[0m eta \u001b[36m0:00:00\u001b[0m\n",
      "\u001b[?25hRequirement already satisfied: torch>=1.8.1 in /usr/local/lib/python3.9/dist-packages (from torchmetrics) (1.13.1+cu116)\n",
      "Requirement already satisfied: packaging in /usr/local/lib/python3.9/dist-packages (from torchmetrics) (23.0)\n",
      "Requirement already satisfied: numpy>=1.17.2 in /usr/local/lib/python3.9/dist-packages (from torchmetrics) (1.22.4)\n",
      "Requirement already satisfied: typing-extensions in /usr/local/lib/python3.9/dist-packages (from torch>=1.8.1->torchmetrics) (4.5.0)\n",
      "Installing collected packages: torchmetrics\n",
      "Successfully installed torchmetrics-0.11.4\n"
     ]
    }
   ],
   "source": [
    "!pip install torchmetrics"
   ]
  },
  {
   "cell_type": "code",
   "execution_count": 21,
   "metadata": {
    "id": "U_f96rNg-14b"
   },
   "outputs": [],
   "source": [
    "from torchmetrics import F1Score,ConfusionMatrix"
   ]
  },
  {
   "cell_type": "code",
   "execution_count": 22,
   "metadata": {
    "id": "jAjGRrOm-40p"
   },
   "outputs": [],
   "source": [
    "def evaluate_model(model,test_loader):\n",
    "    model.eval()\n",
    "    predicted_correct =0\n",
    "    total = 0\n",
    "    with torch.no_grad():\n",
    "        for data in test_loader:\n",
    "            images,labels = data\n",
    "            images = images.to(device)\n",
    "            labels = labels.to(device)\n",
    "            predicted_correct= accuracy(images, labels, model)\n",
    "    epoch_accuracy = np.mean(val_is_correct)*100\n",
    "    print(\"Testing Data: Epoch Accuracy: %.3f\"%(epoch_accuracy))\n",
    "    return epoch_accuracy"
   ]
  },
  {
   "cell_type": "code",
   "execution_count": 23,
   "metadata": {
    "colab": {
     "base_uri": "https://localhost:8080/"
    },
    "id": "YGFI-9wd_DRf",
    "outputId": "9f0d733d-34df-4e5e-d83a-b6d18ac77f86"
   },
   "outputs": [
    {
     "name": "stdout",
     "output_type": "stream",
     "text": [
      "Testing Data: Epoch Accuracy: 72.222\n"
     ]
    }
   ],
   "source": [
    "   test_acc = evaluate_model(model,test_loader)"
   ]
  },
  {
   "cell_type": "code",
   "execution_count": 25,
   "metadata": {
    "id": "hx_hefyCAPbX"
   },
   "outputs": [],
   "source": [
    "dict = {'Training': train_accuracies, 'Validation': val_accuracies} \n",
    "dictLoss = {'Training': train_losses,'Validation': val_losses}\n",
    "df = pd.DataFrame(dict)\n",
    "df2 = pd.DataFrame(dictLoss)"
   ]
  },
  {
   "cell_type": "code",
   "execution_count": 26,
   "metadata": {
    "colab": {
     "base_uri": "https://localhost:8080/",
     "height": 295
    },
    "id": "vWfrCeVwAw0G",
    "outputId": "d0834874-19c8-46dc-fb02-ed6372a34756"
   },
   "outputs": [
    {
     "data": {
      "image/png": "[encoded data removed]",
      "text/plain": [
       "<Figure size 432x288 with 1 Axes>"
      ]
     },
     "metadata": {
      "needs_background": "light"
     },
     "output_type": "display_data"
    }
   ],
   "source": [
    "plt.plot(range(n_epochs),train_accuracies)\n",
    "plt.xlabel(\"Epochs\")\n",
    "plt.ylabel(\"Training Accuracies\")\n",
    "plt.title(\"Training Accuracy Vs Epochs\")\n",
    "plt.show()"
   ]
  },
  {
   "cell_type": "code",
   "execution_count": 27,
   "metadata": {
    "colab": {
     "base_uri": "https://localhost:8080/",
     "height": 295
    },
    "id": "UAqzeF6bBQbC",
    "outputId": "d5dd9e48-f6c5-49ff-9ab6-c104b73d8015"
   },
   "outputs": [
    {
     "data": {
      "image/png": "[encoded data removed]",
      "text/plain": [
       "<Figure size 432x288 with 1 Axes>"
      ]
     },
     "metadata": {
      "needs_background": "light"
     },
     "output_type": "display_data"
    }
   ],
   "source": [
    "plt.plot(range(n_epochs),train_accuracies, label=\"Training\")\n",
    "plt.plot(range(n_epochs),val_accuracies, label=\"Validation\")\n",
    "plt.xlabel(\"Epochs\")\n",
    "plt.ylabel(\"Accuracies\")\n",
    "plt.title(\"Training vs Validation Accuracies\")\n",
    "plt.legend()\n",
    "plt.show()"
   ]
  },
  {
   "cell_type": "code",
   "execution_count": 28,
   "metadata": {
    "colab": {
     "base_uri": "https://localhost:8080/",
     "height": 295
    },
    "id": "Hrq0pGIfBdrI",
    "outputId": "5e367e2a-83b3-4b5a-ba16-cf1758684b40"
   },
   "outputs": [
    {
     "data": {
      "image/png": "[encoded data removed]",
      "text/plain": [
       "<Figure size 432x288 with 1 Axes>"
      ]
     },
     "metadata": {
      "needs_background": "light"
     },
     "output_type": "display_data"
    }
   ],
   "source": [
    "plt.plot(range(n_epochs),train_losses, label=\"Training\")\n",
    "plt.plot(range(n_epochs),val_losses, label=\"Validation\")\n",
    "plt.xlabel(\"Epochs\")\n",
    "plt.ylabel(\"Loss\")\n",
    "plt.title(\"Training vs Validation Loss\")\n",
    "plt.legend()\n",
    "plt.show()"
   ]
  },
  {
   "cell_type": "code",
   "execution_count": 29,
   "metadata": {
    "id": "_gMLlADgBtrv"
   },
   "outputs": [],
   "source": [
    "from sklearn.metrics import confusion_matrix,accuracy_score,precision_score,recall_score,f1_score,ConfusionMatrixDisplay"
   ]
  },
  {
   "cell_type": "code",
   "execution_count": 30,
   "metadata": {
    "id": "CsimXgsCByGp"
   },
   "outputs": [],
   "source": [
    "y_pred = []\n",
    "y_true = []\n",
    "\n",
    "for data in test_loader:\n",
    "        inputs, labels = data[0].to(device), data[1].to(device)\n",
    "        output = model(inputs) \n",
    "        output = (torch.max(torch.exp(output), 1)[1]).data.cpu().numpy()\n",
    "        y_pred.extend(output) \n",
    "        labels = labels.data.cpu().numpy()\n",
    "        y_true.extend(labels)"
   ]
  },
  {
   "cell_type": "code",
   "execution_count": 31,
   "metadata": {
    "colab": {
     "base_uri": "https://localhost:8080/",
     "height": 744
    },
    "id": "BS1aD472B9AT",
    "outputId": "cc48806d-975a-4fb2-8114-c97b7c0d24d6"
   },
   "outputs": [
    {
     "data": {
      "image/png": "[encoded data removed]",
      "text/plain": [
       "<Figure size 936x936 with 2 Axes>"
      ]
     },
     "metadata": {
      "needs_background": "light"
     },
     "output_type": "display_data"
    }
   ],
   "source": [
    "classes = (0,1)\n",
    "confusion_matrix(y_true, y_pred)\n",
    "disp = ConfusionMatrixDisplay(confusion_matrix(y_true, y_pred),display_labels=classes)\n",
    "fig,ax = plt.subplots()\n",
    "fig.set_size_inches(13,13)\n",
    "plt.title(\"Confusion Matrix GoogleNet (2-Classes)\")\n",
    "disp.plot(ax=ax)\n",
    "plt.show()"
   ]
  },
  {
   "cell_type": "code",
   "execution_count": 32,
   "metadata": {
    "colab": {
     "base_uri": "https://localhost:8080/"
    },
    "id": "UoQvx92yCILQ",
    "outputId": "447f16f6-6878-4d73-8761-a12fb95e7016"
   },
   "outputs": [
    {
     "name": "stdout",
     "output_type": "stream",
     "text": [
      "Precision Macro:0.09\n",
      "Precision Micro:0.19\n",
      "Recall Macro:0.50\n",
      "Recall Micro:0.19\n",
      "F1-Score Macro:0.16\n",
      "F1-Score Micro:0.19\n"
     ]
    },
    {
     "name": "stderr",
     "output_type": "stream",
     "text": [
      "/usr/local/lib/python3.9/dist-packages/sklearn/metrics/_classification.py:1344: UndefinedMetricWarning: Precision is ill-defined and being set to 0.0 in labels with no predicted samples. Use `zero_division` parameter to control this behavior.\n",
      "  _warn_prf(average, modifier, msg_start, len(result))\n"
     ]
    }
   ],
   "source": [
    "print(\"Precision Macro:{:.2f}\".format(precision_score(y_true, y_pred, average='macro')))\n",
    "print(\"Precision Micro:{:.2f}\".format(precision_score(y_true,y_pred,average='micro')))\n",
    "print(\"Recall Macro:{:.2f}\".format(recall_score(y_true,y_pred,average='macro')))\n",
    "print(\"Recall Micro:{:.2f}\".format(recall_score(y_true,y_pred,average='micro')))\n",
    "print(\"F1-Score Macro:{:.2f}\".format(f1_score(y_true,y_pred,average='macro')))\n",
    "print(\"F1-Score Micro:{:.2f}\".format(f1_score(y_true,y_pred,average='micro')))"
   ]
  }
 ],
 "metadata": {
  "accelerator": "GPU",
  "colab": {
   "provenance": []
  },
  "gpuClass": "standard",
  "kernelspec": {
   "display_name": "Python 3 (ipykernel)",
   "language": "python",
   "name": "python3"
  },
  "language_info": {
   "codemirror_mode": {
    "name": "ipython",
    "version": 3
   },
   "file_extension": ".py",
   "mimetype": "text/x-python",
   "name": "python",
   "nbconvert_exporter": "python",
   "pygments_lexer": "ipython3",
   "version": "3.10.10"
  }
 },
 "nbformat": 4,
 "nbformat_minor": 1
}
