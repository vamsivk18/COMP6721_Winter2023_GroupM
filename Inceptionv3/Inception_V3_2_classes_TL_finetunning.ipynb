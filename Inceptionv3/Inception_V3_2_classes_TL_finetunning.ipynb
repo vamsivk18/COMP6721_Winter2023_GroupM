{
 "cells": [
  {
   "cell_type": "code",
   "execution_count": 1,
   "metadata": {
    "executionInfo": {
     "elapsed": 7230,
     "status": "ok",
     "timestamp": 1680998238782,
     "user": {
      "displayName": "madhav karnati",
      "userId": "09667562301774768185"
     },
     "user_tz": 240
    },
    "id": "tC9CRDf0TL1K"
   },
   "outputs": [],
   "source": [
    "import torch.nn as nn\n",
    "import torch\n",
    "import torchvision.transforms as transforms\n",
    "import torchvision\n",
    "import time\n",
    "import matplotlib.pyplot as plt\n",
    "import numpy as np\n",
    "import torchvision.models as models\n",
    "from sklearn.metrics import confusion_matrix\n",
    "import pandas as pd\n",
    "import os"
   ]
  },
  {
   "cell_type": "code",
   "execution_count": 2,
   "metadata": {
    "executionInfo": {
     "elapsed": 4,
     "status": "ok",
     "timestamp": 1680998681121,
     "user": {
      "displayName": "madhav karnati",
      "userId": "09667562301774768185"
     },
     "user_tz": 240
    },
    "id": "Ox1GBk8QTXh5"
   },
   "outputs": [],
   "source": [
    "def get_mean_std(loader):\n",
    "    mean = 0.\n",
    "    std = 0.\n",
    "    total_images_count = 0\n",
    "    for images,_ in loader:\n",
    "        images_count_in_batch = images.size(0)\n",
    "#         print(images.shape)\n",
    "        images =images.view(images_count_in_batch,images.size(1),-1)\n",
    "        mean+=images.mean(2).sum(0)\n",
    "        std+=images.std(2).sum(0)\n",
    "        total_images_count+=images_count_in_batch\n",
    "    mean /= total_images_count\n",
    "    std /= total_images_count\n",
    "    return mean,std"
   ]
  },
  {
   "cell_type": "code",
   "execution_count": 3,
   "metadata": {
    "executionInfo": {
     "elapsed": 4,
     "status": "ok",
     "timestamp": 1680998692529,
     "user": {
      "displayName": "madhav karnati",
      "userId": "09667562301774768185"
     },
     "user_tz": 240
    },
    "id": "o7uwJJrJVEWA"
   },
   "outputs": [],
   "source": [
    "def transform(dataset):\n",
    "    data_transform = transforms.Compose([transforms.Resize((299,299)),transforms.ToTensor()])\n",
    "    data_set=torchvision.datasets.ImageFolder(root=dataset,transform=data_transform)\n",
    "    data_loader=torch.utils.data.DataLoader(dataset=data_set,batch_size=32,shuffle=True)\n",
    "    mean,std=get_mean_std(data_loader)\n",
    "    data_transform = transforms.Compose([\n",
    "        transforms.Resize((299,299)),\n",
    "        transforms.RandomHorizontalFlip(),\n",
    "        transforms.RandomRotation(10),\n",
    "        transforms.ToTensor(),\n",
    "        transforms.Normalize(torch.Tensor(mean),torch.Tensor(std))\n",
    "    ])\n",
    "    data_set=torchvision.datasets.ImageFolder(root=dataset,transform=data_transform)\n",
    "    data_loader=torch.utils.data.DataLoader(dataset=data_set,batch_size=64,shuffle=True,drop_last=False,num_workers=0)\n",
    "    return data_loader,data_set"
   ]
  },
  {
   "cell_type": "code",
   "execution_count": null,
   "metadata": {
    "colab": {
     "base_uri": "https://localhost:8080/"
    },
    "executionInfo": {
     "elapsed": 23422,
     "status": "ok",
     "timestamp": 1680998732340,
     "user": {
      "displayName": "madhav karnati",
      "userId": "09667562301774768185"
     },
     "user_tz": 240
    },
    "id": "A2A4HbtyVHKw",
    "outputId": "074fdf2d-e44c-4a49-9090-abd9246e705a"
   },
   "outputs": [],
   "source": []
  },
  {
   "cell_type": "code",
   "execution_count": null,
   "metadata": {
    "colab": {
     "base_uri": "https://localhost:8080/"
    },
    "executionInfo": {
     "elapsed": 4067,
     "status": "ok",
     "timestamp": 1680998764567,
     "user": {
      "displayName": "madhav karnati",
      "userId": "09667562301774768185"
     },
     "user_tz": 240
    },
    "id": "Mpx5J3vDVLIM",
    "outputId": "1c23331d-f5d3-4797-cb18-90ae7da0062e"
   },
   "outputs": [],
   "source": []
  },
  {
   "cell_type": "code",
   "execution_count": 4,
   "metadata": {
    "executionInfo": {
     "elapsed": 4089,
     "status": "ok",
     "timestamp": 1680998807648,
     "user": {
      "displayName": "madhav karnati",
      "userId": "09667562301774768185"
     },
     "user_tz": 240
    },
    "id": "lwcLKaDeVZaF"
   },
   "outputs": [],
   "source": [
    "train_dataset='../Datasets/dataset_2_classes/train/'\n",
    "train_loader,training_dataset=transform(train_dataset)"
   ]
  },
  {
   "cell_type": "code",
   "execution_count": 5,
   "metadata": {
    "executionInfo": {
     "elapsed": 4653,
     "status": "ok",
     "timestamp": 1680998851144,
     "user": {
      "displayName": "madhav karnati",
      "userId": "09667562301774768185"
     },
     "user_tz": 240
    },
    "id": "-pAdRKeTVjkB"
   },
   "outputs": [],
   "source": [
    "validate_dataset='../Datasets/dataset_2_classes/validate/'\n",
    "validate_loader,validating_dataset=transform(validate_dataset)"
   ]
  },
  {
   "cell_type": "code",
   "execution_count": 6,
   "metadata": {
    "executionInfo": {
     "elapsed": 6437,
     "status": "ok",
     "timestamp": 1680998879404,
     "user": {
      "displayName": "madhav karnati",
      "userId": "09667562301774768185"
     },
     "user_tz": 240
    },
    "id": "EkF5oJBoVt82"
   },
   "outputs": [],
   "source": [
    "test_dataset='../Datasets/dataset_2_classes/test/'\n",
    "test_loader,testing_dataset=transform(test_dataset)"
   ]
  },
  {
   "cell_type": "code",
   "execution_count": null,
   "metadata": {
    "colab": {
     "base_uri": "https://localhost:8080/",
     "height": 36
    },
    "executionInfo": {
     "elapsed": 9107,
     "status": "ok",
     "timestamp": 1680998923265,
     "user": {
      "displayName": "madhav karnati",
      "userId": "09667562301774768185"
     },
     "user_tz": 240
    },
    "id": "X_yyCdLYV8vK",
    "outputId": "2daad520-03c3-42ca-c150-18a1dd45b402"
   },
   "outputs": [],
   "source": []
  },
  {
   "cell_type": "code",
   "execution_count": 7,
   "metadata": {
    "executionInfo": {
     "elapsed": 5,
     "status": "ok",
     "timestamp": 1680998928540,
     "user": {
      "displayName": "madhav karnati",
      "userId": "09667562301774768185"
     },
     "user_tz": 240
    },
    "id": "MKyulVUpV9Ve"
   },
   "outputs": [],
   "source": [
    "def set_device():\n",
    "    device = \"mps\" if torch.backends.mps.is_available() else \"cpu\"\n",
    "    return device"
   ]
  },
  {
   "cell_type": "code",
   "execution_count": 8,
   "metadata": {
    "executionInfo": {
     "elapsed": 345,
     "status": "ok",
     "timestamp": 1680998940632,
     "user": {
      "displayName": "madhav karnati",
      "userId": "09667562301774768185"
     },
     "user_tz": 240
    },
    "id": "H8aLvpYXWAxL"
   },
   "outputs": [],
   "source": [
    "device=set_device()"
   ]
  },
  {
   "cell_type": "code",
   "execution_count": 9,
   "metadata": {
    "executionInfo": {
     "elapsed": 336,
     "status": "ok",
     "timestamp": 1680998963282,
     "user": {
      "displayName": "madhav karnati",
      "userId": "09667562301774768185"
     },
     "user_tz": 240
    },
    "id": "JackVIwnWDuv"
   },
   "outputs": [],
   "source": [
    "def get_model():\n",
    "    model = models.inception_v3(pretrained=True)\n",
    "    for param in model.parameters():\n",
    "        param.requires_grad = False #Freezing all the layers and changing only the below layers\n",
    "    model.avgpool = nn.AdaptiveAvgPool2d(output_size=(1,1))\n",
    "    model.fc = nn.Sequential(nn.Flatten(),\n",
    "                            nn.Linear(2048,128),\n",
    "                            nn.ReLU(),\n",
    "                            nn.Linear(128,2))\n",
    "    model.aux_logits = False\n",
    "    criterion = nn.CrossEntropyLoss()\n",
    "    optimizer = torch.optim.SGD(model.parameters(), lr=1e-3,momentum=0.9)\n",
    "    return model.to(device), criterion, optimizer"
   ]
  },
  {
   "cell_type": "code",
   "execution_count": 10,
   "metadata": {
    "colab": {
     "base_uri": "https://localhost:8080/"
    },
    "executionInfo": {
     "elapsed": 5459,
     "status": "ok",
     "timestamp": 1680998977176,
     "user": {
      "displayName": "madhav karnati",
      "userId": "09667562301774768185"
     },
     "user_tz": 240
    },
    "id": "eim4bN4bWJQz",
    "outputId": "a2515ab2-3ea7-4cd8-9ca7-5209730cf2ff"
   },
   "outputs": [
    {
     "name": "stderr",
     "output_type": "stream",
     "text": [
      "/Users/bhanuprakash/miniforge3/lib/python3.10/site-packages/torchvision/models/_utils.py:208: UserWarning: The parameter 'pretrained' is deprecated since 0.13 and may be removed in the future, please use 'weights' instead.\n",
      "  warnings.warn(\n",
      "/Users/bhanuprakash/miniforge3/lib/python3.10/site-packages/torchvision/models/_utils.py:223: UserWarning: Arguments other than a weight enum or `None` for 'weights' are deprecated since 0.13 and may be removed in the future. The current behavior is equivalent to passing `weights=Inception_V3_Weights.IMAGENET1K_V1`. You can also use `weights=Inception_V3_Weights.DEFAULT` to get the most up-to-date weights.\n",
      "  warnings.warn(msg)\n"
     ]
    }
   ],
   "source": [
    "model, criterion, optimizer = get_model()"
   ]
  },
  {
   "cell_type": "code",
   "execution_count": 11,
   "metadata": {
    "executionInfo": {
     "elapsed": 361,
     "status": "ok",
     "timestamp": 1680998990031,
     "user": {
      "displayName": "madhav karnati",
      "userId": "09667562301774768185"
     },
     "user_tz": 240
    },
    "id": "a_eiTTbCWLZz"
   },
   "outputs": [],
   "source": [
    "scheduler = torch.optim.lr_scheduler.CosineAnnealingLR(optimizer, T_max=20, eta_min=0.0001)"
   ]
  },
  {
   "cell_type": "code",
   "execution_count": 12,
   "metadata": {
    "executionInfo": {
     "elapsed": 4,
     "status": "ok",
     "timestamp": 1680998999723,
     "user": {
      "displayName": "madhav karnati",
      "userId": "09667562301774768185"
     },
     "user_tz": 240
    },
    "id": "xSz2VyADWPyl"
   },
   "outputs": [],
   "source": [
    "n_epochs = 50\n",
    "epoch_count = 0\n",
    "Accuracies = [] \n",
    "valAccuracies = []\n",
    "valLoss = []\n",
    "trainLoss = []\n",
    "validation_accuracy = 0"
   ]
  },
  {
   "cell_type": "code",
   "execution_count": 13,
   "metadata": {
    "colab": {
     "base_uri": "https://localhost:8080/"
    },
    "executionInfo": {
     "elapsed": 595429,
     "status": "ok",
     "timestamp": 1680999630372,
     "user": {
      "displayName": "madhav karnati",
      "userId": "09667562301774768185"
     },
     "user_tz": 240
    },
    "id": "YleCoSGDWSJo",
    "outputId": "556de09f-fdff-4d68-aa33-93af59c82d6a"
   },
   "outputs": [
    {
     "name": "stdout",
     "output_type": "stream",
     "text": [
      "Epoch: 1 \n",
      "######## epoch Finished in 16.22395896911621 seconds ###########\n",
      "Training Data: Epoch Loss: 0.591, Epoch Accuracy: 76.855, Validation Loss: 0.576,Validation Accuracy: 72.948\n",
      "Epoch: 2 \n",
      "######## epoch Finished in 15.985119104385376 seconds ###########\n",
      "Training Data: Epoch Loss: 0.481, Epoch Accuracy: 81.152, Validation Loss: 0.599,Validation Accuracy: 72.948\n",
      "Epoch: 3 \n",
      "######## epoch Finished in 16.29301619529724 seconds ###########\n",
      "Training Data: Epoch Loss: 0.464, Epoch Accuracy: 81.152, Validation Loss: 0.567,Validation Accuracy: 72.948\n",
      "Epoch: 4 \n",
      "######## epoch Finished in 15.958392143249512 seconds ###########\n",
      "Training Data: Epoch Loss: 0.449, Epoch Accuracy: 81.152, Validation Loss: 0.543,Validation Accuracy: 72.948\n",
      "Epoch: 5 \n",
      "######## epoch Finished in 16.340782642364502 seconds ###########\n",
      "Training Data: Epoch Loss: 0.435, Epoch Accuracy: 81.152, Validation Loss: 0.526,Validation Accuracy: 72.948\n",
      "Epoch: 6 \n",
      "######## epoch Finished in 16.156914949417114 seconds ###########\n",
      "Training Data: Epoch Loss: 0.423, Epoch Accuracy: 81.152, Validation Loss: 0.513,Validation Accuracy: 72.948\n",
      "Epoch: 7 \n",
      "######## epoch Finished in 15.985713958740234 seconds ###########\n",
      "Training Data: Epoch Loss: 0.402, Epoch Accuracy: 81.152, Validation Loss: 0.496,Validation Accuracy: 72.948\n",
      "Epoch: 8 \n",
      "######## epoch Finished in 16.175071001052856 seconds ###########\n",
      "Training Data: Epoch Loss: 0.393, Epoch Accuracy: 81.152, Validation Loss: 0.482,Validation Accuracy: 72.948\n",
      "Epoch: 9 \n",
      "######## epoch Finished in 16.007055044174194 seconds ###########\n",
      "Training Data: Epoch Loss: 0.379, Epoch Accuracy: 81.152, Validation Loss: 0.460,Validation Accuracy: 73.100\n",
      "Epoch: 10 \n",
      "######## epoch Finished in 16.135008096694946 seconds ###########\n",
      "Training Data: Epoch Loss: 0.365, Epoch Accuracy: 81.152, Validation Loss: 0.450,Validation Accuracy: 73.100\n",
      "Epoch: 11 \n",
      "######## epoch Finished in 15.87410593032837 seconds ###########\n",
      "Training Data: Epoch Loss: 0.355, Epoch Accuracy: 81.250, Validation Loss: 0.432,Validation Accuracy: 73.860\n",
      "Epoch: 12 \n",
      "######## epoch Finished in 15.770426034927368 seconds ###########\n",
      "Training Data: Epoch Loss: 0.346, Epoch Accuracy: 81.348, Validation Loss: 0.413,Validation Accuracy: 74.164\n",
      "Epoch: 13 \n",
      "######## epoch Finished in 15.790144920349121 seconds ###########\n",
      "Training Data: Epoch Loss: 0.336, Epoch Accuracy: 81.836, Validation Loss: 0.412,Validation Accuracy: 74.468\n",
      "Epoch: 14 \n",
      "######## epoch Finished in 16.12729287147522 seconds ###########\n",
      "Training Data: Epoch Loss: 0.330, Epoch Accuracy: 82.129, Validation Loss: 0.402,Validation Accuracy: 74.468\n",
      "Epoch: 15 \n",
      "######## epoch Finished in 15.896530866622925 seconds ###########\n",
      "Training Data: Epoch Loss: 0.320, Epoch Accuracy: 83.398, Validation Loss: 0.394,Validation Accuracy: 76.292\n",
      "Epoch: 16 \n",
      "######## epoch Finished in 15.858170986175537 seconds ###########\n",
      "Training Data: Epoch Loss: 0.318, Epoch Accuracy: 83.008, Validation Loss: 0.385,Validation Accuracy: 75.684\n",
      "Epoch: 17 \n",
      "######## epoch Finished in 15.653084754943848 seconds ###########\n",
      "Training Data: Epoch Loss: 0.309, Epoch Accuracy: 84.570, Validation Loss: 0.392,Validation Accuracy: 77.660\n",
      "Epoch: 18 \n",
      "######## epoch Finished in 15.674697875976562 seconds ###########\n",
      "Training Data: Epoch Loss: 0.310, Epoch Accuracy: 84.082, Validation Loss: 0.380,Validation Accuracy: 77.660\n",
      "Epoch: 19 \n",
      "######## epoch Finished in 15.698983907699585 seconds ###########\n",
      "Training Data: Epoch Loss: 0.309, Epoch Accuracy: 84.668, Validation Loss: 0.364,Validation Accuracy: 77.812\n",
      "Epoch: 20 \n",
      "######## epoch Finished in 15.639906883239746 seconds ###########\n",
      "Training Data: Epoch Loss: 0.295, Epoch Accuracy: 85.645, Validation Loss: 0.364,Validation Accuracy: 77.812\n",
      "Epoch: 21 \n",
      "######## epoch Finished in 15.605324029922485 seconds ###########\n",
      "Training Data: Epoch Loss: 0.304, Epoch Accuracy: 84.668, Validation Loss: 0.370,Validation Accuracy: 78.267\n",
      "Epoch: 22 \n",
      "######## epoch Finished in 15.824191093444824 seconds ###########\n",
      "Training Data: Epoch Loss: 0.301, Epoch Accuracy: 84.961, Validation Loss: 0.371,Validation Accuracy: 78.571\n",
      "Epoch: 23 \n",
      "######## epoch Finished in 15.60089373588562 seconds ###########\n",
      "Training Data: Epoch Loss: 0.290, Epoch Accuracy: 85.742, Validation Loss: 0.361,Validation Accuracy: 79.483\n",
      "Epoch: 24 \n",
      "######## epoch Finished in 15.82149600982666 seconds ###########\n",
      "Training Data: Epoch Loss: 0.295, Epoch Accuracy: 85.352, Validation Loss: 0.369,Validation Accuracy: 80.851\n",
      "Epoch: 25 \n",
      "######## epoch Finished in 15.797714948654175 seconds ###########\n",
      "Training Data: Epoch Loss: 0.290, Epoch Accuracy: 86.230, Validation Loss: 0.350,Validation Accuracy: 80.243\n",
      "Epoch: 26 \n",
      "######## epoch Finished in 15.56933331489563 seconds ###########\n",
      "Training Data: Epoch Loss: 0.290, Epoch Accuracy: 86.035, Validation Loss: 0.345,Validation Accuracy: 80.699\n",
      "Epoch: 27 \n",
      "######## epoch Finished in 15.684214115142822 seconds ###########\n",
      "Training Data: Epoch Loss: 0.272, Epoch Accuracy: 86.914, Validation Loss: 0.340,Validation Accuracy: 83.283\n",
      "Epoch: 28 \n",
      "######## epoch Finished in 15.672579765319824 seconds ###########\n",
      "Training Data: Epoch Loss: 0.273, Epoch Accuracy: 87.988, Validation Loss: 0.329,Validation Accuracy: 82.827\n",
      "Epoch: 29 \n",
      "######## epoch Finished in 15.598607063293457 seconds ###########\n",
      "Training Data: Epoch Loss: 0.267, Epoch Accuracy: 88.281, Validation Loss: 0.324,Validation Accuracy: 84.043\n",
      "Epoch: 30 \n",
      "######## epoch Finished in 15.62061619758606 seconds ###########\n",
      "Training Data: Epoch Loss: 0.264, Epoch Accuracy: 88.672, Validation Loss: 0.321,Validation Accuracy: 85.258\n",
      "Epoch: 31 \n",
      "######## epoch Finished in 15.74038314819336 seconds ###########\n",
      "Training Data: Epoch Loss: 0.249, Epoch Accuracy: 91.113, Validation Loss: 0.305,Validation Accuracy: 86.474\n",
      "Epoch: 32 \n",
      "######## epoch Finished in 15.698441982269287 seconds ###########\n",
      "Training Data: Epoch Loss: 0.237, Epoch Accuracy: 91.699, Validation Loss: 0.309,Validation Accuracy: 85.258\n",
      "Epoch: 33 \n",
      "######## epoch Finished in 15.607784032821655 seconds ###########\n",
      "Training Data: Epoch Loss: 0.230, Epoch Accuracy: 91.504, Validation Loss: 0.295,Validation Accuracy: 88.146\n",
      "Epoch: 34 \n",
      "######## epoch Finished in 15.605301141738892 seconds ###########\n",
      "Training Data: Epoch Loss: 0.213, Epoch Accuracy: 93.359, Validation Loss: 0.281,Validation Accuracy: 87.842\n",
      "Epoch: 35 \n",
      "######## epoch Finished in 15.564659833908081 seconds ###########\n",
      "Training Data: Epoch Loss: 0.206, Epoch Accuracy: 93.359, Validation Loss: 0.263,Validation Accuracy: 88.754\n",
      "Epoch: 36 \n",
      "######## epoch Finished in 15.594534158706665 seconds ###########\n",
      "Training Data: Epoch Loss: 0.195, Epoch Accuracy: 93.359, Validation Loss: 0.248,Validation Accuracy: 90.426\n",
      "Epoch: 37 \n",
      "######## epoch Finished in 15.606375217437744 seconds ###########\n",
      "Training Data: Epoch Loss: 0.195, Epoch Accuracy: 93.945, Validation Loss: 0.237,Validation Accuracy: 90.426\n",
      "Epoch: 38 \n",
      "######## epoch Finished in 15.598189115524292 seconds ###########\n",
      "Training Data: Epoch Loss: 0.170, Epoch Accuracy: 95.410, Validation Loss: 0.233,Validation Accuracy: 90.122\n",
      "Epoch: 39 \n",
      "######## epoch Finished in 15.685407161712646 seconds ###########\n",
      "Training Data: Epoch Loss: 0.171, Epoch Accuracy: 95.215, Validation Loss: 0.230,Validation Accuracy: 91.033\n",
      "Epoch: 40 \n",
      "######## epoch Finished in 15.719489812850952 seconds ###########\n",
      "Training Data: Epoch Loss: 0.159, Epoch Accuracy: 94.922, Validation Loss: 0.219,Validation Accuracy: 90.578\n",
      "Epoch: 41 \n",
      "######## epoch Finished in 15.521018028259277 seconds ###########\n",
      "Training Data: Epoch Loss: 0.163, Epoch Accuracy: 95.312, Validation Loss: 0.204,Validation Accuracy: 92.249\n",
      "Epoch: 42 \n",
      "######## epoch Finished in 16.138216257095337 seconds ###########\n",
      "Training Data: Epoch Loss: 0.156, Epoch Accuracy: 95.215, Validation Loss: 0.196,Validation Accuracy: 91.793\n",
      "Epoch: 43 \n",
      "######## epoch Finished in 16.010530948638916 seconds ###########\n",
      "Training Data: Epoch Loss: 0.145, Epoch Accuracy: 95.703, Validation Loss: 0.195,Validation Accuracy: 92.553\n",
      "Epoch: 44 \n",
      "######## epoch Finished in 15.646074056625366 seconds ###########\n",
      "Training Data: Epoch Loss: 0.129, Epoch Accuracy: 96.387, Validation Loss: 0.189,Validation Accuracy: 91.945\n",
      "Epoch: 45 \n",
      "######## epoch Finished in 15.727828979492188 seconds ###########\n",
      "Training Data: Epoch Loss: 0.137, Epoch Accuracy: 95.703, Validation Loss: 0.175,Validation Accuracy: 92.553\n",
      "Epoch: 46 \n"
     ]
    },
    {
     "name": "stdout",
     "output_type": "stream",
     "text": [
      "######## epoch Finished in 15.58647108078003 seconds ###########\n",
      "Training Data: Epoch Loss: 0.123, Epoch Accuracy: 96.777, Validation Loss: 0.173,Validation Accuracy: 92.553\n",
      "Epoch: 47 \n",
      "######## epoch Finished in 15.668512105941772 seconds ###########\n",
      "Training Data: Epoch Loss: 0.130, Epoch Accuracy: 95.312, Validation Loss: 0.163,Validation Accuracy: 93.617\n",
      "Epoch: 48 \n",
      "######## epoch Finished in 15.557047843933105 seconds ###########\n",
      "Training Data: Epoch Loss: 0.126, Epoch Accuracy: 96.582, Validation Loss: 0.163,Validation Accuracy: 93.313\n",
      "Epoch: 49 \n",
      "######## epoch Finished in 15.753066062927246 seconds ###########\n",
      "Training Data: Epoch Loss: 0.121, Epoch Accuracy: 96.484, Validation Loss: 0.163,Validation Accuracy: 94.073\n",
      "Epoch: 50 \n",
      "######## epoch Finished in 15.5645010471344 seconds ###########\n",
      "Training Data: Epoch Loss: 0.122, Epoch Accuracy: 95.898, Validation Loss: 0.158,Validation Accuracy: 94.225\n"
     ]
    }
   ],
   "source": [
    "for epoch in range(n_epochs):\n",
    "    print(\"Epoch: %d \"%(epoch+1))\n",
    "    model.train()\n",
    "    running_loss=0.0\n",
    "    running_correct=0.0\n",
    "    val_loss=0.0\n",
    "    total=0\n",
    "    t1 = time.time()\n",
    "    for i,data in enumerate(train_loader):\n",
    "        images,labels=data\n",
    "        images=images.to(device)\n",
    "        labels=labels.to(device)\n",
    "        total+=labels.size(0)\n",
    "        optimizer.zero_grad()\n",
    "        outputs=model(images)\n",
    "        _,predicted=torch.max(outputs.data,1)\n",
    "        loss=criterion(outputs,labels)\n",
    "        loss.backward()\n",
    "        optimizer.step()\n",
    "        running_loss+=loss.item()\n",
    "        running_correct+=(labels==predicted).sum().item()\n",
    "        traning_accuracy=(running_correct/total)*100\n",
    "    \n",
    "    validation_accuracy=0\n",
    "    model.eval()\n",
    "    with torch.no_grad():\n",
    "        val_correct=0\n",
    "        val_total=0\n",
    "        val_loss=0\n",
    "        for data in validate_loader:\n",
    "            images,val_labels=data[0].to(device), data[1].to(device)\n",
    "            images = images.to(device)\n",
    "            val_labels = val_labels.to(device)\n",
    "            outputs=model(images)\n",
    "            loss_val=criterion(outputs,val_labels)\n",
    "            val_loss+= loss_val.item()\n",
    "            _,predicted=torch.max(outputs.data,1)\n",
    "            val_correct+=(predicted == val_labels).sum().item()\n",
    "            val_total+=val_labels.size(0)\n",
    "        validation_accuracy = (val_correct / val_total) *100\n",
    "    \n",
    "    scheduler.step()\n",
    "    epoch_loss=running_loss/len(train_loader)\n",
    "    val_loss=val_loss/len(validate_loader)\n",
    "    epoch_accuracy=100.00* running_correct/total\n",
    "    Accuracies.append(epoch_accuracy)\n",
    "    valAccuracies.append(validation_accuracy)\n",
    "    trainLoss.append(epoch_loss)\n",
    "    valLoss.append(val_loss)\n",
    "    print(\"######## epoch Finished in {} seconds ###########\".format(time.time()\\\n",
    "                                                                    -t1))\n",
    "    print(\"Training Data: Epoch Loss: %.3f, Epoch Accuracy: %.3f, Validation Loss: %.3f,Validation Accuracy: %.3f\"%(epoch_loss,epoch_accuracy,val_loss,validation_accuracy))\n",
    "    "
   ]
  },
  {
   "cell_type": "code",
   "execution_count": 14,
   "metadata": {
    "colab": {
     "base_uri": "https://localhost:8080/"
    },
    "executionInfo": {
     "elapsed": 39,
     "status": "ok",
     "timestamp": 1680999630373,
     "user": {
      "displayName": "madhav karnati",
      "userId": "09667562301774768185"
     },
     "user_tz": 240
    },
    "id": "w_XHW_ieWa1K",
    "outputId": "26a87717-87d7-415e-ffcd-1ea9f8f5c70e"
   },
   "outputs": [
    {
     "name": "stdout",
     "output_type": "stream",
     "text": [
      "---Training finished in 15.567512035369873 seconds---\n"
     ]
    }
   ],
   "source": [
    "print(\"---Training finished in {} seconds---\".format(time.time()-t1))\n",
    "epoch_count+=n_epochs\n",
    "torch.save(model.state_dict(), \"2-Class-InceptionV3-\"+str(epoch_count)+\"-epoch.pt\")"
   ]
  },
  {
   "cell_type": "code",
   "execution_count": 15,
   "metadata": {
    "executionInfo": {
     "elapsed": 6,
     "status": "ok",
     "timestamp": 1680999630373,
     "user": {
      "displayName": "madhav karnati",
      "userId": "09667562301774768185"
     },
     "user_tz": 240
    },
    "id": "F4vfI4r7WeNW"
   },
   "outputs": [],
   "source": [
    "def evaluate_model(model,test_loader):\n",
    "    model.eval()\n",
    "    predicted_correct =0\n",
    "    total = 0\n",
    "    with torch.no_grad():\n",
    "        for data in test_loader:\n",
    "            images,labels = data\n",
    "            images = images.to(device)\n",
    "            labels = labels.to(device)\n",
    "            total+=labels.size(0)\n",
    "            outputs = model(images)\n",
    "            _,predicted = torch.max(outputs,1)\n",
    "            predicted_correct += (predicted == labels).sum().item()\n",
    "    epoch_accuracy = 100.0* predicted_correct/total\n",
    "    print(\"Testing Data: Epoch Accuracy: %.3f\"%(epoch_accuracy))\n",
    "    return epoch_accuracy"
   ]
  },
  {
   "cell_type": "code",
   "execution_count": 16,
   "metadata": {
    "colab": {
     "base_uri": "https://localhost:8080/"
    },
    "executionInfo": {
     "elapsed": 9596,
     "status": "ok",
     "timestamp": 1680999639964,
     "user": {
      "displayName": "madhav karnati",
      "userId": "09667562301774768185"
     },
     "user_tz": 240
    },
    "id": "o4iZwGT-WhVq",
    "outputId": "a614020c-a9ea-4a98-e15f-d26b5766518e"
   },
   "outputs": [
    {
     "name": "stdout",
     "output_type": "stream",
     "text": [
      "Testing Data: Epoch Accuracy: 85.333\n"
     ]
    },
    {
     "data": {
      "text/plain": [
       "85.33333333333333"
      ]
     },
     "execution_count": 16,
     "metadata": {},
     "output_type": "execute_result"
    }
   ],
   "source": [
    "evaluate_model(model,test_loader)"
   ]
  },
  {
   "cell_type": "code",
   "execution_count": null,
   "metadata": {
    "executionInfo": {
     "elapsed": 12,
     "status": "ok",
     "timestamp": 1680999639966,
     "user": {
      "displayName": "madhav karnati",
      "userId": "09667562301774768185"
     },
     "user_tz": 240
    },
    "id": "JYNSCTmbWkDv"
   },
   "outputs": [],
   "source": [
    "dict = {'Training': Accuracies, 'Validation': valAccuracies} \n",
    "dictLoss = {'Training': trainLoss,'Validation': valLoss}\n",
    "df = pd.DataFrame(dict)\n",
    "df2 = pd.DataFrame(dictLoss)\n",
    "df.to_csv(\"Accuracies_InceptionV3_2classes\"+str(epoch_count)+\".csv\")\n",
    "df2.to_csv(\"Loss_InceptionV3_2classes\"+str(epoch_count)+\".csv\")"
   ]
  },
  {
   "cell_type": "code",
   "execution_count": 17,
   "metadata": {
    "colab": {
     "base_uri": "https://localhost:8080/",
     "height": 472
    },
    "executionInfo": {
     "elapsed": 433,
     "status": "ok",
     "timestamp": 1680999640390,
     "user": {
      "displayName": "madhav karnati",
      "userId": "09667562301774768185"
     },
     "user_tz": 240
    },
    "id": "YAo3BO6VWmco",
    "outputId": "8ce4ba4a-f83a-44dd-8636-8598d6eb15be"
   },
   "outputs": [
    {
     "data": {
      "image/png": "[encoded data removed]",
      "text/plain": [
       "<Figure size 640x480 with 1 Axes>"
      ]
     },
     "metadata": {},
     "output_type": "display_data"
    }
   ],
   "source": [
    "plt.plot(range(n_epochs),Accuracies, label=\"Training\")\n",
    "plt.plot(range(n_epochs),valAccuracies, label=\"Validation\")\n",
    "plt.xlabel(\"Epochs\")\n",
    "plt.ylabel(\"Accuracies\")\n",
    "plt.title(\"Training vs Validation Accuracies\")\n",
    "plt.legend()\n",
    "plt.show()"
   ]
  },
  {
   "cell_type": "code",
   "execution_count": 18,
   "metadata": {
    "colab": {
     "base_uri": "https://localhost:8080/",
     "height": 472
    },
    "executionInfo": {
     "elapsed": 433,
     "status": "ok",
     "timestamp": 1680999640815,
     "user": {
      "displayName": "madhav karnati",
      "userId": "09667562301774768185"
     },
     "user_tz": 240
    },
    "id": "USQmJBzRWod7",
    "outputId": "bc9333a6-2733-4403-8308-4f8035292d5a"
   },
   "outputs": [
    {
     "data": {
      "image/png": "[encoded data removed]",
      "text/plain": [
       "<Figure size 640x480 with 1 Axes>"
      ]
     },
     "metadata": {},
     "output_type": "display_data"
    }
   ],
   "source": [
    "plt.plot(range(n_epochs),trainLoss, label=\"Training\")\n",
    "plt.plot(range(n_epochs),valLoss, label=\"Validation\")\n",
    "plt.xlabel(\"Epochs\")\n",
    "plt.ylabel(\"Loss\")\n",
    "plt.title(\"Training vs Validation Loss\")\n",
    "plt.legend()\n",
    "plt.show()"
   ]
  },
  {
   "cell_type": "code",
   "execution_count": 19,
   "metadata": {
    "executionInfo": {
     "elapsed": 12,
     "status": "ok",
     "timestamp": 1680999640816,
     "user": {
      "displayName": "madhav karnati",
      "userId": "09667562301774768185"
     },
     "user_tz": 240
    },
    "id": "qZuYtk3dWrBB"
   },
   "outputs": [],
   "source": [
    "from sklearn.metrics import confusion_matrix,accuracy_score,precision_score,recall_score,f1_score,ConfusionMatrixDisplay"
   ]
  },
  {
   "cell_type": "code",
   "execution_count": 20,
   "metadata": {
    "executionInfo": {
     "elapsed": 8499,
     "status": "ok",
     "timestamp": 1680999649304,
     "user": {
      "displayName": "madhav karnati",
      "userId": "09667562301774768185"
     },
     "user_tz": 240
    },
    "id": "T6x84ZuiWuzX"
   },
   "outputs": [],
   "source": [
    "y_pred = []\n",
    "y_true = []\n",
    "\n",
    "for data in test_loader:\n",
    "        inputs, labels = data[0].to(device), data[1].to(device)\n",
    "        output = model(inputs) \n",
    "        output = (torch.max(torch.exp(output), 1)[1]).data.cpu().numpy()\n",
    "        y_pred.extend(output) \n",
    "        labels = labels.data.cpu().numpy()\n",
    "        y_true.extend(labels)"
   ]
  },
  {
   "cell_type": "code",
   "execution_count": 21,
   "metadata": {
    "colab": {
     "base_uri": "https://localhost:8080/",
     "height": 700
    },
    "executionInfo": {
     "elapsed": 464,
     "status": "ok",
     "timestamp": 1680999649743,
     "user": {
      "displayName": "madhav karnati",
      "userId": "09667562301774768185"
     },
     "user_tz": 240
    },
    "id": "37oGYpb-WxKV",
    "outputId": "de5f03d9-c225-416c-a8eb-7e2962b8938a"
   },
   "outputs": [
    {
     "data": {
      "image/png": "[encoded data removed]",
      "text/plain": [
       "<Figure size 1300x1300 with 2 Axes>"
      ]
     },
     "metadata": {},
     "output_type": "display_data"
    }
   ],
   "source": [
    "classes = (0,1)\n",
    "confusion_matrix(y_true, y_pred)\n",
    "disp = ConfusionMatrixDisplay(confusion_matrix(y_true, y_pred),display_labels=classes)\n",
    "fig,ax = plt.subplots()\n",
    "fig.set_size_inches(13,13)\n",
    "plt.title(\"Confusion Matrix InceptionV3 (2-Classes)\")\n",
    "disp.plot(ax=ax)\n",
    "plt.show()"
   ]
  },
  {
   "cell_type": "code",
   "execution_count": 22,
   "metadata": {
    "colab": {
     "base_uri": "https://localhost:8080/"
    },
    "executionInfo": {
     "elapsed": 6,
     "status": "ok",
     "timestamp": 1680999650149,
     "user": {
      "displayName": "madhav karnati",
      "userId": "09667562301774768185"
     },
     "user_tz": 240
    },
    "id": "M-asllEiW0NL",
    "outputId": "7e66cab2-88f5-4d23-8289-536347704e83"
   },
   "outputs": [
    {
     "name": "stdout",
     "output_type": "stream",
     "text": [
      "Precision Macro:0.90\n",
      "Precision Micro:0.84\n",
      "Recall Macro:0.61\n",
      "Recall Micro:0.84\n",
      "F1-Score Macro:0.64\n",
      "F1-Score Micro:0.84\n"
     ]
    }
   ],
   "source": [
    "print(\"Precision Macro:{:.2f}\".format(precision_score(y_true, y_pred, average='macro')))\n",
    "print(\"Precision Micro:{:.2f}\".format(precision_score(y_true,y_pred,average='micro')))\n",
    "print(\"Recall Macro:{:.2f}\".format(recall_score(y_true,y_pred,average='macro')))\n",
    "print(\"Recall Micro:{:.2f}\".format(recall_score(y_true,y_pred,average='micro')))\n",
    "print(\"F1-Score Macro:{:.2f}\".format(f1_score(y_true,y_pred,average='macro')))\n",
    "print(\"F1-Score Micro:{:.2f}\".format(f1_score(y_true,y_pred,average='micro')))"
   ]
  },
  {
   "cell_type": "code",
   "execution_count": null,
   "metadata": {
    "id": "pnz_Ch6nW63w"
   },
   "outputs": [],
   "source": []
  }
 ],
 "metadata": {
  "accelerator": "GPU",
  "colab": {
   "authorship_tag": "ABX9TyMVsjQa+sB8g4KeB9uePUcf",
   "provenance": []
  },
  "gpuClass": "standard",
  "kernelspec": {
   "display_name": "Python 3 (ipykernel)",
   "language": "python",
   "name": "python3"
  },
  "language_info": {
   "codemirror_mode": {
    "name": "ipython",
    "version": 3
   },
   "file_extension": ".py",
   "mimetype": "text/x-python",
   "name": "python",
   "nbconvert_exporter": "python",
   "pygments_lexer": "ipython3",
   "version": "3.10.10"
  }
 },
 "nbformat": 4,
 "nbformat_minor": 1
}
