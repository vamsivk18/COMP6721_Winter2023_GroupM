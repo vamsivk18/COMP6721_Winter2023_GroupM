{
 "cells": [
  {
   "cell_type": "code",
   "execution_count": 1,
   "id": "c527d8b1",
   "metadata": {},
   "outputs": [],
   "source": [
    "import torch\n",
    "import torch.nn as nn\n",
    "import torchvision.transforms as transforms\n",
    "import torchvision\n",
    "import time\n",
    "import matplotlib.pyplot as plt\n",
    "import numpy as np\n",
    "from sklearn.metrics import confusion_matrix\n",
    "import pandas as pd\n",
    "import os\n",
    "from torchvision import datasets, transforms, models\n",
    "from sklearn.metrics.pairwise import pairwise_distances\n",
    "from sklearn.manifold import TSNE\n",
    "import matplotlib.pyplot as plt"
   ]
  },
  {
   "cell_type": "code",
   "execution_count": 2,
   "id": "0a00ce5f",
   "metadata": {},
   "outputs": [],
   "source": [
    "def get_mean_std(loader):\n",
    "    mean = 0.\n",
    "    std = 0.\n",
    "    total_images_count = 0\n",
    "    for images,_ in loader:\n",
    "        images_count_in_batch = images.size(0)\n",
    "#         print(images.shape)\n",
    "        images =images.view(images_count_in_batch,images.size(1),-1)\n",
    "        mean+=images.mean(2).sum(0)\n",
    "        std+=images.std(2).sum(0)\n",
    "        total_images_count+=images_count_in_batch\n",
    "    mean /= total_images_count\n",
    "    std /= total_images_count\n",
    "    return mean,std"
   ]
  },
  {
   "cell_type": "code",
   "execution_count": 9,
   "id": "adf2e899",
   "metadata": {},
   "outputs": [],
   "source": [
    "def train_transform(dataset):\n",
    "    train_transforms = transforms.Compose([transforms.Resize((299,299)),transforms.ToTensor()])\n",
    "    train_dataset=torchvision.datasets.ImageFolder(root=dataset,transform=train_transforms)\n",
    "    train_loader=torch.utils.data.DataLoader(dataset=train_dataset,batch_size=32,shuffle=True)\n",
    "    mean,std=get_mean_std(train_loader)\n",
    "    train_transforms = transforms.Compose([\n",
    "        transforms.Resize((299,299)),\n",
    "        transforms.RandomHorizontalFlip(),\n",
    "        transforms.RandomRotation(10),\n",
    "        transforms.ToTensor(),\n",
    "        transforms.Normalize(torch.Tensor(mean),torch.Tensor(std))\n",
    "    ])\n",
    "    train_dataset=torchvision.datasets.ImageFolder(root=dataset,transform=train_transforms)\n",
    "    train_loader=torch.utils.data.DataLoader(dataset=train_dataset,batch_size=32,shuffle=True,drop_last=False,num_workers=0)\n",
    "    return train_loader,train_dataset"
   ]
  },
  {
   "cell_type": "code",
   "execution_count": 10,
   "id": "cd7c1b39",
   "metadata": {},
   "outputs": [],
   "source": [
    "train_dataset='../Datasets/dataset_20_classes/'\n",
    "train_loader,training_dataset=train_transform(train_dataset)"
   ]
  },
  {
   "cell_type": "code",
   "execution_count": null,
   "id": "bbe9d1bf",
   "metadata": {},
   "outputs": [],
   "source": []
  },
  {
   "cell_type": "code",
   "execution_count": 11,
   "id": "b029f815",
   "metadata": {},
   "outputs": [],
   "source": [
    "model = models.inception_v3(pretrained=False)\n",
    "for param in model.parameters():\n",
    "    param.requires_grad = False"
   ]
  },
  {
   "cell_type": "code",
   "execution_count": 12,
   "id": "737937de",
   "metadata": {},
   "outputs": [],
   "source": [
    "import numpy as np"
   ]
  },
  {
   "cell_type": "code",
   "execution_count": 13,
   "id": "5ce688ae",
   "metadata": {},
   "outputs": [],
   "source": [
    "features = []\n",
    "model.eval()\n",
    "with torch.no_grad():\n",
    "    for inputs, labels in train_loader:\n",
    "        outputs = model(inputs)\n",
    "        features.append(outputs.cpu().numpy())\n",
    "\n",
    "features = np.concatenate(features)\n",
    "labels = np.array(training_dataset.targets)"
   ]
  },
  {
   "cell_type": "code",
   "execution_count": null,
   "id": "595ff511",
   "metadata": {},
   "outputs": [],
   "source": [
    "# Apply t-SNE to the feature representations\n",
    "tsne = TSNE(n_components=3, perplexity=30.0, n_iter=1000, random_state=42)\n",
    "embedding = tsne.fit_transform(features)\n",
    "\n",
    "# Visualize the embedding using a scatter plot\n",
    "plt.scatter(embedding[:, 0], embedding[:, 1], c=labels)\n",
    "plt.show()"
   ]
  },
  {
   "cell_type": "code",
   "execution_count": null,
   "id": "bce1f74c",
   "metadata": {},
   "outputs": [],
   "source": []
  }
 ],
 "metadata": {
  "kernelspec": {
   "display_name": "Python 3 (ipykernel)",
   "language": "python",
   "name": "python3"
  },
  "language_info": {
   "codemirror_mode": {
    "name": "ipython",
    "version": 3
   },
   "file_extension": ".py",
   "mimetype": "text/x-python",
   "name": "python",
   "nbconvert_exporter": "python",
   "pygments_lexer": "ipython3",
   "version": "3.10.10"
  }
 },
 "nbformat": 4,
 "nbformat_minor": 5
}
