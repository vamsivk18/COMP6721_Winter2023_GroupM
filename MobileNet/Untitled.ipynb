{
 "cells": [
  {
   "cell_type": "code",
   "execution_count": 1,
   "id": "31a04fcc",
   "metadata": {},
   "outputs": [],
   "source": [
    "import os\n",
    "total=len(next(os.walk('../../data20/dataset_20_classes_training/'))[1])+len(next(os.walk('../../data20/dataset_20_classes_testing/'))[1])"
   ]
  },
  {
   "cell_type": "code",
   "execution_count": 2,
   "id": "77294e2a",
   "metadata": {},
   "outputs": [
    {
     "data": {
      "text/plain": [
       "40"
      ]
     },
     "execution_count": 2,
     "metadata": {},
     "output_type": "execute_result"
    }
   ],
   "source": [
    "total"
   ]
  },
  {
   "cell_type": "code",
   "execution_count": null,
   "id": "d711485d",
   "metadata": {},
   "outputs": [],
   "source": []
  }
 ],
 "metadata": {
  "kernelspec": {
   "display_name": "Python 3 (ipykernel)",
   "language": "python",
   "name": "python3"
  },
  "language_info": {
   "codemirror_mode": {
    "name": "ipython",
    "version": 3
   },
   "file_extension": ".py",
   "mimetype": "text/x-python",
   "name": "python",
   "nbconvert_exporter": "python",
   "pygments_lexer": "ipython3",
   "version": "3.9.13"
  }
 },
 "nbformat": 4,
 "nbformat_minor": 5
}
