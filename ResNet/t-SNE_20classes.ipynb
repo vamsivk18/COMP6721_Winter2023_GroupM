{
 "cells": [
  {
   "cell_type": "code",
   "execution_count": 1,
   "id": "8d197fed",
   "metadata": {},
   "outputs": [],
   "source": [
    "import torch\n",
    "import torch.nn as nn\n",
    "import torchvision.transforms as transforms\n",
    "import torchvision\n",
    "import time\n",
    "import matplotlib.pyplot as plt\n",
    "import numpy as np\n",
    "from sklearn.metrics import confusion_matrix\n",
    "import pandas as pd\n",
    "import os\n",
    "from torchvision import datasets, transforms, models\n",
    "from sklearn.metrics.pairwise import pairwise_distances\n",
    "from sklearn.manifold import TSNE\n",
    "import matplotlib.pyplot as plt"
   ]
  },
  {
   "cell_type": "code",
   "execution_count": 2,
   "id": "f4f40e4f",
   "metadata": {},
   "outputs": [],
   "source": [
    "def get_mean_std(loader):\n",
    "    mean = 0.\n",
    "    std = 0.\n",
    "    total_images_count = 0\n",
    "    for images,_ in loader:\n",
    "        images_count_in_batch = images.size(0)\n",
    "#         print(images.shape)\n",
    "        images =images.view(images_count_in_batch,images.size(1),-1)\n",
    "        mean+=images.mean(2).sum(0)\n",
    "        std+=images.std(2).sum(0)\n",
    "        total_images_count+=images_count_in_batch\n",
    "    mean /= total_images_count\n",
    "    std /= total_images_count\n",
    "    return mean,std"
   ]
  },
  {
   "cell_type": "code",
   "execution_count": 5,
   "id": "97ff45d9",
   "metadata": {},
   "outputs": [],
   "source": [
    "def transform(dataset):\n",
    "    train_transforms = transforms.Compose([transforms.Resize((224,224)),transforms.ToTensor()])\n",
    "    train_dataset=torchvision.datasets.ImageFolder(root=dataset,transform=train_transforms)\n",
    "    train_loader=torch.utils.data.DataLoader(dataset=train_dataset,batch_size=32,shuffle=True)\n",
    "    mean,std=get_mean_std(train_loader)\n",
    "    train_transforms = transforms.Compose([\n",
    "        transforms.Resize((255,255)),\n",
    "        transforms.RandomHorizontalFlip(),\n",
    "        transforms.RandomRotation(10),\n",
    "        transforms.ToTensor(),\n",
    "        transforms.Normalize(torch.Tensor(mean),torch.Tensor(std))\n",
    "    ])\n",
    "    train_dataset=torchvision.datasets.ImageFolder(root=dataset,transform=train_transforms)\n",
    "    return train_dataset"
   ]
  },
  {
   "cell_type": "code",
   "execution_count": 6,
   "id": "45bff0c9",
   "metadata": {},
   "outputs": [],
   "source": [
    "train_dataset='../Datasets/dataset_20_classes/'\n",
    "dataset=transform(train_dataset)"
   ]
  },
  {
   "cell_type": "code",
   "execution_count": 8,
   "id": "3235efb9",
   "metadata": {},
   "outputs": [
    {
     "name": "stdout",
     "output_type": "stream",
     "text": [
      "13803 1971 3945\n"
     ]
    }
   ],
   "source": [
    "train_size = int(0.7 * len(dataset))\n",
    "val_size = int(0.1 * len(dataset))\n",
    "test_size = len(dataset)-train_size-val_size\n",
    "train_dataset, val_dataset, test_dataset = torch.utils.data.random_split(dataset, [train_size, val_size,test_size])\n",
    "train_loader = torch.utils.data.DataLoader(train_dataset, batch_size=64, shuffle=True, drop_last=False, num_workers=0)\n",
    "print(str(train_size)+\" \"+str(val_size)+\" \"+str(test_size))"
   ]
  },
  {
   "cell_type": "code",
   "execution_count": 13,
   "id": "401680a1",
   "metadata": {},
   "outputs": [],
   "source": [
    "test_loader = torch.utils.data.DataLoader(test_dataset, batch_size=64, shuffle=True, drop_last=False, num_workers=0)"
   ]
  },
  {
   "cell_type": "code",
   "execution_count": 14,
   "id": "2d760004",
   "metadata": {},
   "outputs": [
    {
     "name": "stderr",
     "output_type": "stream",
     "text": [
      "/Users/bhanuprakash/miniforge3/lib/python3.10/site-packages/torchvision/models/_utils.py:208: UserWarning: The parameter 'pretrained' is deprecated since 0.13 and may be removed in the future, please use 'weights' instead.\n",
      "  warnings.warn(\n",
      "/Users/bhanuprakash/miniforge3/lib/python3.10/site-packages/torchvision/models/_utils.py:223: UserWarning: Arguments other than a weight enum or `None` for 'weights' are deprecated since 0.13 and may be removed in the future. The current behavior is equivalent to passing `weights=None`.\n",
      "  warnings.warn(msg)\n"
     ]
    }
   ],
   "source": [
    "model = models.resnet18(pretrained=False,num_classes=20)\n",
    "model.eval()\n",
    "for param in model.parameters():\n",
    "    param.requires_grad = False"
   ]
  },
  {
   "cell_type": "code",
   "execution_count": null,
   "id": "1621b165",
   "metadata": {},
   "outputs": [],
   "source": [
    "feature_extractor = torch.nn.Sequential(*list(model.children())[:-1])\n",
    "features = []\n",
    "labels = []\n",
    "with torch.no_grad():\n",
    "    for images, batch_labels in test_loader:\n",
    "        batch_features = feature_extractor(images)\n",
    "        batch_features = torch.flatten(batch_features, start_dim=1)\n",
    "        features.append(batch_features)\n",
    "        labels.append(batch_labels)\n",
    "features = torch.cat(features, dim=0)\n",
    "labels = torch.cat(labels, dim=0)"
   ]
  },
  {
   "cell_type": "code",
   "execution_count": null,
   "id": "e9c22efb",
   "metadata": {},
   "outputs": [],
   "source": [
    "distances = pairwise_distances(features.numpy())\n",
    "sigma = torch.median(torch.tensor(distances)).item()\n",
    "similarities = torch.exp(-torch.tensor(distances)**2 / (2 * sigma**2))\n",
    "\n",
    "# Compute t-SNE embeddings\n",
    "tsne = TSNE(n_components=3, perplexity=30, verbose=1)\n",
    "embeddings = tsne.fit_transform(similarities.numpy())\n",
    "\n",
    "# Plot the embeddings\n",
    "plt.scatter(embeddings[:, 0], embeddings[:, 1], c=labels.numpy())\n",
    "plt.show()"
   ]
  },
  {
   "cell_type": "code",
   "execution_count": null,
   "id": "41a37a36",
   "metadata": {},
   "outputs": [],
   "source": []
  }
 ],
 "metadata": {
  "kernelspec": {
   "display_name": "Python 3 (ipykernel)",
   "language": "python",
   "name": "python3"
  },
  "language_info": {
   "codemirror_mode": {
    "name": "ipython",
    "version": 3
   },
   "file_extension": ".py",
   "mimetype": "text/x-python",
   "name": "python",
   "nbconvert_exporter": "python",
   "pygments_lexer": "ipython3",
   "version": "3.10.10"
  }
 },
 "nbformat": 4,
 "nbformat_minor": 5
}
