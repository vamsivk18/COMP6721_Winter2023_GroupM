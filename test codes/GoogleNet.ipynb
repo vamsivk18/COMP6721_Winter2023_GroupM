{
 "cells": [
  {
   "cell_type": "code",
   "execution_count": 1,
   "id": "ddc2f2bb",
   "metadata": {},
   "outputs": [],
   "source": [
    "import torch.nn as nn\n",
    "import torch\n",
    "import torchvision.transforms as transforms\n",
    "from torchsummary import summary\n",
    "import torchvision\n",
    "import time\n",
    "import matplotlib.pyplot as plt\n",
    "import numpy as np\n",
    "import torchvision.models as models\n",
    "from sklearn.metrics import confusion_matrix\n",
    "import pandas as pd\n",
    "import seaborn as sns\n",
    "import os"
   ]
  },
  {
   "cell_type": "code",
   "execution_count": 2,
   "id": "be4881ac",
   "metadata": {},
   "outputs": [],
   "source": [
    "def get_mean_std(loader):\n",
    "    mean = 0.\n",
    "    std = 0.\n",
    "    total_images_count = 0\n",
    "    for images,_ in loader:\n",
    "        images_count_in_batch = images.size(0)\n",
    "#         print(images.shape)\n",
    "        images =images.view(images_count_in_batch,images.size(1),-1)\n",
    "        mean+=images.mean(2).sum(0)\n",
    "        std+=images.std(2).sum(0)\n",
    "        total_images_count+=images_count_in_batch\n",
    "    mean /= total_images_count\n",
    "    std /= total_images_count\n",
    "    return mean,std"
   ]
  },
  {
   "cell_type": "code",
   "execution_count": 3,
   "id": "f1453203",
   "metadata": {},
   "outputs": [],
   "source": [
    "def transform(dataset):\n",
    "    data_transform = transforms.Compose([transforms.Resize((224,224)),transforms.ToTensor()])\n",
    "    data_set=torchvision.datasets.ImageFolder(root=dataset,transform=data_transform)\n",
    "    data_loader=torch.utils.data.DataLoader(dataset=data_set,batch_size=32,shuffle=True)\n",
    "    mean,std=get_mean_std(data_loader)\n",
    "    data_transform = transforms.Compose([\n",
    "        transforms.Resize((255,255)),\n",
    "        transforms.RandomHorizontalFlip(),\n",
    "        transforms.RandomRotation(10),\n",
    "        transforms.ToTensor(),\n",
    "        transforms.Normalize(torch.Tensor(mean),torch.Tensor(std))\n",
    "    ])\n",
    "    data_set=torchvision.datasets.ImageFolder(root=dataset,transform=data_transform)\n",
    "    data_loader=torch.utils.data.DataLoader(dataset=data_set,batch_size=32,shuffle=True,drop_last=False,num_workers=0)\n",
    "    return data_loader,data_set"
   ]
  },
  {
   "cell_type": "code",
   "execution_count": 4,
   "id": "2449813f",
   "metadata": {},
   "outputs": [],
   "source": [
    "def show_transformed_images(dataset):\n",
    "    loader=torch.utils.data.DataLoader(dataset, batch_size=12,shuffle=True)\n",
    "    batch=next(iter(loader))\n",
    "    images, labels=batch\n",
    "    \n",
    "    grid=torchvision.utils.make_grid(images, nrow=3)\n",
    "    plt.figure(figsize=(11,11))\n",
    "    plt.imshow(np.transpose(grid,(1,2,0)))\n",
    "    print('labels: ',labels)"
   ]
  },
  {
   "cell_type": "code",
   "execution_count": 5,
   "id": "9f3c7c40",
   "metadata": {},
   "outputs": [],
   "source": [
    "train_dataset='../Datasets/dataset_2_classes/test/'\n",
    "train_loader,training_dataset=transform(train_dataset)"
   ]
  },
  {
   "cell_type": "code",
   "execution_count": 6,
   "id": "161a567d",
   "metadata": {},
   "outputs": [],
   "source": [
    "validate_dataset='../Datasets/dataset_2_classes/validate/'\n",
    "validate_loader,validating_dataset=transform(validate_dataset)"
   ]
  },
  {
   "cell_type": "code",
   "execution_count": 7,
   "id": "62cff1af",
   "metadata": {},
   "outputs": [],
   "source": [
    "test_dataset='../Datasets/dataset_2_classes/test/'\n",
    "test_loader,testing_dataset=transform(test_dataset)"
   ]
  },
  {
   "cell_type": "code",
   "execution_count": 8,
   "id": "3cdab8af",
   "metadata": {},
   "outputs": [],
   "source": [
    "def set_device():\n",
    "    device = \"mps\" if torch.backends.mps.is_available() else \"cpu\"\n",
    "    return device"
   ]
  },
  {
   "cell_type": "code",
   "execution_count": null,
   "id": "4d3b6b55",
   "metadata": {},
   "outputs": [],
   "source": [
    "model=models.inception_v3()"
   ]
  },
  {
   "cell_type": "code",
   "execution_count": null,
   "id": "10942e84",
   "metadata": {},
   "outputs": [],
   "source": []
  }
 ],
 "metadata": {
  "kernelspec": {
   "display_name": "Python 3 (ipykernel)",
   "language": "python",
   "name": "python3"
  },
  "language_info": {
   "codemirror_mode": {
    "name": "ipython",
    "version": 3
   },
   "file_extension": ".py",
   "mimetype": "text/x-python",
   "name": "python",
   "nbconvert_exporter": "python",
   "pygments_lexer": "ipython3",
   "version": "3.9.13"
  }
 },
 "nbformat": 4,
 "nbformat_minor": 5
}
