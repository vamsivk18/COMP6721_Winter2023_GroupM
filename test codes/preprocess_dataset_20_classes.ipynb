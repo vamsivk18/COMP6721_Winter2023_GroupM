{
 "cells": [
  {
   "cell_type": "code",
   "execution_count": 1,
   "metadata": {},
   "outputs": [],
   "source": [
    "import os\n",
    "import random\n",
    "import shutil"
   ]
  },
  {
   "cell_type": "code",
   "execution_count": 11,
   "metadata": {},
   "outputs": [],
   "source": [
    "#src_dir = \"/Users/Madhav Sai/Downloads/plantvillage dataset/color/Tomato___Spider_mites Two-spotted_spider_mite\"\n",
    "#dest_dir = \"/Users/Madhav Sai/Downloads/AI project final datasets/dataset_10_classes/Train_Tomato_unhealthy\""
   ]
  },
  {
   "cell_type": "code",
   "execution_count": 12,
   "metadata": {},
   "outputs": [],
   "source": [
    "jpg_files = [f for f in os.listdir(src_dir) if f.endswith('.JPG')]\n",
    "\n",
    "random.shuffle(jpg_files)\n",
    "\n",
    "for jpg_file in jpg_files[:1173]:\n",
    "    src_file = os.path.join(src_dir, jpg_file)\n",
    "    dest_file = os.path.join(dest_dir, jpg_file)\n",
    "    shutil.copy(src_file, dest_file)"
   ]
  },
  {
   "cell_type": "code",
   "execution_count": 13,
   "metadata": {},
   "outputs": [],
   "source": [
    "src_dir_1 = \"/Users/Madhav Sai/Downloads/plantvillage dataset/color/Tomato___Spider_mites Two-spotted_spider_mite\"\n",
    "dest_dir_1= \"/Users/Madhav Sai/Downloads/AI project final datasets/dataset_10_classes/Train_Tomato_unhealthy\""
   ]
  },
  {
   "cell_type": "code",
   "execution_count": 14,
   "metadata": {},
   "outputs": [],
   "source": [
    "jpg_files = [f for f in os.listdir(src_dir_1) if f.endswith('.JPG')]\n",
    "\n",
    "random.shuffle(jpg_files)\n",
    "\n",
    "for jpg_file in jpg_files[:1173]:\n",
    "    src_file = os.path.join(src_dir_1, jpg_file)\n",
    "    dest_file = os.path.join(dest_dir_1, jpg_file)\n",
    "    shutil.copy(src_file, dest_file)"
   ]
  },
  {
   "cell_type": "code",
   "execution_count": 20,
   "metadata": {},
   "outputs": [],
   "source": [
    "src_dir_2 = \"/Users/Madhav Sai/Downloads/plantvillage dataset/color/Tomato___Septoria_leaf_spot\"\n",
    "dest_dir_2= \"/Users/Madhav Sai/Downloads/AI project final datasets/dataset_10_classes/Train_Tomato_unhealthy\"\n"
   ]
  },
  {
   "cell_type": "code",
   "execution_count": 21,
   "metadata": {},
   "outputs": [],
   "source": [
    "jpg_files = [f for f in os.listdir(src_dir_2) if f.endswith('.JPG')]\n",
    "\n",
    "random.shuffle(jpg_files)\n",
    "\n",
    "for jpg_file in jpg_files[:1240]:\n",
    "    src_file = os.path.join(src_dir_2, jpg_file)\n",
    "    dest_file = os.path.join(dest_dir_2, jpg_file)\n",
    "    shutil.copy(src_file, dest_file)"
   ]
  },
  {
   "cell_type": "code",
   "execution_count": 22,
   "metadata": {},
   "outputs": [],
   "source": [
    "src_dir_3 = \"/Users/Madhav Sai/Downloads/plantvillage dataset/color/Tomato___Leaf_Mold\"\n",
    "dest_dir_3= \"/Users/Madhav Sai/Downloads/AI project final datasets/dataset_10_classes/Train_Tomato_unhealthy\"\n",
    "jpg_files = [f for f in os.listdir(src_dir_3) if f.endswith('.JPG')]\n",
    "\n",
    "random.shuffle(jpg_files)\n",
    "\n",
    "for jpg_file in jpg_files[:666]:\n",
    "    src_file = os.path.join(src_dir_3, jpg_file)\n",
    "    dest_file = os.path.join(dest_dir_3, jpg_file)\n",
    "    shutil.copy(src_file, dest_file)"
   ]
  },
  {
   "cell_type": "code",
   "execution_count": 23,
   "metadata": {},
   "outputs": [],
   "source": [
    "src_dir_4 = \"/Users/Madhav Sai/Downloads/plantvillage dataset/color/Tomato___Late_blight\"\n",
    "dest_dir_4= \"/Users/Madhav Sai/Downloads/AI project final datasets/dataset_10_classes/Train_Tomato_unhealthy\"\n",
    "jpg_files = [f for f in os.listdir(src_dir_4) if f.endswith('.JPG')]\n",
    "\n",
    "random.shuffle(jpg_files)\n",
    "\n",
    "for jpg_file in jpg_files[:1336]:\n",
    "    src_file = os.path.join(src_dir_4, jpg_file)\n",
    "    dest_file = os.path.join(dest_dir_4, jpg_file)\n",
    "    shutil.copy(src_file, dest_file)"
   ]
  },
  {
   "cell_type": "code",
   "execution_count": 24,
   "metadata": {},
   "outputs": [],
   "source": [
    "src_dir_5 = \"/Users/Madhav Sai/Downloads/plantvillage dataset/color/Tomato___Early_blight\"\n",
    "dest_dir_5= \"/Users/Madhav Sai/Downloads/AI project final datasets/dataset_10_classes/Train_Tomato_unhealthy\"\n",
    "jpg_files = [f for f in os.listdir(src_dir_5) if f.endswith('.JPG')]\n",
    "\n",
    "random.shuffle(jpg_files)\n",
    "\n",
    "for jpg_file in jpg_files[:700]:\n",
    "    src_file = os.path.join(src_dir_5, jpg_file)\n",
    "    dest_file = os.path.join(dest_dir_5, jpg_file)\n",
    "    shutil.copy(src_file, dest_file)"
   ]
  },
  {
   "cell_type": "code",
   "execution_count": 4,
   "metadata": {},
   "outputs": [],
   "source": [
    "import os\n",
    "import random\n",
    "import shutil\n",
    "src_dir_6 = \"/Users/Madhav Sai/Downloads/plantvillage dataset/color/Potato___Early_blight\"\n",
    "dest_dir_6= \"/Users/Madhav Sai/Downloads/AI project final datasets/dataset_10_classes/Train_Potato_unhealthy\"\n",
    "jpg_files = [f for f in os.listdir(src_dir_6) if f.endswith('.JPG')]\n",
    "\n",
    "random.shuffle(jpg_files)\n",
    "\n",
    "for jpg_file in jpg_files[:500]:\n",
    "    src_file = os.path.join(src_dir_6, jpg_file)\n",
    "    dest_file = os.path.join(dest_dir_6, jpg_file)\n",
    "    shutil.copy(src_file, dest_file)"
   ]
  },
  {
   "cell_type": "code",
   "execution_count": 67,
   "metadata": {},
   "outputs": [],
   "source": [
    "import os\n",
    "import random\n",
    "import shutil\n",
    "src_dir_7 = \"/Users/Madhav Sai/Downloads/plantvillage dataset/color/Tomato___Late_blight\"\n",
    "dest_dir_7= \"/Users/Madhav Sai/Downloads/AI project final datasets/dataset_10_classes/Validate_Tomato_unhealthy\"\n",
    "jpg_files = [f for f in os.listdir(src_dir_7) if f.endswith('.JPG')]\n",
    "\n",
    "random.shuffle(jpg_files)\n",
    "\n",
    "for jpg_file in jpg_files[:191]:\n",
    "    src_file = os.path.join(src_dir_7, jpg_file)\n",
    "    dest_file = os.path.join(dest_dir_7, jpg_file)\n",
    "    shutil.copy(src_file, dest_file)"
   ]
  },
  {
   "cell_type": "code",
   "execution_count": 81,
   "metadata": {},
   "outputs": [],
   "source": [
    "import os\n",
    "import random\n",
    "import shutil\n",
    "src_dir_8 = \"/Users/Madhav Sai/Downloads/AI project final datasets/dataset_10_classes/Tomato_unhealthy\"\n",
    "dest_dir_8= \"/Users/Madhav Sai/Downloads/AI project final datasets/dataset_10_classes/Tomato___unhealthy\"\n",
    "jpg_files = [f for f in os.listdir(src_dir_8) if f.endswith('.JPG')]\n",
    "\n",
    "random.shuffle(jpg_files)\n",
    "\n",
    "for jpg_file in jpg_files[:10500]:\n",
    "    src_file = os.path.join(src_dir_8, jpg_file)\n",
    "    dest_file = os.path.join(dest_dir_8, jpg_file)\n",
    "    shutil.copy(src_file, dest_file)"
   ]
  },
  {
   "cell_type": "code",
   "execution_count": 1,
   "metadata": {},
   "outputs": [],
   "source": [
    "import torch\n",
    "import os\n",
    "import torchvision\n",
    "import torchvision.transforms as transforms"
   ]
  },
  {
   "cell_type": "code",
   "execution_count": 4,
   "metadata": {},
   "outputs": [
    {
     "data": {
      "text/plain": [
       "['Apple_healthy',\n",
       " 'Apple_unhealthy',\n",
       " 'Cherry_healthy',\n",
       " 'Cherry_unhealthy',\n",
       " 'Grape_healthy',\n",
       " 'Grape_unhealthy',\n",
       " 'Mango_healthy',\n",
       " 'Mango_unhealthy',\n",
       " 'Peach_healthy',\n",
       " 'Peach_unhealthy',\n",
       " 'Pepperbell_healthy',\n",
       " 'Pepperbell_unhealthy',\n",
       " 'Pomegranate_healthy',\n",
       " 'Pomegranate_unhealthy',\n",
       " 'Potato_healthy',\n",
       " 'Potato_unhealthy',\n",
       " 'Strawberry_healthy',\n",
       " 'Strawberry_unhealthy',\n",
       " 'Tomato_healthy',\n",
       " 'Tomato_unhealthy']"
      ]
     },
     "execution_count": 4,
     "metadata": {},
     "output_type": "execute_result"
    }
   ],
   "source": [
    "os.listdir('/Users/Madhav Sai/Downloads/AI project final datasets/dataset_20_classes')"
   ]
  },
  {
   "cell_type": "code",
   "execution_count": 5,
   "metadata": {},
   "outputs": [],
   "source": [
    "dataset_path = '/Users/Madhav Sai/Downloads/AI project final datasets/dataset_20_classes'"
   ]
  },
  {
   "cell_type": "code",
   "execution_count": 6,
   "metadata": {},
   "outputs": [],
   "source": [
    "data_transforms = transforms.Compose([transforms.Resize((224,224)),transforms.ToTensor()])\n",
    "dataset = torchvision.datasets.ImageFolder(root = dataset_path,transform = data_transforms)\n",
    "data_loader = torch.utils.data.DataLoader(dataset = dataset,batch_size=32,shuffle=False)"
   ]
  },
  {
   "cell_type": "code",
   "execution_count": 7,
   "metadata": {},
   "outputs": [
    {
     "data": {
      "text/plain": [
       "(tensor([0.4377, 0.4554, 0.3980]), tensor([0.1565, 0.1344, 0.1761]))"
      ]
     },
     "execution_count": 7,
     "metadata": {},
     "output_type": "execute_result"
    }
   ],
   "source": [
    "def get_mean_and_std(loader):\n",
    "    mean = 0.\n",
    "    std = 0.\n",
    "    total_images_count = 0\n",
    "    for images, _ in loader:\n",
    "        image_count_in_a_batch = images.size(0)\n",
    "        images = images.view(image_count_in_a_batch,images.size(1),-1)\n",
    "        mean += images.mean(2).sum(0)\n",
    "        std += images.std(2).sum(0)\n",
    "        total_images_count += image_count_in_a_batch\n",
    "    mean /= total_images_count\n",
    "    std /= total_images_count\n",
    "    return mean,std\n",
    "get_mean_and_std(data_loader)"
   ]
  },
  {
   "cell_type": "code",
   "execution_count": null,
   "metadata": {},
   "outputs": [],
   "source": []
  }
 ],
 "metadata": {
  "kernelspec": {
   "display_name": "Python 3",
   "language": "python",
   "name": "python3"
  },
  "language_info": {
   "codemirror_mode": {
    "name": "ipython",
    "version": 3
   },
   "file_extension": ".py",
   "mimetype": "text/x-python",
   "name": "python",
   "nbconvert_exporter": "python",
   "pygments_lexer": "ipython3",
   "version": "3.7.4"
  }
 },
 "nbformat": 4,
 "nbformat_minor": 2
}
