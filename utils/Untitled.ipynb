{
 "cells": [
  {
   "cell_type": "code",
   "execution_count": 3,
   "id": "373d985f",
   "metadata": {},
   "outputs": [],
   "source": [
    "import thop\n",
    "import torch\n",
    "import torchvision.models as models"
   ]
  },
  {
   "cell_type": "code",
   "execution_count": 4,
   "id": "23db0a0f",
   "metadata": {},
   "outputs": [],
   "source": [
    "model = models.resnet18()"
   ]
  },
  {
   "cell_type": "code",
   "execution_count": 5,
   "id": "ba88edfe",
   "metadata": {},
   "outputs": [],
   "source": [
    "input_tensor = torch.rand(32, 3, 224, 224)"
   ]
  },
  {
   "cell_type": "code",
   "execution_count": 7,
   "id": "934aabe0",
   "metadata": {},
   "outputs": [
    {
     "name": "stdout",
     "output_type": "stream",
     "text": [
      "[INFO] Register count_convNd() for <class 'torch.nn.modules.conv.Conv2d'>.\n",
      "[INFO] Register count_normalization() for <class 'torch.nn.modules.batchnorm.BatchNorm2d'>.\n",
      "[INFO] Register zero_ops() for <class 'torch.nn.modules.activation.ReLU'>.\n",
      "[INFO] Register zero_ops() for <class 'torch.nn.modules.pooling.MaxPool2d'>.\n",
      "[INFO] Register zero_ops() for <class 'torch.nn.modules.container.Sequential'>.\n",
      "[INFO] Register count_adap_avgpool() for <class 'torch.nn.modules.pooling.AdaptiveAvgPool2d'>.\n",
      "[INFO] Register count_linear() for <class 'torch.nn.modules.linear.Linear'>.\n"
     ]
    },
    {
     "ename": "TypeError",
     "evalue": "conv2d() received an invalid combination of arguments - got (method, Parameter, NoneType, tuple, tuple, tuple, int), but expected one of:\n * (Tensor input, Tensor weight, Tensor bias, tuple of ints stride, tuple of ints padding, tuple of ints dilation, int groups)\n      didn't match because some of the arguments have invalid types: (!method!, !Parameter!, !NoneType!, !tuple of (int, int)!, !tuple of (int, int)!, !tuple of (int, int)!, int)\n * (Tensor input, Tensor weight, Tensor bias, tuple of ints stride, str padding, tuple of ints dilation, int groups)\n      didn't match because some of the arguments have invalid types: (!method!, !Parameter!, !NoneType!, !tuple of (int, int)!, !tuple of (int, int)!, !tuple of (int, int)!, int)\n",
     "output_type": "error",
     "traceback": [
      "\u001b[0;31m---------------------------------------------------------------------------\u001b[0m",
      "\u001b[0;31mTypeError\u001b[0m                                 Traceback (most recent call last)",
      "Cell \u001b[0;32mIn[7], line 1\u001b[0m\n\u001b[0;32m----> 1\u001b[0m flops, _ \u001b[38;5;241m=\u001b[39m \u001b[43mthop\u001b[49m\u001b[38;5;241;43m.\u001b[39;49m\u001b[43mprofile\u001b[49m\u001b[43m(\u001b[49m\u001b[43mmodel\u001b[49m\u001b[43m,\u001b[49m\u001b[43m \u001b[49m\u001b[43minputs\u001b[49m\u001b[38;5;241;43m=\u001b[39;49m\u001b[43m(\u001b[49m\u001b[38;5;28;43minput\u001b[39;49m\u001b[43m,\u001b[49m\u001b[43m \u001b[49m\u001b[43m)\u001b[49m\u001b[43m)\u001b[49m\n",
      "File \u001b[0;32m~/miniforge3/lib/python3.10/site-packages/thop/profile.py:212\u001b[0m, in \u001b[0;36mprofile\u001b[0;34m(model, inputs, custom_ops, verbose, ret_layer_info, report_missing)\u001b[0m\n\u001b[1;32m    209\u001b[0m model\u001b[38;5;241m.\u001b[39mapply(add_hooks)\n\u001b[1;32m    211\u001b[0m \u001b[38;5;28;01mwith\u001b[39;00m torch\u001b[38;5;241m.\u001b[39mno_grad():\n\u001b[0;32m--> 212\u001b[0m     \u001b[43mmodel\u001b[49m\u001b[43m(\u001b[49m\u001b[38;5;241;43m*\u001b[39;49m\u001b[43minputs\u001b[49m\u001b[43m)\u001b[49m\n\u001b[1;32m    214\u001b[0m \u001b[38;5;28;01mdef\u001b[39;00m \u001b[38;5;21mdfs_count\u001b[39m(module: nn\u001b[38;5;241m.\u001b[39mModule, prefix\u001b[38;5;241m=\u001b[39m\u001b[38;5;124m\"\u001b[39m\u001b[38;5;130;01m\\t\u001b[39;00m\u001b[38;5;124m\"\u001b[39m) \u001b[38;5;241m-\u001b[39m\u001b[38;5;241m>\u001b[39m (\u001b[38;5;28mint\u001b[39m, \u001b[38;5;28mint\u001b[39m):\n\u001b[1;32m    215\u001b[0m     total_ops, total_params \u001b[38;5;241m=\u001b[39m module\u001b[38;5;241m.\u001b[39mtotal_ops\u001b[38;5;241m.\u001b[39mitem(), \u001b[38;5;241m0\u001b[39m\n",
      "File \u001b[0;32m~/miniforge3/lib/python3.10/site-packages/torch/nn/modules/module.py:1501\u001b[0m, in \u001b[0;36mModule._call_impl\u001b[0;34m(self, *args, **kwargs)\u001b[0m\n\u001b[1;32m   1496\u001b[0m \u001b[38;5;66;03m# If we don't have any hooks, we want to skip the rest of the logic in\u001b[39;00m\n\u001b[1;32m   1497\u001b[0m \u001b[38;5;66;03m# this function, and just call forward.\u001b[39;00m\n\u001b[1;32m   1498\u001b[0m \u001b[38;5;28;01mif\u001b[39;00m \u001b[38;5;129;01mnot\u001b[39;00m (\u001b[38;5;28mself\u001b[39m\u001b[38;5;241m.\u001b[39m_backward_hooks \u001b[38;5;129;01mor\u001b[39;00m \u001b[38;5;28mself\u001b[39m\u001b[38;5;241m.\u001b[39m_backward_pre_hooks \u001b[38;5;129;01mor\u001b[39;00m \u001b[38;5;28mself\u001b[39m\u001b[38;5;241m.\u001b[39m_forward_hooks \u001b[38;5;129;01mor\u001b[39;00m \u001b[38;5;28mself\u001b[39m\u001b[38;5;241m.\u001b[39m_forward_pre_hooks\n\u001b[1;32m   1499\u001b[0m         \u001b[38;5;129;01mor\u001b[39;00m _global_backward_pre_hooks \u001b[38;5;129;01mor\u001b[39;00m _global_backward_hooks\n\u001b[1;32m   1500\u001b[0m         \u001b[38;5;129;01mor\u001b[39;00m _global_forward_hooks \u001b[38;5;129;01mor\u001b[39;00m _global_forward_pre_hooks):\n\u001b[0;32m-> 1501\u001b[0m     \u001b[38;5;28;01mreturn\u001b[39;00m \u001b[43mforward_call\u001b[49m\u001b[43m(\u001b[49m\u001b[38;5;241;43m*\u001b[39;49m\u001b[43margs\u001b[49m\u001b[43m,\u001b[49m\u001b[43m \u001b[49m\u001b[38;5;241;43m*\u001b[39;49m\u001b[38;5;241;43m*\u001b[39;49m\u001b[43mkwargs\u001b[49m\u001b[43m)\u001b[49m\n\u001b[1;32m   1502\u001b[0m \u001b[38;5;66;03m# Do not call functions when jit is used\u001b[39;00m\n\u001b[1;32m   1503\u001b[0m full_backward_hooks, non_full_backward_hooks \u001b[38;5;241m=\u001b[39m [], []\n",
      "File \u001b[0;32m~/miniforge3/lib/python3.10/site-packages/torchvision/models/resnet.py:285\u001b[0m, in \u001b[0;36mResNet.forward\u001b[0;34m(self, x)\u001b[0m\n\u001b[1;32m    284\u001b[0m \u001b[38;5;28;01mdef\u001b[39;00m \u001b[38;5;21mforward\u001b[39m(\u001b[38;5;28mself\u001b[39m, x: Tensor) \u001b[38;5;241m-\u001b[39m\u001b[38;5;241m>\u001b[39m Tensor:\n\u001b[0;32m--> 285\u001b[0m     \u001b[38;5;28;01mreturn\u001b[39;00m \u001b[38;5;28;43mself\u001b[39;49m\u001b[38;5;241;43m.\u001b[39;49m\u001b[43m_forward_impl\u001b[49m\u001b[43m(\u001b[49m\u001b[43mx\u001b[49m\u001b[43m)\u001b[49m\n",
      "File \u001b[0;32m~/miniforge3/lib/python3.10/site-packages/torchvision/models/resnet.py:268\u001b[0m, in \u001b[0;36mResNet._forward_impl\u001b[0;34m(self, x)\u001b[0m\n\u001b[1;32m    266\u001b[0m \u001b[38;5;28;01mdef\u001b[39;00m \u001b[38;5;21m_forward_impl\u001b[39m(\u001b[38;5;28mself\u001b[39m, x: Tensor) \u001b[38;5;241m-\u001b[39m\u001b[38;5;241m>\u001b[39m Tensor:\n\u001b[1;32m    267\u001b[0m     \u001b[38;5;66;03m# See note [TorchScript super()]\u001b[39;00m\n\u001b[0;32m--> 268\u001b[0m     x \u001b[38;5;241m=\u001b[39m \u001b[38;5;28;43mself\u001b[39;49m\u001b[38;5;241;43m.\u001b[39;49m\u001b[43mconv1\u001b[49m\u001b[43m(\u001b[49m\u001b[43mx\u001b[49m\u001b[43m)\u001b[49m\n\u001b[1;32m    269\u001b[0m     x \u001b[38;5;241m=\u001b[39m \u001b[38;5;28mself\u001b[39m\u001b[38;5;241m.\u001b[39mbn1(x)\n\u001b[1;32m    270\u001b[0m     x \u001b[38;5;241m=\u001b[39m \u001b[38;5;28mself\u001b[39m\u001b[38;5;241m.\u001b[39mrelu(x)\n",
      "File \u001b[0;32m~/miniforge3/lib/python3.10/site-packages/torch/nn/modules/module.py:1538\u001b[0m, in \u001b[0;36mModule._call_impl\u001b[0;34m(self, *args, **kwargs)\u001b[0m\n\u001b[1;32m   1535\u001b[0m     bw_hook \u001b[38;5;241m=\u001b[39m hooks\u001b[38;5;241m.\u001b[39mBackwardHook(\u001b[38;5;28mself\u001b[39m, full_backward_hooks, backward_pre_hooks)\n\u001b[1;32m   1536\u001b[0m     args \u001b[38;5;241m=\u001b[39m bw_hook\u001b[38;5;241m.\u001b[39msetup_input_hook(args)\n\u001b[0;32m-> 1538\u001b[0m result \u001b[38;5;241m=\u001b[39m \u001b[43mforward_call\u001b[49m\u001b[43m(\u001b[49m\u001b[38;5;241;43m*\u001b[39;49m\u001b[43margs\u001b[49m\u001b[43m,\u001b[49m\u001b[43m \u001b[49m\u001b[38;5;241;43m*\u001b[39;49m\u001b[38;5;241;43m*\u001b[39;49m\u001b[43mkwargs\u001b[49m\u001b[43m)\u001b[49m\n\u001b[1;32m   1539\u001b[0m \u001b[38;5;28;01mif\u001b[39;00m _global_forward_hooks \u001b[38;5;129;01mor\u001b[39;00m \u001b[38;5;28mself\u001b[39m\u001b[38;5;241m.\u001b[39m_forward_hooks:\n\u001b[1;32m   1540\u001b[0m     \u001b[38;5;28;01mfor\u001b[39;00m hook_id, hook \u001b[38;5;129;01min\u001b[39;00m (\n\u001b[1;32m   1541\u001b[0m         \u001b[38;5;241m*\u001b[39m_global_forward_hooks\u001b[38;5;241m.\u001b[39mitems(),\n\u001b[1;32m   1542\u001b[0m         \u001b[38;5;241m*\u001b[39m\u001b[38;5;28mself\u001b[39m\u001b[38;5;241m.\u001b[39m_forward_hooks\u001b[38;5;241m.\u001b[39mitems(),\n\u001b[1;32m   1543\u001b[0m     ):\n",
      "File \u001b[0;32m~/miniforge3/lib/python3.10/site-packages/torch/nn/modules/conv.py:463\u001b[0m, in \u001b[0;36mConv2d.forward\u001b[0;34m(self, input)\u001b[0m\n\u001b[1;32m    462\u001b[0m \u001b[38;5;28;01mdef\u001b[39;00m \u001b[38;5;21mforward\u001b[39m(\u001b[38;5;28mself\u001b[39m, \u001b[38;5;28minput\u001b[39m: Tensor) \u001b[38;5;241m-\u001b[39m\u001b[38;5;241m>\u001b[39m Tensor:\n\u001b[0;32m--> 463\u001b[0m     \u001b[38;5;28;01mreturn\u001b[39;00m \u001b[38;5;28;43mself\u001b[39;49m\u001b[38;5;241;43m.\u001b[39;49m\u001b[43m_conv_forward\u001b[49m\u001b[43m(\u001b[49m\u001b[38;5;28;43minput\u001b[39;49m\u001b[43m,\u001b[49m\u001b[43m \u001b[49m\u001b[38;5;28;43mself\u001b[39;49m\u001b[38;5;241;43m.\u001b[39;49m\u001b[43mweight\u001b[49m\u001b[43m,\u001b[49m\u001b[43m \u001b[49m\u001b[38;5;28;43mself\u001b[39;49m\u001b[38;5;241;43m.\u001b[39;49m\u001b[43mbias\u001b[49m\u001b[43m)\u001b[49m\n",
      "File \u001b[0;32m~/miniforge3/lib/python3.10/site-packages/torch/nn/modules/conv.py:459\u001b[0m, in \u001b[0;36mConv2d._conv_forward\u001b[0;34m(self, input, weight, bias)\u001b[0m\n\u001b[1;32m    455\u001b[0m \u001b[38;5;28;01mif\u001b[39;00m \u001b[38;5;28mself\u001b[39m\u001b[38;5;241m.\u001b[39mpadding_mode \u001b[38;5;241m!=\u001b[39m \u001b[38;5;124m'\u001b[39m\u001b[38;5;124mzeros\u001b[39m\u001b[38;5;124m'\u001b[39m:\n\u001b[1;32m    456\u001b[0m     \u001b[38;5;28;01mreturn\u001b[39;00m F\u001b[38;5;241m.\u001b[39mconv2d(F\u001b[38;5;241m.\u001b[39mpad(\u001b[38;5;28minput\u001b[39m, \u001b[38;5;28mself\u001b[39m\u001b[38;5;241m.\u001b[39m_reversed_padding_repeated_twice, mode\u001b[38;5;241m=\u001b[39m\u001b[38;5;28mself\u001b[39m\u001b[38;5;241m.\u001b[39mpadding_mode),\n\u001b[1;32m    457\u001b[0m                     weight, bias, \u001b[38;5;28mself\u001b[39m\u001b[38;5;241m.\u001b[39mstride,\n\u001b[1;32m    458\u001b[0m                     _pair(\u001b[38;5;241m0\u001b[39m), \u001b[38;5;28mself\u001b[39m\u001b[38;5;241m.\u001b[39mdilation, \u001b[38;5;28mself\u001b[39m\u001b[38;5;241m.\u001b[39mgroups)\n\u001b[0;32m--> 459\u001b[0m \u001b[38;5;28;01mreturn\u001b[39;00m \u001b[43mF\u001b[49m\u001b[38;5;241;43m.\u001b[39;49m\u001b[43mconv2d\u001b[49m\u001b[43m(\u001b[49m\u001b[38;5;28;43minput\u001b[39;49m\u001b[43m,\u001b[49m\u001b[43m \u001b[49m\u001b[43mweight\u001b[49m\u001b[43m,\u001b[49m\u001b[43m \u001b[49m\u001b[43mbias\u001b[49m\u001b[43m,\u001b[49m\u001b[43m \u001b[49m\u001b[38;5;28;43mself\u001b[39;49m\u001b[38;5;241;43m.\u001b[39;49m\u001b[43mstride\u001b[49m\u001b[43m,\u001b[49m\n\u001b[1;32m    460\u001b[0m \u001b[43m                \u001b[49m\u001b[38;5;28;43mself\u001b[39;49m\u001b[38;5;241;43m.\u001b[39;49m\u001b[43mpadding\u001b[49m\u001b[43m,\u001b[49m\u001b[43m \u001b[49m\u001b[38;5;28;43mself\u001b[39;49m\u001b[38;5;241;43m.\u001b[39;49m\u001b[43mdilation\u001b[49m\u001b[43m,\u001b[49m\u001b[43m \u001b[49m\u001b[38;5;28;43mself\u001b[39;49m\u001b[38;5;241;43m.\u001b[39;49m\u001b[43mgroups\u001b[49m\u001b[43m)\u001b[49m\n",
      "\u001b[0;31mTypeError\u001b[0m: conv2d() received an invalid combination of arguments - got (method, Parameter, NoneType, tuple, tuple, tuple, int), but expected one of:\n * (Tensor input, Tensor weight, Tensor bias, tuple of ints stride, tuple of ints padding, tuple of ints dilation, int groups)\n      didn't match because some of the arguments have invalid types: (!method!, !Parameter!, !NoneType!, !tuple of (int, int)!, !tuple of (int, int)!, !tuple of (int, int)!, int)\n * (Tensor input, Tensor weight, Tensor bias, tuple of ints stride, str padding, tuple of ints dilation, int groups)\n      didn't match because some of the arguments have invalid types: (!method!, !Parameter!, !NoneType!, !tuple of (int, int)!, !tuple of (int, int)!, !tuple of (int, int)!, int)\n"
     ]
    }
   ],
   "source": [
    "flops, _ = thop.profile(model, inputs=(input, ))"
   ]
  },
  {
   "cell_type": "code",
   "execution_count": 2,
   "id": "a91aa726",
   "metadata": {},
   "outputs": [
    {
     "name": "stderr",
     "output_type": "stream",
     "text": [
      "STAGE:2023-04-15 10:48:27 2177:84968 ActivityProfilerController.cpp:311] Completed Stage: Warm Up\n",
      "STAGE:2023-04-15 10:48:36 2177:84968 ActivityProfilerController.cpp:317] Completed Stage: Collection\n",
      "STAGE:2023-04-15 10:48:36 2177:84968 ActivityProfilerController.cpp:321] Completed Stage: Post Processing\n"
     ]
    }
   ],
   "source": [
    "import torch\n",
    "import torchvision.models as models\n",
    "\n",
    "# Load ResNet18 model\n",
    "model = models.inception_v3()\n",
    "\n",
    "# Define an input tensor of the same size as the ResNet18 input\n",
    "input_tensor = torch.rand(64, 3, 299, 299)\n",
    "\n",
    "# Enable autograd profiler\n",
    "with torch.autograd.profiler.profile(use_cuda=False, profile_memory=False) as prof:\n",
    "    # Run a forward pass of the model\n",
    "    model(input_tensor)"
   ]
  },
  {
   "cell_type": "code",
   "execution_count": 3,
   "id": "edfbe883",
   "metadata": {},
   "outputs": [
    {
     "name": "stdout",
     "output_type": "stream",
     "text": [
      "Total FLOPs: -------------------------------------  ------------  ------------  ------------  ------------  ------------  ------------  \n",
      "                                 Name    Self CPU %      Self CPU   CPU total %     CPU total  CPU time avg    # of Calls  \n",
      "-------------------------------------  ------------  ------------  ------------  ------------  ------------  ------------  \n",
      "                         aten::conv2d         0.00%       4.000us         2.86%     251.394ms     251.394ms             1  \n",
      "                    aten::convolution         0.00%      25.000us         2.86%     251.390ms     251.390ms             1  \n",
      "                   aten::_convolution         0.00%      12.000us         2.86%     251.365ms     251.365ms             1  \n",
      "              aten::_nnpack_available         0.00%       0.000us         0.00%       0.000us       0.000us             1  \n",
      "    aten::_nnpack_spatial_convolution         2.86%     251.331ms         2.86%     251.353ms     251.353ms             1  \n",
      "                          aten::empty         0.00%      18.000us         0.00%      18.000us      18.000us             1  \n",
      "                          aten::zeros         0.00%       3.000us         0.00%       4.000us       4.000us             1  \n",
      "                          aten::empty         0.00%       1.000us         0.00%       1.000us       1.000us             1  \n",
      "                          aten::zero_         0.00%       0.000us         0.00%       0.000us       0.000us             1  \n",
      "                           aten::add_         0.00%      13.000us         0.00%      13.000us      13.000us             1  \n",
      "                     aten::batch_norm         0.00%       3.000us         0.31%      27.290ms      27.290ms             1  \n",
      "         aten::_batch_norm_impl_index         0.00%       6.000us         0.31%      27.287ms      27.287ms             1  \n",
      "                          aten::empty         0.00%       1.000us         0.00%       1.000us       1.000us             1  \n",
      "              aten::native_batch_norm         0.31%      27.258ms         0.31%      27.280ms      27.280ms             1  \n",
      "                     aten::empty_like         0.00%       1.000us         0.00%      17.000us      17.000us             1  \n",
      "                          aten::empty         0.00%      16.000us         0.00%      16.000us      16.000us             1  \n",
      "                          aten::empty         0.00%       0.000us         0.00%       0.000us       0.000us             1  \n",
      "                          aten::empty         0.00%       0.000us         0.00%       0.000us       0.000us             1  \n",
      "                          aten::empty         0.00%       0.000us         0.00%       0.000us       0.000us             1  \n",
      "                          aten::empty         0.00%       0.000us         0.00%       0.000us       0.000us             1  \n",
      "                          aten::empty         0.00%       5.000us         0.00%       5.000us       5.000us             1  \n",
      "                          aten::empty         0.00%       0.000us         0.00%       0.000us       0.000us             1  \n",
      "                          aten::relu_         0.00%      37.000us         0.03%       2.516ms       2.516ms             1  \n",
      "                     aten::clamp_min_         0.03%       2.479ms         0.03%       2.479ms       2.479ms             1  \n",
      "                         aten::conv2d         0.00%       3.000us         2.55%     224.156ms     224.156ms             1  \n",
      "                    aten::convolution         0.00%      22.000us         2.55%     224.153ms     224.153ms             1  \n",
      "                   aten::_convolution         0.00%      11.000us         2.55%     224.131ms     224.131ms             1  \n",
      "              aten::_nnpack_available         0.00%       0.000us         0.00%       0.000us       0.000us             1  \n",
      "    aten::_nnpack_spatial_convolution         2.55%     224.089ms         2.55%     224.120ms     224.120ms             1  \n",
      "                          aten::empty         0.00%      27.000us         0.00%      27.000us      27.000us             1  \n",
      "                          aten::zeros         0.00%       3.000us         0.00%       4.000us       4.000us             1  \n",
      "                          aten::empty         0.00%       1.000us         0.00%       1.000us       1.000us             1  \n",
      "                          aten::zero_         0.00%       0.000us         0.00%       0.000us       0.000us             1  \n",
      "                           aten::add_         0.00%      10.000us         0.00%      10.000us      10.000us             1  \n",
      "                     aten::batch_norm         0.00%       3.000us         0.31%      27.496ms      27.496ms             1  \n",
      "         aten::_batch_norm_impl_index         0.00%       7.000us         0.31%      27.493ms      27.493ms             1  \n",
      "                          aten::empty         0.00%       1.000us         0.00%       1.000us       1.000us             1  \n",
      "              aten::native_batch_norm         0.31%      27.461ms         0.31%      27.485ms      27.485ms             1  \n",
      "                     aten::empty_like         0.00%       1.000us         0.00%      18.000us      18.000us             1  \n",
      "                          aten::empty         0.00%      17.000us         0.00%      17.000us      17.000us             1  \n",
      "                          aten::empty         0.00%       0.000us         0.00%       0.000us       0.000us             1  \n",
      "                          aten::empty         0.00%       0.000us         0.00%       0.000us       0.000us             1  \n",
      "                          aten::empty         0.00%       0.000us         0.00%       0.000us       0.000us             1  \n",
      "                          aten::empty         0.00%       0.000us         0.00%       0.000us       0.000us             1  \n",
      "                          aten::empty         0.00%       6.000us         0.00%       6.000us       6.000us             1  \n",
      "                          aten::empty         0.00%       0.000us         0.00%       0.000us       0.000us             1  \n",
      "                          aten::relu_         0.00%      40.000us         0.03%       2.437ms       2.437ms             1  \n",
      "                     aten::clamp_min_         0.03%       2.397ms         0.03%       2.397ms       2.397ms             1  \n",
      "                         aten::conv2d         0.00%       4.000us         4.01%     352.239ms     352.239ms             1  \n",
      "                    aten::convolution         0.00%      14.000us         4.01%     352.235ms     352.235ms             1  \n",
      "                   aten::_convolution         0.00%      10.000us         4.01%     352.221ms     352.221ms             1  \n",
      "              aten::_nnpack_available         0.00%       0.000us         0.00%       0.000us       0.000us             1  \n",
      "    aten::_nnpack_spatial_convolution         4.01%     352.181ms         4.01%     352.211ms     352.211ms             1  \n",
      "                          aten::empty         0.00%      26.000us         0.00%      26.000us      26.000us             1  \n",
      "                          aten::zeros         0.00%       4.000us         0.00%       4.000us       4.000us             1  \n",
      "                          aten::empty         0.00%       0.000us         0.00%       0.000us       0.000us             1  \n",
      "                          aten::zero_         0.00%       0.000us         0.00%       0.000us       0.000us             1  \n",
      "                           aten::add_         0.00%      10.000us         0.00%      10.000us      10.000us             1  \n",
      "                     aten::batch_norm         0.00%       3.000us         0.55%      48.011ms      48.011ms             1  \n",
      "         aten::_batch_norm_impl_index         0.00%       8.000us         0.55%      48.008ms      48.008ms             1  \n",
      "                          aten::empty         0.00%       1.000us         0.00%       1.000us       1.000us             1  \n",
      "              aten::native_batch_norm         0.55%      47.974ms         0.55%      47.999ms      47.999ms             1  \n",
      "                     aten::empty_like         0.00%       1.000us         0.00%      17.000us      17.000us             1  \n",
      "                          aten::empty         0.00%      16.000us         0.00%      16.000us      16.000us             1  \n",
      "                          aten::empty         0.00%       0.000us         0.00%       0.000us       0.000us             1  \n",
      "                          aten::empty         0.00%       0.000us         0.00%       0.000us       0.000us             1  \n",
      "                          aten::empty         0.00%       0.000us         0.00%       0.000us       0.000us             1  \n",
      "                          aten::empty         0.00%       0.000us         0.00%       0.000us       0.000us             1  \n",
      "                          aten::empty         0.00%       7.000us         0.00%       7.000us       7.000us             1  \n",
      "                          aten::empty         0.00%       1.000us         0.00%       1.000us       1.000us             1  \n",
      "                          aten::relu_         0.00%      28.000us         0.12%      10.793ms      10.793ms             1  \n",
      "                     aten::clamp_min_         0.12%      10.765ms         0.12%      10.765ms      10.765ms             1  \n",
      "                     aten::max_pool2d         0.00%      11.000us         1.37%     119.927ms     119.927ms             1  \n",
      "        aten::max_pool2d_with_indices         1.37%     119.916ms         1.37%     119.916ms     119.916ms             1  \n",
      "                         aten::conv2d         0.00%       4.000us         2.07%     181.238ms     181.238ms             1  \n",
      "                    aten::convolution         0.00%      28.000us         2.07%     181.234ms     181.234ms             1  \n",
      "                   aten::_convolution         0.00%      11.000us         2.06%     181.206ms     181.206ms             1  \n",
      "              aten::_nnpack_available         0.00%       0.000us         0.00%       0.000us       0.000us             1  \n",
      "    aten::_nnpack_spatial_convolution         2.06%     181.177ms         2.06%     181.195ms     181.195ms             1  \n",
      "                          aten::empty         0.00%      14.000us         0.00%      14.000us      14.000us             1  \n",
      "                          aten::zeros         0.00%       3.000us         0.00%       4.000us       4.000us             1  \n",
      "                          aten::empty         0.00%       1.000us         0.00%       1.000us       1.000us             1  \n",
      "                          aten::zero_         0.00%       0.000us         0.00%       0.000us       0.000us             1  \n",
      "                           aten::add_         0.00%      10.000us         0.00%      10.000us      10.000us             1  \n",
      "                     aten::batch_norm         0.00%       3.000us         0.98%      86.220ms      86.220ms             1  \n",
      "         aten::_batch_norm_impl_index         0.00%       8.000us         0.98%      86.217ms      86.217ms             1  \n",
      "                          aten::empty         0.00%       1.000us         0.00%       1.000us       1.000us             1  \n",
      "              aten::native_batch_norm         0.98%      86.174ms         0.98%      86.208ms      86.208ms             1  \n",
      "                     aten::empty_like         0.00%       1.000us         0.00%      14.000us      14.000us             1  \n",
      "                          aten::empty         0.00%      13.000us         0.00%      13.000us      13.000us             1  \n",
      "                          aten::empty         0.00%       0.000us         0.00%       0.000us       0.000us             1  \n",
      "                          aten::empty         0.00%       8.000us         0.00%       8.000us       8.000us             1  \n",
      "                          aten::empty         0.00%       5.000us         0.00%       5.000us       5.000us             1  \n",
      "                          aten::empty         0.00%       0.000us         0.00%       0.000us       0.000us             1  \n",
      "                          aten::empty         0.00%       7.000us         0.00%       7.000us       7.000us             1  \n",
      "                          aten::empty         0.00%       0.000us         0.00%       0.000us       0.000us             1  \n",
      "                          aten::relu_         0.01%     522.000us         0.05%       4.589ms       4.589ms             1  \n",
      "                     aten::clamp_min_         0.05%       4.067ms         0.05%       4.067ms       4.067ms             1  \n",
      "                         aten::conv2d         0.00%       4.000us         4.99%     438.015ms     438.015ms             1  \n",
      "                    aten::convolution         0.00%      30.000us         4.99%     438.011ms     438.011ms             1  \n",
      "-------------------------------------  ------------  ------------  ------------  ------------  ------------  ------------  \n",
      "Self CPU time total: 8.775s\n",
      "\n"
     ]
    }
   ],
   "source": [
    "print(f\"Total FLOPs: {prof}\")"
   ]
  },
  {
   "cell_type": "code",
   "execution_count": 13,
   "id": "5cd799ab",
   "metadata": {},
   "outputs": [],
   "source": [
    "import psutil"
   ]
  },
  {
   "cell_type": "code",
   "execution_count": 19,
   "id": "3d5c6fd2",
   "metadata": {},
   "outputs": [
    {
     "ename": "FileNotFoundError",
     "evalue": "[Errno 2] No such file or directory (originated from sysctl(HW_CPU_FREQ))",
     "output_type": "error",
     "traceback": [
      "\u001b[0;31m---------------------------------------------------------------------------\u001b[0m",
      "\u001b[0;31mFileNotFoundError\u001b[0m                         Traceback (most recent call last)",
      "Cell \u001b[0;32mIn[19], line 1\u001b[0m\n\u001b[0;32m----> 1\u001b[0m cpu_freq \u001b[38;5;241m=\u001b[39m \u001b[43mpsutil\u001b[49m\u001b[38;5;241;43m.\u001b[39;49m\u001b[43mcpu_freq\u001b[49m\u001b[43m(\u001b[49m\u001b[43m)\u001b[49m\n",
      "File \u001b[0;32m~/miniforge3/lib/python3.10/site-packages/psutil/__init__.py:1867\u001b[0m, in \u001b[0;36mcpu_freq\u001b[0;34m(percpu)\u001b[0m\n\u001b[1;32m   1859\u001b[0m \u001b[38;5;28;01mdef\u001b[39;00m \u001b[38;5;21mcpu_freq\u001b[39m(percpu\u001b[38;5;241m=\u001b[39m\u001b[38;5;28;01mFalse\u001b[39;00m):\n\u001b[1;32m   1860\u001b[0m \u001b[38;5;250m    \u001b[39m\u001b[38;5;124;03m\"\"\"Return CPU frequency as a namedtuple including current,\u001b[39;00m\n\u001b[1;32m   1861\u001b[0m \u001b[38;5;124;03m    min and max frequency expressed in Mhz.\u001b[39;00m\n\u001b[1;32m   1862\u001b[0m \n\u001b[0;32m   (...)\u001b[0m\n\u001b[1;32m   1865\u001b[0m \u001b[38;5;124;03m    each CPU. If not a list with one element is returned.\u001b[39;00m\n\u001b[1;32m   1866\u001b[0m \u001b[38;5;124;03m    \"\"\"\u001b[39;00m\n\u001b[0;32m-> 1867\u001b[0m     ret \u001b[38;5;241m=\u001b[39m \u001b[43m_psplatform\u001b[49m\u001b[38;5;241;43m.\u001b[39;49m\u001b[43mcpu_freq\u001b[49m\u001b[43m(\u001b[49m\u001b[43m)\u001b[49m\n\u001b[1;32m   1868\u001b[0m     \u001b[38;5;28;01mif\u001b[39;00m percpu:\n\u001b[1;32m   1869\u001b[0m         \u001b[38;5;28;01mreturn\u001b[39;00m ret\n",
      "File \u001b[0;32m~/miniforge3/lib/python3.10/site-packages/psutil/_psosx.py:179\u001b[0m, in \u001b[0;36mcpu_freq\u001b[0;34m()\u001b[0m\n\u001b[1;32m    173\u001b[0m \u001b[38;5;28;01mdef\u001b[39;00m \u001b[38;5;21mcpu_freq\u001b[39m():\n\u001b[1;32m    174\u001b[0m \u001b[38;5;250m    \u001b[39m\u001b[38;5;124;03m\"\"\"Return CPU frequency.\u001b[39;00m\n\u001b[1;32m    175\u001b[0m \u001b[38;5;124;03m    On macOS per-cpu frequency is not supported.\u001b[39;00m\n\u001b[1;32m    176\u001b[0m \u001b[38;5;124;03m    Also, the returned frequency never changes, see:\u001b[39;00m\n\u001b[1;32m    177\u001b[0m \u001b[38;5;124;03m    https://arstechnica.com/civis/viewtopic.php?f=19&t=465002\u001b[39;00m\n\u001b[1;32m    178\u001b[0m \u001b[38;5;124;03m    \"\"\"\u001b[39;00m\n\u001b[0;32m--> 179\u001b[0m     curr, min_, max_ \u001b[38;5;241m=\u001b[39m \u001b[43mcext\u001b[49m\u001b[38;5;241;43m.\u001b[39;49m\u001b[43mcpu_freq\u001b[49m\u001b[43m(\u001b[49m\u001b[43m)\u001b[49m\n\u001b[1;32m    180\u001b[0m     \u001b[38;5;28;01mreturn\u001b[39;00m [_common\u001b[38;5;241m.\u001b[39mscpufreq(curr, min_, max_)]\n",
      "\u001b[0;31mFileNotFoundError\u001b[0m: [Errno 2] No such file or directory (originated from sysctl(HW_CPU_FREQ))"
     ]
    }
   ],
   "source": [
    "cpu_freq = psutil.cpu_freq()"
   ]
  },
  {
   "cell_type": "code",
   "execution_count": 17,
   "id": "4ea50e69",
   "metadata": {},
   "outputs": [
    {
     "name": "stdout",
     "output_type": "stream",
     "text": [
      "<function cpu_freq at 0x103c643a0>\n"
     ]
    }
   ],
   "source": [
    "print(cpu_freq)"
   ]
  },
  {
   "cell_type": "code",
   "execution_count": 18,
   "id": "83cd389f",
   "metadata": {},
   "outputs": [
    {
     "ename": "AttributeError",
     "evalue": "'function' object has no attribute 'current'",
     "output_type": "error",
     "traceback": [
      "\u001b[0;31m---------------------------------------------------------------------------\u001b[0m",
      "\u001b[0;31mAttributeError\u001b[0m                            Traceback (most recent call last)",
      "Cell \u001b[0;32mIn[18], line 1\u001b[0m\n\u001b[0;32m----> 1\u001b[0m \u001b[38;5;28mprint\u001b[39m(\u001b[38;5;124mf\u001b[39m\u001b[38;5;124m\"\u001b[39m\u001b[38;5;124mCurrent CPU frequency: \u001b[39m\u001b[38;5;132;01m{\u001b[39;00mcpu_freq\u001b[38;5;241m.\u001b[39mcurrent\u001b[38;5;132;01m:\u001b[39;00m\u001b[38;5;124m.2f\u001b[39m\u001b[38;5;132;01m}\u001b[39;00m\u001b[38;5;124m MHz\u001b[39m\u001b[38;5;124m\"\u001b[39m)\n",
      "\u001b[0;31mAttributeError\u001b[0m: 'function' object has no attribute 'current'"
     ]
    }
   ],
   "source": [
    "cpu_freq."
   ]
  },
  {
   "cell_type": "code",
   "execution_count": null,
   "id": "8db50d94",
   "metadata": {},
   "outputs": [],
   "source": []
  }
 ],
 "metadata": {
  "kernelspec": {
   "display_name": "Python 3 (ipykernel)",
   "language": "python",
   "name": "python3"
  },
  "language_info": {
   "codemirror_mode": {
    "name": "ipython",
    "version": 3
   },
   "file_extension": ".py",
   "mimetype": "text/x-python",
   "name": "python",
   "nbconvert_exporter": "python",
   "pygments_lexer": "ipython3",
   "version": "3.10.10"
  }
 },
 "nbformat": 4,
 "nbformat_minor": 5
}
