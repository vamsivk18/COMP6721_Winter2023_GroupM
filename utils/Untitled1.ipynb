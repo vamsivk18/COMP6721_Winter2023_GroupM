{
 "cells": [
  {
   "cell_type": "code",
   "execution_count": 1,
   "id": "8f7e0647",
   "metadata": {},
   "outputs": [],
   "source": [
    "import torch\n",
    "import torchvision.transforms as transforms\n",
    "from torchvision.datasets import ImageFolder\n",
    "import matplotlib.pyplot as plt"
   ]
  },
  {
   "cell_type": "code",
   "execution_count": 2,
   "id": "acf703a8",
   "metadata": {},
   "outputs": [],
   "source": [
    "transform = transforms.Compose([\n",
    "    transforms.Resize((224, 224)),\n",
    "    transforms.ToTensor()\n",
    "])"
   ]
  },
  {
   "cell_type": "code",
   "execution_count": 4,
   "id": "9cec8f42",
   "metadata": {},
   "outputs": [],
   "source": [
    "dataset = ImageFolder('../Datasets/dataset_2_classes/test/', transform=transform)"
   ]
  },
  {
   "cell_type": "code",
   "execution_count": 5,
   "id": "8922a80f",
   "metadata": {},
   "outputs": [],
   "source": [
    "class_mean = []\n",
    "class_std = []\n",
    "for i in range(len(dataset.classes)):\n",
    "    class_mean.append(0)\n",
    "    class_std.append(0)"
   ]
  },
  {
   "cell_type": "code",
   "execution_count": 6,
   "id": "b95cf8ef",
   "metadata": {},
   "outputs": [],
   "source": [
    "for image, label in dataset:\n",
    "    class_mean[label] += image.mean()\n",
    "    class_std[label] += image.std()"
   ]
  },
  {
   "cell_type": "code",
   "execution_count": 7,
   "id": "eaf7b92a",
   "metadata": {},
   "outputs": [],
   "source": [
    "for i in range(len(dataset.classes)):\n",
    "    class_mean[i] /= dataset.targets.count(i)\n",
    "    class_std[i] /= dataset.targets.count(i)"
   ]
  },
  {
   "cell_type": "code",
   "execution_count": 8,
   "id": "f0cabd78",
   "metadata": {},
   "outputs": [
    {
     "name": "stdout",
     "output_type": "stream",
     "text": [
      "[tensor(0.4487), tensor(0.4467)]\n"
     ]
    }
   ],
   "source": [
    "print(class_mean)"
   ]
  },
  {
   "cell_type": "code",
   "execution_count": 9,
   "id": "3db4167a",
   "metadata": {},
   "outputs": [
    {
     "name": "stdout",
     "output_type": "stream",
     "text": [
      "[tensor(0.1734), tensor(0.1688)]\n"
     ]
    }
   ],
   "source": [
    "print(class_std)"
   ]
  },
  {
   "cell_type": "code",
   "execution_count": 10,
   "id": "3ef3d657",
   "metadata": {},
   "outputs": [
    {
     "name": "stdout",
     "output_type": "stream",
     "text": [
      "tensor(0.4477)\n"
     ]
    }
   ],
   "source": [
    "print(sum(class_mean)/len(class_mean))"
   ]
  },
  {
   "cell_type": "code",
   "execution_count": 11,
   "id": "31342b38",
   "metadata": {},
   "outputs": [
    {
     "name": "stdout",
     "output_type": "stream",
     "text": [
      "tensor(0.1711)\n"
     ]
    }
   ],
   "source": [
    "print(sum(class_std)/len(class_std))"
   ]
  },
  {
   "cell_type": "code",
   "execution_count": null,
   "id": "ba63d8e5",
   "metadata": {},
   "outputs": [],
   "source": []
  }
 ],
 "metadata": {
  "kernelspec": {
   "display_name": "Python 3 (ipykernel)",
   "language": "python",
   "name": "python3"
  },
  "language_info": {
   "codemirror_mode": {
    "name": "ipython",
    "version": 3
   },
   "file_extension": ".py",
   "mimetype": "text/x-python",
   "name": "python",
   "nbconvert_exporter": "python",
   "pygments_lexer": "ipython3",
   "version": "3.10.10"
  }
 },
 "nbformat": 4,
 "nbformat_minor": 5
}
